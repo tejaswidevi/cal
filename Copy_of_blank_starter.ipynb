{
  "nbformat": 4,
  "nbformat_minor": 0,
  "metadata": {
    "kernelspec": {
      "display_name": "Python 3",
      "language": "python",
      "name": "python3"
    },
    "language_info": {
      "codemirror_mode": {
        "name": "ipython",
        "version": 3
      },
      "file_extension": ".py",
      "mimetype": "text/x-python",
      "name": "python",
      "nbconvert_exporter": "python",
      "pygments_lexer": "ipython3",
      "version": "3.7.6"
    },
    "colab": {
      "name": "Copy of blank-starter.ipynb",
      "provenance": [],
      "include_colab_link": true
    }
  },
  "cells": [
    {
      "cell_type": "markdown",
      "metadata": {
        "id": "view-in-github",
        "colab_type": "text"
      },
      "source": [
        "<a href=\"https://colab.research.google.com/github/tejaswidevi/cal/blob/main/Copy_of_blank_starter.ipynb\" target=\"_parent\"><img src=\"https://colab.research.google.com/assets/colab-badge.svg\" alt=\"Open In Colab\"/></a>"
      ]
    },
    {
      "cell_type": "code",
      "metadata": {
        "id": "KO4n_WkGefHy"
      },
      "source": [
        "# Jovian Commit Essentials\n",
        "# Please retain and execute this cell without modifying the contents for `jovian.commit` to work\n",
        "!pip install jovian --upgrade -q\n",
        "import jovian\n",
        "jovian.set_project('us-accidents-analysis-2a0ab')\n",
        "jovian.set_colab_id('1Sel3ak9A4yj3pptFpnCmWHBTCDRvnc8h')"
      ],
      "execution_count": null,
      "outputs": []
    },
    {
      "cell_type": "code",
      "metadata": {
        "id": "JipV4bm2efH4"
      },
      "source": [
        "!pip install jovian --upgrade --quiet"
      ],
      "execution_count": null,
      "outputs": []
    },
    {
      "cell_type": "markdown",
      "metadata": {
        "id": "B92DpPd0fLmp"
      },
      "source": [
        "# US Accidents Exploratory Data Analysis\n",
        "**TODO - talk about EDA**\n",
        "\n",
        "T***ODO - talk about the dataset (source, what it contains, how it will be useful)***\n",
        "\n",
        "    -Kaggle\n",
        "    -informaiton about accidents\n",
        "    -can use useful to prevent accidents\n",
        "    -mention that this does not contain data about New York "
      ]
    },
    {
      "cell_type": "code",
      "metadata": {
        "id": "FS8EI8qhefH5"
      },
      "source": [
        "pip install opendatasets --upgrade --quiet"
      ],
      "execution_count": null,
      "outputs": []
    },
    {
      "cell_type": "code",
      "metadata": {
        "colab": {
          "base_uri": "https://localhost:8080/"
        },
        "id": "eP-7cPq9eoAz",
        "outputId": "a2884e32-6f99-4f9a-8a09-331e8fa0fd44"
      },
      "source": [
        "import opendatasets as od\n",
        "\n",
        "download_url ='https://www.kaggle.com/sobhanmoosavi/us-accidents'\n",
        "\n",
        "od.download(download_url)\n",
        "\n"
      ],
      "execution_count": null,
      "outputs": [
        {
          "output_type": "stream",
          "text": [
            "Please provide your Kaggle credentials to download this dataset. Learn more: http://bit.ly/kaggle-creds\n",
            "Your Kaggle username: penmatsatejaswi\n",
            "Your Kaggle Key: ··········\n"
          ],
          "name": "stdout"
        },
        {
          "output_type": "stream",
          "text": [
            "  2%|▏         | 5.00M/299M [00:00<00:10, 28.1MB/s]"
          ],
          "name": "stderr"
        },
        {
          "output_type": "stream",
          "text": [
            "Downloading us-accidents.zip to ./us-accidents\n"
          ],
          "name": "stdout"
        },
        {
          "output_type": "stream",
          "text": [
            "100%|██████████| 299M/299M [00:03<00:00, 81.1MB/s]\n"
          ],
          "name": "stderr"
        },
        {
          "output_type": "stream",
          "text": [
            "\n"
          ],
          "name": "stdout"
        }
      ]
    },
    {
      "cell_type": "code",
      "metadata": {
        "id": "GdYA-ngWfyYt"
      },
      "source": [
        "data_filename = './us-accidents/US_Accidents_Dec20.csv'"
      ],
      "execution_count": null,
      "outputs": []
    },
    {
      "cell_type": "markdown",
      "metadata": {
        "id": "IGAIMFQhf4_r"
      },
      "source": [
        "# **Data Preparation and Cleaning**\n",
        "    1.Load the file using Pandas\n",
        "    2.Look at some information about the data & the columns\n",
        "    3.Fix any missing or incorrect values"
      ]
    },
    {
      "cell_type": "code",
      "metadata": {
        "id": "9DHLYLRfgFiH"
      },
      "source": [
        "import pandas as pd"
      ],
      "execution_count": null,
      "outputs": []
    },
    {
      "cell_type": "code",
      "metadata": {
        "id": "BpE80EujgJcF"
      },
      "source": [
        "df = pd.read_csv(data_filename)"
      ],
      "execution_count": null,
      "outputs": []
    },
    {
      "cell_type": "code",
      "metadata": {
        "colab": {
          "base_uri": "https://localhost:8080/",
          "height": 993
        },
        "id": "iPPigY6EgOPp",
        "outputId": "f92c588e-3259-481b-f1d7-1ea7f868d724"
      },
      "source": [
        "df"
      ],
      "execution_count": null,
      "outputs": [
        {
          "output_type": "execute_result",
          "data": {
            "text/html": [
              "<div>\n",
              "<style scoped>\n",
              "    .dataframe tbody tr th:only-of-type {\n",
              "        vertical-align: middle;\n",
              "    }\n",
              "\n",
              "    .dataframe tbody tr th {\n",
              "        vertical-align: top;\n",
              "    }\n",
              "\n",
              "    .dataframe thead th {\n",
              "        text-align: right;\n",
              "    }\n",
              "</style>\n",
              "<table border=\"1\" class=\"dataframe\">\n",
              "  <thead>\n",
              "    <tr style=\"text-align: right;\">\n",
              "      <th></th>\n",
              "      <th>ID</th>\n",
              "      <th>Source</th>\n",
              "      <th>TMC</th>\n",
              "      <th>Severity</th>\n",
              "      <th>Start_Time</th>\n",
              "      <th>End_Time</th>\n",
              "      <th>Start_Lat</th>\n",
              "      <th>Start_Lng</th>\n",
              "      <th>End_Lat</th>\n",
              "      <th>End_Lng</th>\n",
              "      <th>Distance(mi)</th>\n",
              "      <th>Description</th>\n",
              "      <th>Number</th>\n",
              "      <th>Street</th>\n",
              "      <th>Side</th>\n",
              "      <th>City</th>\n",
              "      <th>County</th>\n",
              "      <th>State</th>\n",
              "      <th>Zipcode</th>\n",
              "      <th>Country</th>\n",
              "      <th>Timezone</th>\n",
              "      <th>Airport_Code</th>\n",
              "      <th>Weather_Timestamp</th>\n",
              "      <th>Temperature(F)</th>\n",
              "      <th>Wind_Chill(F)</th>\n",
              "      <th>Humidity(%)</th>\n",
              "      <th>Pressure(in)</th>\n",
              "      <th>Visibility(mi)</th>\n",
              "      <th>Wind_Direction</th>\n",
              "      <th>Wind_Speed(mph)</th>\n",
              "      <th>Precipitation(in)</th>\n",
              "      <th>Weather_Condition</th>\n",
              "      <th>Amenity</th>\n",
              "      <th>Bump</th>\n",
              "      <th>Crossing</th>\n",
              "      <th>Give_Way</th>\n",
              "      <th>Junction</th>\n",
              "      <th>No_Exit</th>\n",
              "      <th>Railway</th>\n",
              "      <th>Roundabout</th>\n",
              "      <th>Station</th>\n",
              "      <th>Stop</th>\n",
              "      <th>Traffic_Calming</th>\n",
              "      <th>Traffic_Signal</th>\n",
              "      <th>Turning_Loop</th>\n",
              "      <th>Sunrise_Sunset</th>\n",
              "      <th>Civil_Twilight</th>\n",
              "      <th>Nautical_Twilight</th>\n",
              "      <th>Astronomical_Twilight</th>\n",
              "    </tr>\n",
              "  </thead>\n",
              "  <tbody>\n",
              "    <tr>\n",
              "      <th>0</th>\n",
              "      <td>A-1</td>\n",
              "      <td>MapQuest</td>\n",
              "      <td>201.0</td>\n",
              "      <td>3</td>\n",
              "      <td>2016-02-08 05:46:00</td>\n",
              "      <td>2016-02-08 11:00:00</td>\n",
              "      <td>39.865147</td>\n",
              "      <td>-84.058723</td>\n",
              "      <td>NaN</td>\n",
              "      <td>NaN</td>\n",
              "      <td>0.010</td>\n",
              "      <td>Right lane blocked due to accident on I-70 Eas...</td>\n",
              "      <td>NaN</td>\n",
              "      <td>I-70 E</td>\n",
              "      <td>R</td>\n",
              "      <td>Dayton</td>\n",
              "      <td>Montgomery</td>\n",
              "      <td>OH</td>\n",
              "      <td>45424</td>\n",
              "      <td>US</td>\n",
              "      <td>US/Eastern</td>\n",
              "      <td>KFFO</td>\n",
              "      <td>2016-02-08 05:58:00</td>\n",
              "      <td>36.9</td>\n",
              "      <td>NaN</td>\n",
              "      <td>91.0</td>\n",
              "      <td>29.68</td>\n",
              "      <td>10.0</td>\n",
              "      <td>Calm</td>\n",
              "      <td>NaN</td>\n",
              "      <td>0.02</td>\n",
              "      <td>Light Rain</td>\n",
              "      <td>False</td>\n",
              "      <td>False</td>\n",
              "      <td>False</td>\n",
              "      <td>False</td>\n",
              "      <td>False</td>\n",
              "      <td>False</td>\n",
              "      <td>False</td>\n",
              "      <td>False</td>\n",
              "      <td>False</td>\n",
              "      <td>False</td>\n",
              "      <td>False</td>\n",
              "      <td>False</td>\n",
              "      <td>False</td>\n",
              "      <td>Night</td>\n",
              "      <td>Night</td>\n",
              "      <td>Night</td>\n",
              "      <td>Night</td>\n",
              "    </tr>\n",
              "    <tr>\n",
              "      <th>1</th>\n",
              "      <td>A-2</td>\n",
              "      <td>MapQuest</td>\n",
              "      <td>201.0</td>\n",
              "      <td>2</td>\n",
              "      <td>2016-02-08 06:07:59</td>\n",
              "      <td>2016-02-08 06:37:59</td>\n",
              "      <td>39.928059</td>\n",
              "      <td>-82.831184</td>\n",
              "      <td>NaN</td>\n",
              "      <td>NaN</td>\n",
              "      <td>0.010</td>\n",
              "      <td>Accident on Brice Rd at Tussing Rd. Expect del...</td>\n",
              "      <td>2584.0</td>\n",
              "      <td>Brice Rd</td>\n",
              "      <td>L</td>\n",
              "      <td>Reynoldsburg</td>\n",
              "      <td>Franklin</td>\n",
              "      <td>OH</td>\n",
              "      <td>43068-3402</td>\n",
              "      <td>US</td>\n",
              "      <td>US/Eastern</td>\n",
              "      <td>KCMH</td>\n",
              "      <td>2016-02-08 05:51:00</td>\n",
              "      <td>37.9</td>\n",
              "      <td>NaN</td>\n",
              "      <td>100.0</td>\n",
              "      <td>29.65</td>\n",
              "      <td>10.0</td>\n",
              "      <td>Calm</td>\n",
              "      <td>NaN</td>\n",
              "      <td>0.00</td>\n",
              "      <td>Light Rain</td>\n",
              "      <td>False</td>\n",
              "      <td>False</td>\n",
              "      <td>False</td>\n",
              "      <td>False</td>\n",
              "      <td>False</td>\n",
              "      <td>False</td>\n",
              "      <td>False</td>\n",
              "      <td>False</td>\n",
              "      <td>False</td>\n",
              "      <td>False</td>\n",
              "      <td>False</td>\n",
              "      <td>False</td>\n",
              "      <td>False</td>\n",
              "      <td>Night</td>\n",
              "      <td>Night</td>\n",
              "      <td>Night</td>\n",
              "      <td>Day</td>\n",
              "    </tr>\n",
              "    <tr>\n",
              "      <th>2</th>\n",
              "      <td>A-3</td>\n",
              "      <td>MapQuest</td>\n",
              "      <td>201.0</td>\n",
              "      <td>2</td>\n",
              "      <td>2016-02-08 06:49:27</td>\n",
              "      <td>2016-02-08 07:19:27</td>\n",
              "      <td>39.063148</td>\n",
              "      <td>-84.032608</td>\n",
              "      <td>NaN</td>\n",
              "      <td>NaN</td>\n",
              "      <td>0.010</td>\n",
              "      <td>Accident on OH-32 State Route 32 Westbound at ...</td>\n",
              "      <td>NaN</td>\n",
              "      <td>State Route 32</td>\n",
              "      <td>R</td>\n",
              "      <td>Williamsburg</td>\n",
              "      <td>Clermont</td>\n",
              "      <td>OH</td>\n",
              "      <td>45176</td>\n",
              "      <td>US</td>\n",
              "      <td>US/Eastern</td>\n",
              "      <td>KI69</td>\n",
              "      <td>2016-02-08 06:56:00</td>\n",
              "      <td>36.0</td>\n",
              "      <td>33.3</td>\n",
              "      <td>100.0</td>\n",
              "      <td>29.67</td>\n",
              "      <td>10.0</td>\n",
              "      <td>SW</td>\n",
              "      <td>3.5</td>\n",
              "      <td>NaN</td>\n",
              "      <td>Overcast</td>\n",
              "      <td>False</td>\n",
              "      <td>False</td>\n",
              "      <td>False</td>\n",
              "      <td>False</td>\n",
              "      <td>False</td>\n",
              "      <td>False</td>\n",
              "      <td>False</td>\n",
              "      <td>False</td>\n",
              "      <td>False</td>\n",
              "      <td>False</td>\n",
              "      <td>False</td>\n",
              "      <td>True</td>\n",
              "      <td>False</td>\n",
              "      <td>Night</td>\n",
              "      <td>Night</td>\n",
              "      <td>Day</td>\n",
              "      <td>Day</td>\n",
              "    </tr>\n",
              "    <tr>\n",
              "      <th>3</th>\n",
              "      <td>A-4</td>\n",
              "      <td>MapQuest</td>\n",
              "      <td>201.0</td>\n",
              "      <td>3</td>\n",
              "      <td>2016-02-08 07:23:34</td>\n",
              "      <td>2016-02-08 07:53:34</td>\n",
              "      <td>39.747753</td>\n",
              "      <td>-84.205582</td>\n",
              "      <td>NaN</td>\n",
              "      <td>NaN</td>\n",
              "      <td>0.010</td>\n",
              "      <td>Accident on I-75 Southbound at Exits 52 52B US...</td>\n",
              "      <td>NaN</td>\n",
              "      <td>I-75 S</td>\n",
              "      <td>R</td>\n",
              "      <td>Dayton</td>\n",
              "      <td>Montgomery</td>\n",
              "      <td>OH</td>\n",
              "      <td>45417</td>\n",
              "      <td>US</td>\n",
              "      <td>US/Eastern</td>\n",
              "      <td>KDAY</td>\n",
              "      <td>2016-02-08 07:38:00</td>\n",
              "      <td>35.1</td>\n",
              "      <td>31.0</td>\n",
              "      <td>96.0</td>\n",
              "      <td>29.64</td>\n",
              "      <td>9.0</td>\n",
              "      <td>SW</td>\n",
              "      <td>4.6</td>\n",
              "      <td>NaN</td>\n",
              "      <td>Mostly Cloudy</td>\n",
              "      <td>False</td>\n",
              "      <td>False</td>\n",
              "      <td>False</td>\n",
              "      <td>False</td>\n",
              "      <td>False</td>\n",
              "      <td>False</td>\n",
              "      <td>False</td>\n",
              "      <td>False</td>\n",
              "      <td>False</td>\n",
              "      <td>False</td>\n",
              "      <td>False</td>\n",
              "      <td>False</td>\n",
              "      <td>False</td>\n",
              "      <td>Night</td>\n",
              "      <td>Day</td>\n",
              "      <td>Day</td>\n",
              "      <td>Day</td>\n",
              "    </tr>\n",
              "    <tr>\n",
              "      <th>4</th>\n",
              "      <td>A-5</td>\n",
              "      <td>MapQuest</td>\n",
              "      <td>201.0</td>\n",
              "      <td>2</td>\n",
              "      <td>2016-02-08 07:39:07</td>\n",
              "      <td>2016-02-08 08:09:07</td>\n",
              "      <td>39.627781</td>\n",
              "      <td>-84.188354</td>\n",
              "      <td>NaN</td>\n",
              "      <td>NaN</td>\n",
              "      <td>0.010</td>\n",
              "      <td>Accident on McEwen Rd at OH-725 Miamisburg Cen...</td>\n",
              "      <td>NaN</td>\n",
              "      <td>Miamisburg Centerville Rd</td>\n",
              "      <td>R</td>\n",
              "      <td>Dayton</td>\n",
              "      <td>Montgomery</td>\n",
              "      <td>OH</td>\n",
              "      <td>45459</td>\n",
              "      <td>US</td>\n",
              "      <td>US/Eastern</td>\n",
              "      <td>KMGY</td>\n",
              "      <td>2016-02-08 07:53:00</td>\n",
              "      <td>36.0</td>\n",
              "      <td>33.3</td>\n",
              "      <td>89.0</td>\n",
              "      <td>29.65</td>\n",
              "      <td>6.0</td>\n",
              "      <td>SW</td>\n",
              "      <td>3.5</td>\n",
              "      <td>NaN</td>\n",
              "      <td>Mostly Cloudy</td>\n",
              "      <td>False</td>\n",
              "      <td>False</td>\n",
              "      <td>False</td>\n",
              "      <td>False</td>\n",
              "      <td>False</td>\n",
              "      <td>False</td>\n",
              "      <td>False</td>\n",
              "      <td>False</td>\n",
              "      <td>False</td>\n",
              "      <td>False</td>\n",
              "      <td>False</td>\n",
              "      <td>True</td>\n",
              "      <td>False</td>\n",
              "      <td>Day</td>\n",
              "      <td>Day</td>\n",
              "      <td>Day</td>\n",
              "      <td>Day</td>\n",
              "    </tr>\n",
              "    <tr>\n",
              "      <th>...</th>\n",
              "      <td>...</td>\n",
              "      <td>...</td>\n",
              "      <td>...</td>\n",
              "      <td>...</td>\n",
              "      <td>...</td>\n",
              "      <td>...</td>\n",
              "      <td>...</td>\n",
              "      <td>...</td>\n",
              "      <td>...</td>\n",
              "      <td>...</td>\n",
              "      <td>...</td>\n",
              "      <td>...</td>\n",
              "      <td>...</td>\n",
              "      <td>...</td>\n",
              "      <td>...</td>\n",
              "      <td>...</td>\n",
              "      <td>...</td>\n",
              "      <td>...</td>\n",
              "      <td>...</td>\n",
              "      <td>...</td>\n",
              "      <td>...</td>\n",
              "      <td>...</td>\n",
              "      <td>...</td>\n",
              "      <td>...</td>\n",
              "      <td>...</td>\n",
              "      <td>...</td>\n",
              "      <td>...</td>\n",
              "      <td>...</td>\n",
              "      <td>...</td>\n",
              "      <td>...</td>\n",
              "      <td>...</td>\n",
              "      <td>...</td>\n",
              "      <td>...</td>\n",
              "      <td>...</td>\n",
              "      <td>...</td>\n",
              "      <td>...</td>\n",
              "      <td>...</td>\n",
              "      <td>...</td>\n",
              "      <td>...</td>\n",
              "      <td>...</td>\n",
              "      <td>...</td>\n",
              "      <td>...</td>\n",
              "      <td>...</td>\n",
              "      <td>...</td>\n",
              "      <td>...</td>\n",
              "      <td>...</td>\n",
              "      <td>...</td>\n",
              "      <td>...</td>\n",
              "      <td>...</td>\n",
              "    </tr>\n",
              "    <tr>\n",
              "      <th>4232536</th>\n",
              "      <td>A-4239402</td>\n",
              "      <td>Bing</td>\n",
              "      <td>NaN</td>\n",
              "      <td>2</td>\n",
              "      <td>2019-08-23 18:03:25</td>\n",
              "      <td>2019-08-23 18:32:01</td>\n",
              "      <td>34.002480</td>\n",
              "      <td>-117.379360</td>\n",
              "      <td>33.99888</td>\n",
              "      <td>-117.37094</td>\n",
              "      <td>0.543</td>\n",
              "      <td>At Market St - Accident.</td>\n",
              "      <td>NaN</td>\n",
              "      <td>Pomona Fwy E</td>\n",
              "      <td>R</td>\n",
              "      <td>Riverside</td>\n",
              "      <td>Riverside</td>\n",
              "      <td>CA</td>\n",
              "      <td>92501</td>\n",
              "      <td>US</td>\n",
              "      <td>US/Pacific</td>\n",
              "      <td>KRAL</td>\n",
              "      <td>2019-08-23 17:53:00</td>\n",
              "      <td>86.0</td>\n",
              "      <td>86.0</td>\n",
              "      <td>40.0</td>\n",
              "      <td>28.92</td>\n",
              "      <td>10.0</td>\n",
              "      <td>W</td>\n",
              "      <td>13.0</td>\n",
              "      <td>0.00</td>\n",
              "      <td>Fair</td>\n",
              "      <td>False</td>\n",
              "      <td>False</td>\n",
              "      <td>False</td>\n",
              "      <td>False</td>\n",
              "      <td>False</td>\n",
              "      <td>False</td>\n",
              "      <td>False</td>\n",
              "      <td>False</td>\n",
              "      <td>False</td>\n",
              "      <td>False</td>\n",
              "      <td>False</td>\n",
              "      <td>False</td>\n",
              "      <td>False</td>\n",
              "      <td>Day</td>\n",
              "      <td>Day</td>\n",
              "      <td>Day</td>\n",
              "      <td>Day</td>\n",
              "    </tr>\n",
              "    <tr>\n",
              "      <th>4232537</th>\n",
              "      <td>A-4239403</td>\n",
              "      <td>Bing</td>\n",
              "      <td>NaN</td>\n",
              "      <td>2</td>\n",
              "      <td>2019-08-23 19:11:30</td>\n",
              "      <td>2019-08-23 19:38:23</td>\n",
              "      <td>32.766960</td>\n",
              "      <td>-117.148060</td>\n",
              "      <td>32.76555</td>\n",
              "      <td>-117.15363</td>\n",
              "      <td>0.338</td>\n",
              "      <td>At Camino Del Rio/Mission Center Rd - Accident.</td>\n",
              "      <td>NaN</td>\n",
              "      <td>I-8 W</td>\n",
              "      <td>R</td>\n",
              "      <td>San Diego</td>\n",
              "      <td>San Diego</td>\n",
              "      <td>CA</td>\n",
              "      <td>92108</td>\n",
              "      <td>US</td>\n",
              "      <td>US/Pacific</td>\n",
              "      <td>KMYF</td>\n",
              "      <td>2019-08-23 18:53:00</td>\n",
              "      <td>70.0</td>\n",
              "      <td>70.0</td>\n",
              "      <td>73.0</td>\n",
              "      <td>29.39</td>\n",
              "      <td>10.0</td>\n",
              "      <td>SW</td>\n",
              "      <td>6.0</td>\n",
              "      <td>0.00</td>\n",
              "      <td>Fair</td>\n",
              "      <td>False</td>\n",
              "      <td>False</td>\n",
              "      <td>False</td>\n",
              "      <td>False</td>\n",
              "      <td>False</td>\n",
              "      <td>False</td>\n",
              "      <td>False</td>\n",
              "      <td>False</td>\n",
              "      <td>False</td>\n",
              "      <td>False</td>\n",
              "      <td>False</td>\n",
              "      <td>False</td>\n",
              "      <td>False</td>\n",
              "      <td>Day</td>\n",
              "      <td>Day</td>\n",
              "      <td>Day</td>\n",
              "      <td>Day</td>\n",
              "    </tr>\n",
              "    <tr>\n",
              "      <th>4232538</th>\n",
              "      <td>A-4239404</td>\n",
              "      <td>Bing</td>\n",
              "      <td>NaN</td>\n",
              "      <td>2</td>\n",
              "      <td>2019-08-23 19:00:21</td>\n",
              "      <td>2019-08-23 19:28:49</td>\n",
              "      <td>33.775450</td>\n",
              "      <td>-117.847790</td>\n",
              "      <td>33.77740</td>\n",
              "      <td>-117.85727</td>\n",
              "      <td>0.561</td>\n",
              "      <td>At Glassell St/Grand Ave - Accident. in the ri...</td>\n",
              "      <td>NaN</td>\n",
              "      <td>Garden Grove Fwy</td>\n",
              "      <td>R</td>\n",
              "      <td>Orange</td>\n",
              "      <td>Orange</td>\n",
              "      <td>CA</td>\n",
              "      <td>92866</td>\n",
              "      <td>US</td>\n",
              "      <td>US/Pacific</td>\n",
              "      <td>KSNA</td>\n",
              "      <td>2019-08-23 18:53:00</td>\n",
              "      <td>73.0</td>\n",
              "      <td>73.0</td>\n",
              "      <td>64.0</td>\n",
              "      <td>29.74</td>\n",
              "      <td>10.0</td>\n",
              "      <td>SSW</td>\n",
              "      <td>10.0</td>\n",
              "      <td>0.00</td>\n",
              "      <td>Partly Cloudy</td>\n",
              "      <td>False</td>\n",
              "      <td>False</td>\n",
              "      <td>False</td>\n",
              "      <td>False</td>\n",
              "      <td>True</td>\n",
              "      <td>False</td>\n",
              "      <td>False</td>\n",
              "      <td>False</td>\n",
              "      <td>False</td>\n",
              "      <td>False</td>\n",
              "      <td>False</td>\n",
              "      <td>False</td>\n",
              "      <td>False</td>\n",
              "      <td>Day</td>\n",
              "      <td>Day</td>\n",
              "      <td>Day</td>\n",
              "      <td>Day</td>\n",
              "    </tr>\n",
              "    <tr>\n",
              "      <th>4232539</th>\n",
              "      <td>A-4239405</td>\n",
              "      <td>Bing</td>\n",
              "      <td>NaN</td>\n",
              "      <td>2</td>\n",
              "      <td>2019-08-23 19:00:21</td>\n",
              "      <td>2019-08-23 19:29:42</td>\n",
              "      <td>33.992460</td>\n",
              "      <td>-118.403020</td>\n",
              "      <td>33.98311</td>\n",
              "      <td>-118.39565</td>\n",
              "      <td>0.772</td>\n",
              "      <td>At CA-90/Marina Fwy/Jefferson Blvd - Accident.</td>\n",
              "      <td>NaN</td>\n",
              "      <td>San Diego Fwy S</td>\n",
              "      <td>R</td>\n",
              "      <td>Culver City</td>\n",
              "      <td>Los Angeles</td>\n",
              "      <td>CA</td>\n",
              "      <td>90230</td>\n",
              "      <td>US</td>\n",
              "      <td>US/Pacific</td>\n",
              "      <td>KSMO</td>\n",
              "      <td>2019-08-23 18:51:00</td>\n",
              "      <td>71.0</td>\n",
              "      <td>71.0</td>\n",
              "      <td>81.0</td>\n",
              "      <td>29.62</td>\n",
              "      <td>10.0</td>\n",
              "      <td>SW</td>\n",
              "      <td>8.0</td>\n",
              "      <td>0.00</td>\n",
              "      <td>Fair</td>\n",
              "      <td>False</td>\n",
              "      <td>False</td>\n",
              "      <td>False</td>\n",
              "      <td>False</td>\n",
              "      <td>False</td>\n",
              "      <td>False</td>\n",
              "      <td>False</td>\n",
              "      <td>False</td>\n",
              "      <td>False</td>\n",
              "      <td>False</td>\n",
              "      <td>False</td>\n",
              "      <td>False</td>\n",
              "      <td>False</td>\n",
              "      <td>Day</td>\n",
              "      <td>Day</td>\n",
              "      <td>Day</td>\n",
              "      <td>Day</td>\n",
              "    </tr>\n",
              "    <tr>\n",
              "      <th>4232540</th>\n",
              "      <td>A-4239406</td>\n",
              "      <td>Bing</td>\n",
              "      <td>NaN</td>\n",
              "      <td>2</td>\n",
              "      <td>2019-08-23 18:52:06</td>\n",
              "      <td>2019-08-23 19:21:31</td>\n",
              "      <td>34.133930</td>\n",
              "      <td>-117.230920</td>\n",
              "      <td>34.13736</td>\n",
              "      <td>-117.23934</td>\n",
              "      <td>0.537</td>\n",
              "      <td>At Highland Ave/Arden Ave - Accident.</td>\n",
              "      <td>NaN</td>\n",
              "      <td>CA-210 W</td>\n",
              "      <td>R</td>\n",
              "      <td>Highland</td>\n",
              "      <td>San Bernardino</td>\n",
              "      <td>CA</td>\n",
              "      <td>92346</td>\n",
              "      <td>US</td>\n",
              "      <td>US/Pacific</td>\n",
              "      <td>KSBD</td>\n",
              "      <td>2019-08-23 20:50:00</td>\n",
              "      <td>79.0</td>\n",
              "      <td>79.0</td>\n",
              "      <td>47.0</td>\n",
              "      <td>28.63</td>\n",
              "      <td>7.0</td>\n",
              "      <td>SW</td>\n",
              "      <td>7.0</td>\n",
              "      <td>0.00</td>\n",
              "      <td>Fair</td>\n",
              "      <td>False</td>\n",
              "      <td>False</td>\n",
              "      <td>False</td>\n",
              "      <td>False</td>\n",
              "      <td>False</td>\n",
              "      <td>False</td>\n",
              "      <td>False</td>\n",
              "      <td>False</td>\n",
              "      <td>False</td>\n",
              "      <td>False</td>\n",
              "      <td>False</td>\n",
              "      <td>False</td>\n",
              "      <td>False</td>\n",
              "      <td>Day</td>\n",
              "      <td>Day</td>\n",
              "      <td>Day</td>\n",
              "      <td>Day</td>\n",
              "    </tr>\n",
              "  </tbody>\n",
              "</table>\n",
              "<p>4232541 rows × 49 columns</p>\n",
              "</div>"
            ],
            "text/plain": [
              "                ID    Source  ...  Nautical_Twilight  Astronomical_Twilight\n",
              "0              A-1  MapQuest  ...              Night                  Night\n",
              "1              A-2  MapQuest  ...              Night                    Day\n",
              "2              A-3  MapQuest  ...                Day                    Day\n",
              "3              A-4  MapQuest  ...                Day                    Day\n",
              "4              A-5  MapQuest  ...                Day                    Day\n",
              "...            ...       ...  ...                ...                    ...\n",
              "4232536  A-4239402      Bing  ...                Day                    Day\n",
              "4232537  A-4239403      Bing  ...                Day                    Day\n",
              "4232538  A-4239404      Bing  ...                Day                    Day\n",
              "4232539  A-4239405      Bing  ...                Day                    Day\n",
              "4232540  A-4239406      Bing  ...                Day                    Day\n",
              "\n",
              "[4232541 rows x 49 columns]"
            ]
          },
          "metadata": {
            "tags": []
          },
          "execution_count": 7
        }
      ]
    },
    {
      "cell_type": "code",
      "metadata": {
        "colab": {
          "base_uri": "https://localhost:8080/"
        },
        "id": "rvhmGN_zgThN",
        "outputId": "eac46eac-8f58-40f2-cb7f-b27ff1253772"
      },
      "source": [
        "df.info()"
      ],
      "execution_count": null,
      "outputs": [
        {
          "output_type": "stream",
          "text": [
            "<class 'pandas.core.frame.DataFrame'>\n",
            "RangeIndex: 4232541 entries, 0 to 4232540\n",
            "Data columns (total 49 columns):\n",
            " #   Column                 Dtype  \n",
            "---  ------                 -----  \n",
            " 0   ID                     object \n",
            " 1   Source                 object \n",
            " 2   TMC                    float64\n",
            " 3   Severity               int64  \n",
            " 4   Start_Time             object \n",
            " 5   End_Time               object \n",
            " 6   Start_Lat              float64\n",
            " 7   Start_Lng              float64\n",
            " 8   End_Lat                float64\n",
            " 9   End_Lng                float64\n",
            " 10  Distance(mi)           float64\n",
            " 11  Description            object \n",
            " 12  Number                 float64\n",
            " 13  Street                 object \n",
            " 14  Side                   object \n",
            " 15  City                   object \n",
            " 16  County                 object \n",
            " 17  State                  object \n",
            " 18  Zipcode                object \n",
            " 19  Country                object \n",
            " 20  Timezone               object \n",
            " 21  Airport_Code           object \n",
            " 22  Weather_Timestamp      object \n",
            " 23  Temperature(F)         float64\n",
            " 24  Wind_Chill(F)          float64\n",
            " 25  Humidity(%)            float64\n",
            " 26  Pressure(in)           float64\n",
            " 27  Visibility(mi)         float64\n",
            " 28  Wind_Direction         object \n",
            " 29  Wind_Speed(mph)        float64\n",
            " 30  Precipitation(in)      float64\n",
            " 31  Weather_Condition      object \n",
            " 32  Amenity                bool   \n",
            " 33  Bump                   bool   \n",
            " 34  Crossing               bool   \n",
            " 35  Give_Way               bool   \n",
            " 36  Junction               bool   \n",
            " 37  No_Exit                bool   \n",
            " 38  Railway                bool   \n",
            " 39  Roundabout             bool   \n",
            " 40  Station                bool   \n",
            " 41  Stop                   bool   \n",
            " 42  Traffic_Calming        bool   \n",
            " 43  Traffic_Signal         bool   \n",
            " 44  Turning_Loop           bool   \n",
            " 45  Sunrise_Sunset         object \n",
            " 46  Civil_Twilight         object \n",
            " 47  Nautical_Twilight      object \n",
            " 48  Astronomical_Twilight  object \n",
            "dtypes: bool(13), float64(14), int64(1), object(21)\n",
            "memory usage: 1.2+ GB\n"
          ],
          "name": "stdout"
        }
      ]
    },
    {
      "cell_type": "code",
      "metadata": {
        "colab": {
          "base_uri": "https://localhost:8080/",
          "height": 304
        },
        "id": "Nb81Ds3agWnl",
        "outputId": "b309d129-c952-4e93-e58a-8b0cc88edb20"
      },
      "source": [
        "df.describe()"
      ],
      "execution_count": null,
      "outputs": [
        {
          "output_type": "execute_result",
          "data": {
            "text/html": [
              "<div>\n",
              "<style scoped>\n",
              "    .dataframe tbody tr th:only-of-type {\n",
              "        vertical-align: middle;\n",
              "    }\n",
              "\n",
              "    .dataframe tbody tr th {\n",
              "        vertical-align: top;\n",
              "    }\n",
              "\n",
              "    .dataframe thead th {\n",
              "        text-align: right;\n",
              "    }\n",
              "</style>\n",
              "<table border=\"1\" class=\"dataframe\">\n",
              "  <thead>\n",
              "    <tr style=\"text-align: right;\">\n",
              "      <th></th>\n",
              "      <th>TMC</th>\n",
              "      <th>Severity</th>\n",
              "      <th>Start_Lat</th>\n",
              "      <th>Start_Lng</th>\n",
              "      <th>End_Lat</th>\n",
              "      <th>End_Lng</th>\n",
              "      <th>Distance(mi)</th>\n",
              "      <th>Number</th>\n",
              "      <th>Temperature(F)</th>\n",
              "      <th>Wind_Chill(F)</th>\n",
              "      <th>Humidity(%)</th>\n",
              "      <th>Pressure(in)</th>\n",
              "      <th>Visibility(mi)</th>\n",
              "      <th>Wind_Speed(mph)</th>\n",
              "      <th>Precipitation(in)</th>\n",
              "    </tr>\n",
              "  </thead>\n",
              "  <tbody>\n",
              "    <tr>\n",
              "      <th>count</th>\n",
              "      <td>2.716477e+06</td>\n",
              "      <td>4.232541e+06</td>\n",
              "      <td>4.232541e+06</td>\n",
              "      <td>4.232541e+06</td>\n",
              "      <td>1.516064e+06</td>\n",
              "      <td>1.516064e+06</td>\n",
              "      <td>4.232541e+06</td>\n",
              "      <td>1.544592e+06</td>\n",
              "      <td>4.142641e+06</td>\n",
              "      <td>2.336540e+06</td>\n",
              "      <td>4.137074e+06</td>\n",
              "      <td>4.156157e+06</td>\n",
              "      <td>4.133873e+06</td>\n",
              "      <td>3.753215e+06</td>\n",
              "      <td>2.166952e+06</td>\n",
              "    </tr>\n",
              "    <tr>\n",
              "      <th>mean</th>\n",
              "      <td>2.083517e+02</td>\n",
              "      <td>2.305035e+00</td>\n",
              "      <td>3.639782e+01</td>\n",
              "      <td>-9.546420e+01</td>\n",
              "      <td>3.690061e+01</td>\n",
              "      <td>-9.859901e+01</td>\n",
              "      <td>3.357021e-01</td>\n",
              "      <td>6.141507e+03</td>\n",
              "      <td>6.147799e+01</td>\n",
              "      <td>5.489319e+01</td>\n",
              "      <td>6.567422e+01</td>\n",
              "      <td>2.969371e+01</td>\n",
              "      <td>9.111991e+00</td>\n",
              "      <td>7.903433e+00</td>\n",
              "      <td>1.244719e-02</td>\n",
              "    </tr>\n",
              "    <tr>\n",
              "      <th>std</th>\n",
              "      <td>2.124413e+01</td>\n",
              "      <td>5.332261e-01</td>\n",
              "      <td>4.964404e+00</td>\n",
              "      <td>1.735319e+01</td>\n",
              "      <td>5.165629e+00</td>\n",
              "      <td>1.849590e+01</td>\n",
              "      <td>1.602143e+00</td>\n",
              "      <td>1.492268e+04</td>\n",
              "      <td>1.852586e+01</td>\n",
              "      <td>2.272355e+01</td>\n",
              "      <td>2.272342e+01</td>\n",
              "      <td>8.639260e-01</td>\n",
              "      <td>2.817582e+00</td>\n",
              "      <td>5.330998e+00</td>\n",
              "      <td>1.637154e-01</td>\n",
              "    </tr>\n",
              "    <tr>\n",
              "      <th>min</th>\n",
              "      <td>2.000000e+02</td>\n",
              "      <td>1.000000e+00</td>\n",
              "      <td>2.455527e+01</td>\n",
              "      <td>-1.246238e+02</td>\n",
              "      <td>2.457011e+01</td>\n",
              "      <td>-1.244978e+02</td>\n",
              "      <td>0.000000e+00</td>\n",
              "      <td>0.000000e+00</td>\n",
              "      <td>-8.900000e+01</td>\n",
              "      <td>-8.900000e+01</td>\n",
              "      <td>1.000000e+00</td>\n",
              "      <td>0.000000e+00</td>\n",
              "      <td>0.000000e+00</td>\n",
              "      <td>0.000000e+00</td>\n",
              "      <td>0.000000e+00</td>\n",
              "    </tr>\n",
              "    <tr>\n",
              "      <th>25%</th>\n",
              "      <td>2.010000e+02</td>\n",
              "      <td>2.000000e+00</td>\n",
              "      <td>3.352058e+01</td>\n",
              "      <td>-1.173570e+02</td>\n",
              "      <td>3.385420e+01</td>\n",
              "      <td>-1.182077e+02</td>\n",
              "      <td>0.000000e+00</td>\n",
              "      <td>8.980000e+02</td>\n",
              "      <td>4.900000e+01</td>\n",
              "      <td>3.800000e+01</td>\n",
              "      <td>4.900000e+01</td>\n",
              "      <td>2.964000e+01</td>\n",
              "      <td>1.000000e+01</td>\n",
              "      <td>4.600000e+00</td>\n",
              "      <td>0.000000e+00</td>\n",
              "    </tr>\n",
              "    <tr>\n",
              "      <th>50%</th>\n",
              "      <td>2.010000e+02</td>\n",
              "      <td>2.000000e+00</td>\n",
              "      <td>3.582542e+01</td>\n",
              "      <td>-9.002078e+01</td>\n",
              "      <td>3.735134e+01</td>\n",
              "      <td>-9.437987e+01</td>\n",
              "      <td>0.000000e+00</td>\n",
              "      <td>2.890000e+03</td>\n",
              "      <td>6.300000e+01</td>\n",
              "      <td>5.800000e+01</td>\n",
              "      <td>6.800000e+01</td>\n",
              "      <td>2.993000e+01</td>\n",
              "      <td>1.000000e+01</td>\n",
              "      <td>7.000000e+00</td>\n",
              "      <td>0.000000e+00</td>\n",
              "    </tr>\n",
              "    <tr>\n",
              "      <th>75%</th>\n",
              "      <td>2.010000e+02</td>\n",
              "      <td>3.000000e+00</td>\n",
              "      <td>4.018313e+01</td>\n",
              "      <td>-8.084682e+01</td>\n",
              "      <td>4.072593e+01</td>\n",
              "      <td>-8.087449e+01</td>\n",
              "      <td>8.900000e-02</td>\n",
              "      <td>7.330000e+03</td>\n",
              "      <td>7.520000e+01</td>\n",
              "      <td>7.300000e+01</td>\n",
              "      <td>8.500000e+01</td>\n",
              "      <td>3.008000e+01</td>\n",
              "      <td>1.000000e+01</td>\n",
              "      <td>1.040000e+01</td>\n",
              "      <td>0.000000e+00</td>\n",
              "    </tr>\n",
              "    <tr>\n",
              "      <th>max</th>\n",
              "      <td>4.060000e+02</td>\n",
              "      <td>4.000000e+00</td>\n",
              "      <td>4.900220e+01</td>\n",
              "      <td>-6.711317e+01</td>\n",
              "      <td>4.907500e+01</td>\n",
              "      <td>-6.710924e+01</td>\n",
              "      <td>4.417500e+02</td>\n",
              "      <td>9.999997e+06</td>\n",
              "      <td>2.030000e+02</td>\n",
              "      <td>1.890000e+02</td>\n",
              "      <td>1.000000e+02</td>\n",
              "      <td>5.804000e+01</td>\n",
              "      <td>1.400000e+02</td>\n",
              "      <td>9.840000e+02</td>\n",
              "      <td>2.500000e+01</td>\n",
              "    </tr>\n",
              "  </tbody>\n",
              "</table>\n",
              "</div>"
            ],
            "text/plain": [
              "                TMC      Severity  ...  Wind_Speed(mph)  Precipitation(in)\n",
              "count  2.716477e+06  4.232541e+06  ...     3.753215e+06       2.166952e+06\n",
              "mean   2.083517e+02  2.305035e+00  ...     7.903433e+00       1.244719e-02\n",
              "std    2.124413e+01  5.332261e-01  ...     5.330998e+00       1.637154e-01\n",
              "min    2.000000e+02  1.000000e+00  ...     0.000000e+00       0.000000e+00\n",
              "25%    2.010000e+02  2.000000e+00  ...     4.600000e+00       0.000000e+00\n",
              "50%    2.010000e+02  2.000000e+00  ...     7.000000e+00       0.000000e+00\n",
              "75%    2.010000e+02  3.000000e+00  ...     1.040000e+01       0.000000e+00\n",
              "max    4.060000e+02  4.000000e+00  ...     9.840000e+02       2.500000e+01\n",
              "\n",
              "[8 rows x 15 columns]"
            ]
          },
          "metadata": {
            "tags": []
          },
          "execution_count": 9
        }
      ]
    },
    {
      "cell_type": "code",
      "metadata": {
        "colab": {
          "base_uri": "https://localhost:8080/"
        },
        "id": "XVRRsy1IgYxN",
        "outputId": "c4fb822e-36b6-4f46-d1d2-cda345335cf1"
      },
      "source": [
        "numerics = ['int16', 'int32', 'int64', 'float16', 'float32', 'float64']\n",
        "\n",
        "numeric_df = df.select_dtypes(include=numerics)\n",
        "len(numeric_df.columns)"
      ],
      "execution_count": null,
      "outputs": [
        {
          "output_type": "execute_result",
          "data": {
            "text/plain": [
              "15"
            ]
          },
          "metadata": {
            "tags": []
          },
          "execution_count": 10
        }
      ]
    },
    {
      "cell_type": "markdown",
      "metadata": {
        "id": "inxRRJ9mgbcs"
      },
      "source": [
        "# Percentage of missing values per column"
      ]
    },
    {
      "cell_type": "code",
      "metadata": {
        "colab": {
          "base_uri": "https://localhost:8080/"
        },
        "id": "CwzZuH7NgdOC",
        "outputId": "16b2dc31-d0a5-4945-8571-81d41daf1c1a"
      },
      "source": [
        "missing_percentages = df.isna().sum().sort_values(ascending=False) / len(df)\n",
        "missing_percentages"
      ],
      "execution_count": null,
      "outputs": [
        {
          "output_type": "execute_result",
          "data": {
            "text/plain": [
              "End_Lat                  6.418076e-01\n",
              "End_Lng                  6.418076e-01\n",
              "Number                   6.350674e-01\n",
              "Precipitation(in)        4.880258e-01\n",
              "Wind_Chill(F)            4.479581e-01\n",
              "TMC                      3.581924e-01\n",
              "Wind_Speed(mph)          1.132478e-01\n",
              "Visibility(mi)           2.331176e-02\n",
              "Weather_Condition        2.324443e-02\n",
              "Humidity(%)              2.255548e-02\n",
              "Temperature(F)           2.124020e-02\n",
              "Wind_Direction           1.975433e-02\n",
              "Pressure(in)             1.804684e-02\n",
              "Weather_Timestamp        1.480057e-02\n",
              "Airport_Code             2.120003e-03\n",
              "Timezone                 1.090362e-03\n",
              "Zipcode                  3.052540e-04\n",
              "Nautical_Twilight        3.331332e-05\n",
              "Astronomical_Twilight    3.331332e-05\n",
              "Civil_Twilight           3.331332e-05\n",
              "Sunrise_Sunset           3.331332e-05\n",
              "City                     3.236826e-05\n",
              "Description              4.725294e-07\n",
              "Amenity                  0.000000e+00\n",
              "Street                   0.000000e+00\n",
              "Source                   0.000000e+00\n",
              "Severity                 0.000000e+00\n",
              "Start_Time               0.000000e+00\n",
              "End_Time                 0.000000e+00\n",
              "Start_Lat                0.000000e+00\n",
              "Start_Lng                0.000000e+00\n",
              "Turning_Loop             0.000000e+00\n",
              "Distance(mi)             0.000000e+00\n",
              "Traffic_Signal           0.000000e+00\n",
              "Side                     0.000000e+00\n",
              "Bump                     0.000000e+00\n",
              "County                   0.000000e+00\n",
              "State                    0.000000e+00\n",
              "Traffic_Calming          0.000000e+00\n",
              "Country                  0.000000e+00\n",
              "Stop                     0.000000e+00\n",
              "Station                  0.000000e+00\n",
              "Roundabout               0.000000e+00\n",
              "Railway                  0.000000e+00\n",
              "No_Exit                  0.000000e+00\n",
              "Junction                 0.000000e+00\n",
              "Give_Way                 0.000000e+00\n",
              "Crossing                 0.000000e+00\n",
              "ID                       0.000000e+00\n",
              "dtype: float64"
            ]
          },
          "metadata": {
            "tags": []
          },
          "execution_count": 11
        }
      ]
    },
    {
      "cell_type": "code",
      "metadata": {
        "colab": {
          "base_uri": "https://localhost:8080/"
        },
        "id": "JAMMqoLYgi0R",
        "outputId": "2052a6ed-2ffc-40f8-a73a-3587aa32390e"
      },
      "source": [
        "type(missing_percentages)"
      ],
      "execution_count": null,
      "outputs": [
        {
          "output_type": "execute_result",
          "data": {
            "text/plain": [
              "pandas.core.series.Series"
            ]
          },
          "metadata": {
            "tags": []
          },
          "execution_count": 12
        }
      ]
    },
    {
      "cell_type": "code",
      "metadata": {
        "colab": {
          "base_uri": "https://localhost:8080/",
          "height": 282
        },
        "id": "6YKmXcvfglQe",
        "outputId": "2a1a3d10-ed3b-4610-8f30-0287e9b61dfc"
      },
      "source": [
        "missing_percentages[missing_percentages != 0].plot(kind='barh')"
      ],
      "execution_count": null,
      "outputs": [
        {
          "output_type": "execute_result",
          "data": {
            "text/plain": [
              "<matplotlib.axes._subplots.AxesSubplot at 0x7f9e7bd029d0>"
            ]
          },
          "metadata": {
            "tags": []
          },
          "execution_count": 13
        },
        {
          "output_type": "display_data",
          "data": {
            "image/png": "[encoded data removed]",
            "text/plain": [
              "<Figure size 432x288 with 1 Axes>"
            ]
          },
          "metadata": {
            "tags": [],
            "needs_background": "light"
          }
        }
      ]
    },
    {
      "cell_type": "markdown",
      "metadata": {
        "id": "wjatJyPfgqkl"
      },
      "source": [
        "# Remove columns that you don't want to use."
      ]
    },
    {
      "cell_type": "code",
      "metadata": {
        "id": "mPp9gUFLgsj4"
      },
      "source": [
        ""
      ],
      "execution_count": null,
      "outputs": []
    },
    {
      "cell_type": "code",
      "metadata": {
        "id": "BdSw3napgtFW"
      },
      "source": [
        ""
      ],
      "execution_count": null,
      "outputs": []
    },
    {
      "cell_type": "markdown",
      "metadata": {
        "id": "zB2CMgVPgvbh"
      },
      "source": [
        "**Exploratory Analysis and Visualization**\n",
        "\n",
        "**Columns we'll analyze:**\n",
        "\n",
        "    1.City\n",
        "    2.Start Time\n",
        "    3.Start Lat, Start Lng\n",
        "    4.Temperature\n",
        "    5.Weather Condition"
      ]
    },
    {
      "cell_type": "code",
      "metadata": {
        "colab": {
          "base_uri": "https://localhost:8080/"
        },
        "id": "xgLYumoOhGFZ",
        "outputId": "b198a8a5-f917-4b12-e23f-dde69c911d4b"
      },
      "source": [
        "df.columns"
      ],
      "execution_count": null,
      "outputs": [
        {
          "output_type": "execute_result",
          "data": {
            "text/plain": [
              "Index(['ID', 'Source', 'TMC', 'Severity', 'Start_Time', 'End_Time',\n",
              "       'Start_Lat', 'Start_Lng', 'End_Lat', 'End_Lng', 'Distance(mi)',\n",
              "       'Description', 'Number', 'Street', 'Side', 'City', 'County', 'State',\n",
              "       'Zipcode', 'Country', 'Timezone', 'Airport_Code', 'Weather_Timestamp',\n",
              "       'Temperature(F)', 'Wind_Chill(F)', 'Humidity(%)', 'Pressure(in)',\n",
              "       'Visibility(mi)', 'Wind_Direction', 'Wind_Speed(mph)',\n",
              "       'Precipitation(in)', 'Weather_Condition', 'Amenity', 'Bump', 'Crossing',\n",
              "       'Give_Way', 'Junction', 'No_Exit', 'Railway', 'Roundabout', 'Station',\n",
              "       'Stop', 'Traffic_Calming', 'Traffic_Signal', 'Turning_Loop',\n",
              "       'Sunrise_Sunset', 'Civil_Twilight', 'Nautical_Twilight',\n",
              "       'Astronomical_Twilight'],\n",
              "      dtype='object')"
            ]
          },
          "metadata": {
            "tags": []
          },
          "execution_count": 14
        }
      ]
    },
    {
      "cell_type": "markdown",
      "metadata": {
        "id": "xE6yVWGphJZr"
      },
      "source": [
        "**City**"
      ]
    },
    {
      "cell_type": "code",
      "metadata": {
        "colab": {
          "base_uri": "https://localhost:8080/"
        },
        "id": "Bon5_9Q9hIsK",
        "outputId": "ef9ac010-f3dc-4ad1-fe3d-c1aa4fedb2a1"
      },
      "source": [
        "df.City"
      ],
      "execution_count": null,
      "outputs": [
        {
          "output_type": "execute_result",
          "data": {
            "text/plain": [
              "0                Dayton\n",
              "1          Reynoldsburg\n",
              "2          Williamsburg\n",
              "3                Dayton\n",
              "4                Dayton\n",
              "               ...     \n",
              "4232536       Riverside\n",
              "4232537       San Diego\n",
              "4232538          Orange\n",
              "4232539     Culver City\n",
              "4232540        Highland\n",
              "Name: City, Length: 4232541, dtype: object"
            ]
          },
          "metadata": {
            "tags": []
          },
          "execution_count": 15
        }
      ]
    },
    {
      "cell_type": "code",
      "metadata": {
        "colab": {
          "base_uri": "https://localhost:8080/"
        },
        "id": "oh4O5GaehN2R",
        "outputId": "dcd369f4-efbf-4e56-d8df-56058290101b"
      },
      "source": [
        "cities = df.City.unique()\n",
        "len(cities)"
      ],
      "execution_count": null,
      "outputs": [
        {
          "output_type": "execute_result",
          "data": {
            "text/plain": [
              "12251"
            ]
          },
          "metadata": {
            "tags": []
          },
          "execution_count": 16
        }
      ]
    },
    {
      "cell_type": "code",
      "metadata": {
        "colab": {
          "base_uri": "https://localhost:8080/"
        },
        "id": "qYkz31EAhPp-",
        "outputId": "a42d8968-dc2f-485c-cdf0-088b8fa3d8c5"
      },
      "source": [
        "cities_by_accident = df.City.value_counts()\n",
        "cities_by_accident"
      ],
      "execution_count": null,
      "outputs": [
        {
          "output_type": "execute_result",
          "data": {
            "text/plain": [
              "Houston        114905\n",
              "Los Angeles     92701\n",
              "Charlotte       88887\n",
              "Dallas          77303\n",
              "Austin          70538\n",
              "                ...  \n",
              "Obion               1\n",
              "Velarde             1\n",
              "Transfer            1\n",
              "South Shore         1\n",
              "Rock Creek          1\n",
              "Name: City, Length: 12250, dtype: int64"
            ]
          },
          "metadata": {
            "tags": []
          },
          "execution_count": 17
        }
      ]
    },
    {
      "cell_type": "code",
      "metadata": {
        "colab": {
          "base_uri": "https://localhost:8080/"
        },
        "id": "3bzDt4sXhRyz",
        "outputId": "b2b1b173-5dc4-407a-d287-601e904ed6b5"
      },
      "source": [
        "cities_by_accident[:20]"
      ],
      "execution_count": null,
      "outputs": [
        {
          "output_type": "execute_result",
          "data": {
            "text/plain": [
              "Houston          114905\n",
              "Los Angeles       92701\n",
              "Charlotte         88887\n",
              "Dallas            77303\n",
              "Austin            70538\n",
              "Miami             63162\n",
              "Raleigh           52876\n",
              "Atlanta           46328\n",
              "Baton Rouge       42814\n",
              "Nashville         41850\n",
              "Orlando           39561\n",
              "Oklahoma City     39484\n",
              "Sacramento        38061\n",
              "Phoenix           32805\n",
              "Minneapolis       31781\n",
              "San Diego         29416\n",
              "Seattle           28004\n",
              "Richmond          27907\n",
              "San Antonio       27516\n",
              "Jacksonville      24009\n",
              "Name: City, dtype: int64"
            ]
          },
          "metadata": {
            "tags": []
          },
          "execution_count": 18
        }
      ]
    },
    {
      "cell_type": "code",
      "metadata": {
        "colab": {
          "base_uri": "https://localhost:8080/"
        },
        "id": "Zv3zHW2vhUbj",
        "outputId": "532e497f-4811-4267-dfc7-de3212affaaa"
      },
      "source": [
        "type(cities_by_accident)"
      ],
      "execution_count": null,
      "outputs": [
        {
          "output_type": "execute_result",
          "data": {
            "text/plain": [
              "pandas.core.series.Series"
            ]
          },
          "metadata": {
            "tags": []
          },
          "execution_count": 19
        }
      ]
    },
    {
      "cell_type": "code",
      "metadata": {
        "colab": {
          "base_uri": "https://localhost:8080/",
          "height": 282
        },
        "id": "hhs9suhAhW6z",
        "outputId": "d1d83bbf-323c-404d-c5ab-5c7c6968cdab"
      },
      "source": [
        "cities_by_accident[:20].plot(kind='barh')"
      ],
      "execution_count": null,
      "outputs": [
        {
          "output_type": "execute_result",
          "data": {
            "text/plain": [
              "<matplotlib.axes._subplots.AxesSubplot at 0x7f9e7bc50050>"
            ]
          },
          "metadata": {
            "tags": []
          },
          "execution_count": 20
        },
        {
          "output_type": "display_data",
          "data": {
            "image/png": "[encoded data removed]",
            "text/plain": [
              "<Figure size 432x288 with 1 Axes>"
            ]
          },
          "metadata": {
            "tags": [],
            "needs_background": "light"
          }
        }
      ]
    },
    {
      "cell_type": "code",
      "metadata": {
        "id": "9aR54SLqhZZf"
      },
      "source": [
        "import seaborn as sns\n",
        "sns.set_style(\"darkgrid\")"
      ],
      "execution_count": null,
      "outputs": []
    },
    {
      "cell_type": "code",
      "metadata": {
        "colab": {
          "base_uri": "https://localhost:8080/",
          "height": 300
        },
        "id": "gi6FPDdKhcJS",
        "outputId": "c4118416-680f-4bf0-c6e7-18e78fe46727"
      },
      "source": [
        "sns.histplot(cities_by_accident, log_scale=True)"
      ],
      "execution_count": null,
      "outputs": [
        {
          "output_type": "execute_result",
          "data": {
            "text/plain": [
              "<matplotlib.axes._subplots.AxesSubplot at 0x7f9e7bcd3190>"
            ]
          },
          "metadata": {
            "tags": []
          },
          "execution_count": 22
        },
        {
          "output_type": "display_data",
          "data": {
            "image/png": "[encoded data removed]",
            "text/plain": [
              "<Figure size 432x288 with 1 Axes>"
            ]
          },
          "metadata": {
            "tags": []
          }
        }
      ]
    },
    {
      "cell_type": "code",
      "metadata": {
        "colab": {
          "base_uri": "https://localhost:8080/"
        },
        "id": "o_hCzGVNheQ_",
        "outputId": "7e291a04-078b-4123-f2fd-dd44e301a759"
      },
      "source": [
        "cities_by_accident[cities_by_accident == 1]"
      ],
      "execution_count": null,
      "outputs": [
        {
          "output_type": "execute_result",
          "data": {
            "text/plain": [
              "Norborne       1\n",
              "Irons          1\n",
              "Bonham         1\n",
              "Ladoga         1\n",
              "Shawboro       1\n",
              "              ..\n",
              "Obion          1\n",
              "Velarde        1\n",
              "Transfer       1\n",
              "South Shore    1\n",
              "Rock Creek     1\n",
              "Name: City, Length: 1267, dtype: int64"
            ]
          },
          "metadata": {
            "tags": []
          },
          "execution_count": 23
        }
      ]
    },
    {
      "cell_type": "markdown",
      "metadata": {
        "id": "AoWck0Mdhg8f"
      },
      "source": [
        "# **Start Time**"
      ]
    },
    {
      "cell_type": "code",
      "metadata": {
        "colab": {
          "base_uri": "https://localhost:8080/",
          "height": 162
        },
        "id": "0ltodgrQhi_3",
        "outputId": "8f546bb8-4b77-45b7-c7f7-561ff87f0083"
      },
      "source": [
        "df.Start_Time"
      ],
      "execution_count": 1,
      "outputs": [
        {
          "output_type": "error",
          "ename": "NameError",
          "evalue": "ignored",
          "traceback": [
            "\u001b[0;31m---------------------------------------------------------------------------\u001b[0m",
            "\u001b[0;31mNameError\u001b[0m                                 Traceback (most recent call last)",
            "\u001b[0;32m<ipython-input-1-f1bcc3d77c2b>\u001b[0m in \u001b[0;36m<module>\u001b[0;34m()\u001b[0m\n\u001b[0;32m----> 1\u001b[0;31m \u001b[0mdf\u001b[0m\u001b[0;34m.\u001b[0m\u001b[0mStart_Time\u001b[0m\u001b[0;34m\u001b[0m\u001b[0;34m\u001b[0m\u001b[0m\n\u001b[0m",
            "\u001b[0;31mNameError\u001b[0m: name 'df' is not defined"
          ]
        }
      ]
    },
    {
      "cell_type": "code",
      "metadata": {
        "id": "YJ8n6dOkhmb9"
      },
      "source": [
        "df.Start_Time = pd.to_datetime(df.Start_Time)"
      ],
      "execution_count": null,
      "outputs": []
    },
    {
      "cell_type": "code",
      "metadata": {
        "colab": {
          "base_uri": "https://localhost:8080/",
          "height": 162
        },
        "id": "8xb6o_zLho4L",
        "outputId": "41a9221a-2660-4887-fefe-9bdab5dcab80"
      },
      "source": [
        "sns.distplot(df.Start_Time.dt.hour, bins=24, kde=False, norm_hist=True)"
      ],
      "execution_count": 2,
      "outputs": [
        {
          "output_type": "error",
          "ename": "NameError",
          "evalue": "ignored",
          "traceback": [
            "\u001b[0;31m---------------------------------------------------------------------------\u001b[0m",
            "\u001b[0;31mNameError\u001b[0m                                 Traceback (most recent call last)",
            "\u001b[0;32m<ipython-input-2-cecb2f6b7498>\u001b[0m in \u001b[0;36m<module>\u001b[0;34m()\u001b[0m\n\u001b[0;32m----> 1\u001b[0;31m \u001b[0msns\u001b[0m\u001b[0;34m.\u001b[0m\u001b[0mdistplot\u001b[0m\u001b[0;34m(\u001b[0m\u001b[0mdf\u001b[0m\u001b[0;34m.\u001b[0m\u001b[0mStart_Time\u001b[0m\u001b[0;34m.\u001b[0m\u001b[0mdt\u001b[0m\u001b[0;34m.\u001b[0m\u001b[0mhour\u001b[0m\u001b[0;34m,\u001b[0m \u001b[0mbins\u001b[0m\u001b[0;34m=\u001b[0m\u001b[0;36m24\u001b[0m\u001b[0;34m,\u001b[0m \u001b[0mkde\u001b[0m\u001b[0;34m=\u001b[0m\u001b[0;32mFalse\u001b[0m\u001b[0;34m,\u001b[0m \u001b[0mnorm_hist\u001b[0m\u001b[0;34m=\u001b[0m\u001b[0;32mTrue\u001b[0m\u001b[0;34m)\u001b[0m\u001b[0;34m\u001b[0m\u001b[0;34m\u001b[0m\u001b[0m\n\u001b[0m",
            "\u001b[0;31mNameError\u001b[0m: name 'sns' is not defined"
          ]
        }
      ]
    },
    {
      "cell_type": "markdown",
      "metadata": {
        "id": "Lr2r9uGZhtoj"
      },
      "source": [
        "**A high percentage of accidents occur between 6 am to 10 am (probably \n",
        "people in a hurry to get to work)**\n",
        "\n",
        "**Next higest percentage is 3 pm to 6 pm.**"
      ]
    },
    {
      "cell_type": "code",
      "metadata": {
        "id": "l_8pt59Vh13R"
      },
      "source": [
        "sns.distplot(df.Start_Time.dt.dayofweek, bins=7, kde=False, norm_hist=True)"
      ],
      "execution_count": null,
      "outputs": []
    },
    {
      "cell_type": "markdown",
      "metadata": {
        "id": "Kqz3lDXfiACQ"
      },
      "source": [
        "**Is the distribution of accidents by hour the same on weekends as on weekdays.**"
      ]
    },
    {
      "cell_type": "code",
      "metadata": {
        "colab": {
          "base_uri": "https://localhost:8080/",
          "height": 350
        },
        "id": "zb7-lOmciBm7",
        "outputId": "f94b0bcd-14e6-4607-8bc3-5b8e45070e5a"
      },
      "source": [
        "sundays_start_time = df.Start_Time[df.Start_Time.dt.dayofweek == 6]\n",
        "sns.distplot(sundays_start_time.dt.hour, bins=24, kde=False, norm_hist=True)"
      ],
      "execution_count": null,
      "outputs": [
        {
          "output_type": "stream",
          "text": [
            "/usr/local/lib/python3.7/dist-packages/seaborn/distributions.py:2557: FutureWarning: `distplot` is a deprecated function and will be removed in a future version. Please adapt your code to use either `displot` (a figure-level function with similar flexibility) or `histplot` (an axes-level function for histograms).\n",
            "  warnings.warn(msg, FutureWarning)\n"
          ],
          "name": "stderr"
        },
        {
          "output_type": "execute_result",
          "data": {
            "text/plain": [
              "<matplotlib.axes._subplots.AxesSubplot at 0x7f9e6ca51cd0>"
            ]
          },
          "metadata": {
            "tags": []
          },
          "execution_count": 30
        },
        {
          "output_type": "display_data",
          "data": {
            "image/png": "[encoded data removed]",
            "text/plain": [
              "<Figure size 432x288 with 1 Axes>"
            ]
          },
          "metadata": {
            "tags": []
          }
        }
      ]
    },
    {
      "cell_type": "code",
      "metadata": {
        "colab": {
          "base_uri": "https://localhost:8080/",
          "height": 351
        },
        "id": "TPGx24d-iILx",
        "outputId": "6d154384-1603-49d8-ce2d-c7ef9350172a"
      },
      "source": [
        "monday_start_time = df.Start_Time[df.Start_Time.dt.dayofweek == 0]\n",
        "sns.distplot(monday_start_time.dt.hour, bins=24, kde=False, norm_hist=True)"
      ],
      "execution_count": null,
      "outputs": [
        {
          "output_type": "stream",
          "text": [
            "/usr/local/lib/python3.7/dist-packages/seaborn/distributions.py:2557: FutureWarning: `distplot` is a deprecated function and will be removed in a future version. Please adapt your code to use either `displot` (a figure-level function with similar flexibility) or `histplot` (an axes-level function for histograms).\n",
            "  warnings.warn(msg, FutureWarning)\n"
          ],
          "name": "stderr"
        },
        {
          "output_type": "execute_result",
          "data": {
            "text/plain": [
              "<matplotlib.axes._subplots.AxesSubplot at 0x7f9e6c9ff710>"
            ]
          },
          "metadata": {
            "tags": []
          },
          "execution_count": 32
        },
        {
          "output_type": "display_data",
          "data": {
            "image/png": "[encoded data removed]",
            "text/plain": [
              "<Figure size 432x288 with 1 Axes>"
            ]
          },
          "metadata": {
            "tags": []
          }
        }
      ]
    },
    {
      "cell_type": "markdown",
      "metadata": {
        "id": "aGocb4EaiP1P"
      },
      "source": [
        "**On Sundays, the peak occurs between 10 am and 3 pm, unlike weekdays**"
      ]
    },
    {
      "cell_type": "code",
      "metadata": {
        "colab": {
          "base_uri": "https://localhost:8080/",
          "height": 350
        },
        "id": "hF21bxp-iN-t",
        "outputId": "568dc746-131e-4d70-816e-281f4dc84d61"
      },
      "source": [
        "df_2019 = df[df.Start_Time.dt.year == 2019]\n",
        "df_2019_Bing = df_2019[df_2019.Source == 'MapQuest']\n",
        "sns.distplot(df_2019_Bing.Start_Time.dt.month, bins=12, kde=False, norm_hist=True)"
      ],
      "execution_count": null,
      "outputs": [
        {
          "output_type": "stream",
          "text": [
            "/usr/local/lib/python3.7/dist-packages/seaborn/distributions.py:2557: FutureWarning: `distplot` is a deprecated function and will be removed in a future version. Please adapt your code to use either `displot` (a figure-level function with similar flexibility) or `histplot` (an axes-level function for histograms).\n",
            "  warnings.warn(msg, FutureWarning)\n"
          ],
          "name": "stderr"
        },
        {
          "output_type": "execute_result",
          "data": {
            "text/plain": [
              "<matplotlib.axes._subplots.AxesSubplot at 0x7f9e6c902710>"
            ]
          },
          "metadata": {
            "tags": []
          },
          "execution_count": 33
        },
        {
          "output_type": "display_data",
          "data": {
            "image/png": "[encoded data removed]",
            "text/plain": [
              "<Figure size 432x288 with 1 Axes>"
            ]
          },
          "metadata": {
            "tags": []
          }
        }
      ]
    },
    {
      "cell_type": "markdown",
      "metadata": {
        "id": "ALkxd1SwiWot"
      },
      "source": [
        "Can you explain the month-wise trend of accidents?\n",
        "\n",
        "\n",
        "*   Much data is missing for 2016. Maybe even 2017.\n",
        "*   There seems to be some issue with the Bing data\n"
      ]
    },
    {
      "cell_type": "code",
      "metadata": {
        "colab": {
          "base_uri": "https://localhost:8080/",
          "height": 265
        },
        "id": "IGYRJ-ntiY5N",
        "outputId": "4445f109-3022-4acf-bda5-7e6ec6247297"
      },
      "source": [
        "df.Source.value_counts().plot(kind='pie')"
      ],
      "execution_count": null,
      "outputs": [
        {
          "output_type": "execute_result",
          "data": {
            "text/plain": [
              "<matplotlib.axes._subplots.AxesSubplot at 0x7f9e6c937ad0>"
            ]
          },
          "metadata": {
            "tags": []
          },
          "execution_count": 34
        },
        {
          "output_type": "display_data",
          "data": {
            "image/png": "[encoded data removed]",
            "text/plain": [
              "<Figure size 432x288 with 1 Axes>"
            ]
          },
          "metadata": {
            "tags": []
          }
        }
      ]
    },
    {
      "cell_type": "markdown",
      "metadata": {
        "id": "b-YmMZEUinIx"
      },
      "source": [
        "\n",
        "\n",
        "*   Consider excluding Bing data, seems to have issues.\n",
        "\n"
      ]
    },
    {
      "cell_type": "markdown",
      "metadata": {
        "id": "9jKus5PkiuvG"
      },
      "source": [
        "**Start Latitude & Longitude**"
      ]
    },
    {
      "cell_type": "code",
      "metadata": {
        "colab": {
          "base_uri": "https://localhost:8080/"
        },
        "id": "FNI4hYEYism5",
        "outputId": "795393b9-c560-44ef-b43b-b42989a29382"
      },
      "source": [
        "df.Start_Lat"
      ],
      "execution_count": null,
      "outputs": [
        {
          "output_type": "execute_result",
          "data": {
            "text/plain": [
              "0          39.865147\n",
              "1          39.928059\n",
              "2          39.063148\n",
              "3          39.747753\n",
              "4          39.627781\n",
              "             ...    \n",
              "4232536    34.002480\n",
              "4232537    32.766960\n",
              "4232538    33.775450\n",
              "4232539    33.992460\n",
              "4232540    34.133930\n",
              "Name: Start_Lat, Length: 4232541, dtype: float64"
            ]
          },
          "metadata": {
            "tags": []
          },
          "execution_count": 35
        }
      ]
    },
    {
      "cell_type": "code",
      "metadata": {
        "colab": {
          "base_uri": "https://localhost:8080/"
        },
        "id": "bS0my-hKiy_Z",
        "outputId": "d04b6432-4703-4b7e-dacd-3fbcd24cad42"
      },
      "source": [
        "df.Start_Lng"
      ],
      "execution_count": null,
      "outputs": [
        {
          "output_type": "execute_result",
          "data": {
            "text/plain": [
              "0          -84.058723\n",
              "1          -82.831184\n",
              "2          -84.032608\n",
              "3          -84.205582\n",
              "4          -84.188354\n",
              "              ...    \n",
              "4232536   -117.379360\n",
              "4232537   -117.148060\n",
              "4232538   -117.847790\n",
              "4232539   -118.403020\n",
              "4232540   -117.230920\n",
              "Name: Start_Lng, Length: 4232541, dtype: float64"
            ]
          },
          "metadata": {
            "tags": []
          },
          "execution_count": 36
        }
      ]
    },
    {
      "cell_type": "code",
      "metadata": {
        "id": "k1amLz46i1p5"
      },
      "source": [
        "sample_df = df.sample(int(0.1 * len(df)))"
      ],
      "execution_count": null,
      "outputs": []
    },
    {
      "cell_type": "code",
      "metadata": {
        "colab": {
          "base_uri": "https://localhost:8080/",
          "height": 299
        },
        "id": "Jw-khOcui4Pg",
        "outputId": "d9e9910d-3412-406d-8250-e432d83d3eed"
      },
      "source": [
        "sns.scatterplot(x=sample_df.Start_Lng, y=sample_df.Start_Lat, size=0.001)"
      ],
      "execution_count": null,
      "outputs": [
        {
          "output_type": "execute_result",
          "data": {
            "text/plain": [
              "<matplotlib.axes._subplots.AxesSubplot at 0x7f9e6cc59990>"
            ]
          },
          "metadata": {
            "tags": []
          },
          "execution_count": 38
        },
        {
          "output_type": "display_data",
          "data": {
            "image/png": "[encoded data removed]",
            "text/plain": [
              "<Figure size 432x288 with 1 Axes>"
            ]
          },
          "metadata": {
            "tags": []
          }
        }
      ]
    },
    {
      "cell_type": "code",
      "metadata": {
        "id": "y_u_tEZFi9Rt"
      },
      "source": [
        "import folium"
      ],
      "execution_count": null,
      "outputs": []
    },
    {
      "cell_type": "code",
      "metadata": {
        "colab": {
          "base_uri": "https://localhost:8080/"
        },
        "id": "94vNXW-di_ee",
        "outputId": "d683a473-86cb-4687-af0e-6d331ad453e7"
      },
      "source": [
        "lat, lon = df.Start_Lat[0], df.Start_Lng[0]\n",
        "lat, lon"
      ],
      "execution_count": null,
      "outputs": [
        {
          "output_type": "execute_result",
          "data": {
            "text/plain": [
              "(39.865147, -84.058723)"
            ]
          },
          "metadata": {
            "tags": []
          },
          "execution_count": 40
        }
      ]
    },
    {
      "cell_type": "code",
      "metadata": {
        "colab": {
          "base_uri": "https://localhost:8080/"
        },
        "id": "OTvsdM5XjBW7",
        "outputId": "bcac76a4-cad8-4a91-8308-37f370661b9a"
      },
      "source": [
        "for x in df[['Start_Lat', 'Start_Lng']].sample(100).iteritems():\n",
        "    print(x[1])"
      ],
      "execution_count": null,
      "outputs": [
        {
          "output_type": "stream",
          "text": [
            "1393474    39.679405\n",
            "3962818    37.323640\n",
            "3737366    37.638248\n",
            "817627     41.569027\n",
            "392209     32.868053\n",
            "             ...    \n",
            "3348644    30.187672\n",
            "1732562    33.653748\n",
            "913824     30.421619\n",
            "504893     42.431622\n",
            "2376902    39.007664\n",
            "Name: Start_Lat, Length: 100, dtype: float64\n",
            "1393474    -75.694580\n",
            "3962818   -122.049510\n",
            "3737366   -120.911561\n",
            "817627     -87.356064\n",
            "392209     -96.667900\n",
            "              ...    \n",
            "3348644    -97.646688\n",
            "1732562    -84.005554\n",
            "913824     -97.665680\n",
            "504893     -71.102798\n",
            "2376902    -94.694046\n",
            "Name: Start_Lng, Length: 100, dtype: float64\n"
          ],
          "name": "stdout"
        }
      ]
    },
    {
      "cell_type": "code",
      "metadata": {
        "colab": {
          "base_uri": "https://localhost:8080/"
        },
        "id": "CgSdc7p1jDWI",
        "outputId": "915cbcfc-3cff-4fc4-d2fd-5bf0e5337bb0"
      },
      "source": [
        "zip(list(df.Start_Lat), list(df.Start_Lng))"
      ],
      "execution_count": null,
      "outputs": [
        {
          "output_type": "execute_result",
          "data": {
            "text/plain": [
              "<zip at 0x7f9ee628d4b0>"
            ]
          },
          "metadata": {
            "tags": []
          },
          "execution_count": 42
        }
      ]
    },
    {
      "cell_type": "code",
      "metadata": {
        "id": "i5JMa1ZHjFwV"
      },
      "source": [
        "from folium.plugins import HeatMap"
      ],
      "execution_count": null,
      "outputs": []
    },
    {
      "cell_type": "code",
      "metadata": {
        "id": "mxTpqtgdjH4f"
      },
      "source": [
        "sample_df = df.sample(int(0.001 * len(df)))\n",
        "lat_lon_pairs = list(zip(list(sample_df.Start_Lat), list(sample_df.Start_Lng)))"
      ],
      "execution_count": null,
      "outputs": []
    },
    {
      "cell_type": "code",
      "metadata": {
        "colab": {
          "base_uri": "https://localhost:8080/",
          "height": 685
        },
        "id": "YhA-J_3ijJzq",
        "outputId": "e02d2314-9e7e-4a2a-ce2f-89690cd66c98"
      },
      "source": [
        "map = folium.Map()\n",
        "HeatMap(lat_lon_pairs).add_to(map)\n",
        "map"
      ],
      "execution_count": null,
      "outputs": [
        {
          "output_type": "execute_result",
          "data": {
            "text/html": [
              "<div style=\"width:100%;\"><div style=\"position:relative;width:100%;height:0;padding-bottom:60%;\"><span style=\"color:#565656\">Make this Notebook Trusted to load map: File -> Trust Notebook</span><iframe src=\"about:blank\" style=\"position:absolute;width:100%;height:100%;left:0;top:0;border:none !important;\" data-html=%3C%21DOCTYPE%20html%3E%0A%3Chead%3E%20%20%20%20%0A%20%20%20%20%3Cmeta%20http-equiv%3D%22content-type%22%20content%3D%22text/html%3B%20charset%3DUTF-8%22%20/%3E%0A%20%20%20%20%3Cscript%3EL_PREFER_CANVAS%3Dfalse%3B%20L_NO_TOUCH%3Dfalse%3B%20L_DISABLE_3D%3Dfalse%3B%3C/script%3E%0A%20%20%20%20%3Cscript%20src%3D%22https%3A//cdn.jsdelivr.net/npm/leaflet%401.4.0/dist/leaflet.js%22%3E%3C/script%3E%0A%20%20%20%20%3Cscript%20src%3D%22https%3A//code.jquery.com/jquery-1.12.4.min.js%22%3E%3C/script%3E%0A%20%20%20%20%3Cscript%20src%3D%22https%3A//maxcdn.bootstrapcdn.com/bootstrap/3.2.0/js/bootstrap.min.js%22%3E%3C/script%3E%0A%20%20%20%20%3Cscript%20src%3D%22https%3A//cdnjs.cloudflare.com/ajax/libs/Leaflet.awesome-markers/2.0.2/leaflet.awesome-markers.js%22%3E%3C/script%3E%0A%20%20%20%20%3Clink%20rel%3D%22stylesheet%22%20href%3D%22https%3A//cdn.jsdelivr.net/npm/leaflet%401.4.0/dist/leaflet.css%22/%3E%0A%20%20%20%20%3Clink%20rel%3D%22stylesheet%22%20href%3D%22https%3A//maxcdn.bootstrapcdn.com/bootstrap/3.2.0/css/bootstrap.min.css%22/%3E%0A%20%20%20%20%3Clink%20rel%3D%22stylesheet%22%20href%3D%22https%3A//maxcdn.bootstrapcdn.com/bootstrap/3.2.0/css/bootstrap-theme.min.css%22/%3E%0A%20%20%20%20%3Clink%20rel%3D%22stylesheet%22%20href%3D%22https%3A//maxcdn.bootstrapcdn.com/font-awesome/4.6.3/css/font-awesome.min.css%22/%3E%0A%20%20%20%20%3Clink%20rel%3D%22stylesheet%22%20href%3D%22https%3A//cdnjs.cloudflare.com/ajax/libs/Leaflet.awesome-markers/2.0.2/leaflet.awesome-markers.css%22/%3E%0A%20%20%20%20%3Clink%20rel%3D%22stylesheet%22%20href%3D%22https%3A//rawcdn.githack.com/python-visualization/folium/master/folium/templates/leaflet.awesome.rotate.css%22/%3E%0A%20%20%20%20%3Cstyle%3Ehtml%2C%20body%20%7Bwidth%3A%20100%25%3Bheight%3A%20100%25%3Bmargin%3A%200%3Bpadding%3A%200%3B%7D%3C/style%3E%0A%20%20%20%20%3Cstyle%3E%23map%20%7Bposition%3Aabsolute%3Btop%3A0%3Bbottom%3A0%3Bright%3A0%3Bleft%3A0%3B%7D%3C/style%3E%0A%20%20%20%20%0A%20%20%20%20%3Cmeta%20name%3D%22viewport%22%20content%3D%22width%3Ddevice-width%2C%0A%20%20%20%20%20%20%20%20initial-scale%3D1.0%2C%20maximum-scale%3D1.0%2C%20user-scalable%3Dno%22%20/%3E%0A%20%20%20%20%3Cstyle%3E%23map_a1f84245da024063b927f01f4476f135%20%7B%0A%20%20%20%20%20%20%20%20position%3A%20relative%3B%0A%20%20%20%20%20%20%20%20width%3A%20100.0%25%3B%0A%20%20%20%20%20%20%20%20height%3A%20100.0%25%3B%0A%20%20%20%20%20%20%20%20left%3A%200.0%25%3B%0A%20%20%20%20%20%20%20%20top%3A%200.0%25%3B%0A%20%20%20%20%20%20%20%20%7D%0A%20%20%20%20%3C/style%3E%0A%20%20%20%20%3Cscript%20src%3D%22https%3A//leaflet.github.io/Leaflet.heat/dist/leaflet-heat.js%22%3E%3C/script%3E%0A%3C/head%3E%0A%3Cbody%3E%20%20%20%20%0A%20%20%20%20%0A%20%20%20%20%3Cdiv%20class%3D%22folium-map%22%20id%3D%22map_a1f84245da024063b927f01f4476f135%22%20%3E%3C/div%3E%0A%3C/body%3E%0A%3Cscript%3E%20%20%20%20%0A%20%20%20%20%0A%20%20%20%20%0A%20%20%20%20%20%20%20%20var%20bounds%20%3D%20null%3B%0A%20%20%20%20%0A%0A%20%20%20%20var%20map_a1f84245da024063b927f01f4476f135%20%3D%20L.map%28%0A%20%20%20%20%20%20%20%20%27map_a1f84245da024063b927f01f4476f135%27%2C%20%7B%0A%20%20%20%20%20%20%20%20center%3A%20%5B0%2C%200%5D%2C%0A%20%20%20%20%20%20%20%20zoom%3A%201%2C%0A%20%20%20%20%20%20%20%20maxBounds%3A%20bounds%2C%0A%20%20%20%20%20%20%20%20layers%3A%20%5B%5D%2C%0A%20%20%20%20%20%20%20%20worldCopyJump%3A%20false%2C%0A%20%20%20%20%20%20%20%20crs%3A%20L.CRS.EPSG3857%2C%0A%20%20%20%20%20%20%20%20zoomControl%3A%20true%2C%0A%20%20%20%20%20%20%20%20%7D%29%3B%0A%0A%0A%20%20%20%20%0A%20%20%20%20var%20tile_layer_5030b6555bd5493299f685e9a5137c52%20%3D%20L.tileLayer%28%0A%20%20%20%20%20%20%20%20%27https%3A//%7Bs%7D.tile.openstreetmap.org/%7Bz%7D/%7Bx%7D/%7By%7D.png%27%2C%0A%20%20%20%20%20%20%20%20%7B%0A%20%20%20%20%20%20%20%20%22attribution%22%3A%20null%2C%0A%20%20%20%20%20%20%20%20%22detectRetina%22%3A%20false%2C%0A%20%20%20%20%20%20%20%20%22maxNativeZoom%22%3A%2018%2C%0A%20%20%20%20%20%20%20%20%22maxZoom%22%3A%2018%2C%0A%20%20%20%20%20%20%20%20%22minZoom%22%3A%200%2C%0A%20%20%20%20%20%20%20%20%22noWrap%22%3A%20false%2C%0A%20%20%20%20%20%20%20%20%22opacity%22%3A%201%2C%0A%20%20%20%20%20%20%20%20%22subdomains%22%3A%20%22abc%22%2C%0A%20%20%20%20%20%20%20%20%22tms%22%3A%20false%0A%7D%29.addTo%28map_a1f84245da024063b927f01f4476f135%29%3B%0A%20%20%20%20%0A%20%20%20%20%20%20%20%20%20%20%20%20var%20heat_map_98da955d01174969b93517b5e81de293%20%3D%20L.heatLayer%28%0A%20%20%20%20%20%20%20%20%20%20%20%20%20%20%20%20%5B%5B28.37378%2C%20-80.80523000000001%5D%2C%20%5B35.480621%2C%20-97.583344%5D%2C%20%5B34.269051%2C%20-79.703796%5D%2C%20%5B42.832371%2C%20-75.007348%5D%2C%20%5B32.232529%2C%20-110.873108%5D%2C%20%5B39.27052%2C%20-77.21674%5D%2C%20%5B40.846059000000004%2C%20-73.930479%5D%2C%20%5B30.218504%2C%20-97.481094%5D%2C%20%5B30.359201000000002%2C%20-97.791092%5D%2C%20%5B34.152190999999995%2C%20-118.282997%5D%2C%20%5B35.8801%2C%20-78.573288%5D%2C%20%5B32.878906%2C%20-96.717896%5D%2C%20%5B45.6128%2C%20-122.67823%5D%2C%20%5B33.912067%2C%20-118.159843%5D%2C%20%5B43.402832000000004%2C%20-73.71186800000001%5D%2C%20%5B39.999069%2C%20-75.701897%5D%2C%20%5B37.05068%2C%20-113.48573999999999%5D%2C%20%5B38.171871%2C%20-122.19675900000001%5D%2C%20%5B37.398361%2C%20-122.02748100000001%5D%2C%20%5B39.95802%2C%20-75.16329%5D%2C%20%5B40.893211%2C%20-74.011505%5D%2C%20%5B25.516262%2C%20-80.429638%5D%2C%20%5B37.606365000000004%2C%20-77.521568%5D%2C%20%5B29.700290999999996%2C%20-95.517776%5D%2C%20%5B34.0798%2C%20-117.7381%5D%2C%20%5B41.372291%2C%20-73.614171%5D%2C%20%5B29.750271%2C%20-95.451202%5D%2C%20%5B37.646395%2C%20-122.09281599999998%5D%2C%20%5B35.847382%2C%20-78.64433299999999%5D%2C%20%5B33.526276%2C%20-117.165283%5D%2C%20%5B32.791725%2C%20-96.737411%5D%2C%20%5B29.791471%2C%20-95.339943%5D%2C%20%5B36.010674%2C%20-83.841911%5D%2C%20%5B37.57223%2C%20-121.88857%5D%2C%20%5B41.231739000000005%2C%20-76.993523%5D%2C%20%5B37.79423%2C%20-122.20555%5D%2C%20%5B26.75934%2C%20-80.09135400000001%5D%2C%20%5B35.965278999999995%2C%20-78.46582%5D%2C%20%5B39.249534999999995%2C%20-84.36541700000001%5D%2C%20%5B35.253738%2C%20-80.747498%5D%2C%20%5B44.86678%2C%20-93.41944000000001%5D%2C%20%5B40.82257%2C%20-73.87095%5D%2C%20%5B33.936138%2C%20-86.445267%5D%2C%20%5B45.49729%2C%20-122.51066999999999%5D%2C%20%5B33.898293%2C%20-118.32653%5D%2C%20%5B41.32354%2C%20-72.32757%5D%2C%20%5B25.8466%2C%20-80.38754%5D%2C%20%5B38.942398%2C%20-121.09426100000002%5D%2C%20%5B34.064167%2C%20-117.278641%5D%2C%20%5B41.893358%2C%20-87.962817%5D%2C%20%5B40.103927%2C%20-76.30541099999999%5D%2C%20%5B33.802685%2C%20-118.121696%5D%2C%20%5B44.958099%2C%20-93.090965%5D%2C%20%5B37.685068%2C%20-113.11106000000001%5D%2C%20%5B32.729088%2C%20-117.10614%5D%2C%20%5B32.6343%2C%20-96.823105%5D%2C%20%5B44.86414%2C%20-93.34999%5D%2C%20%5B39.692993%2C%20-74.260506%5D%2C%20%5B33.060806%2C%20-117.29110700000001%5D%2C%20%5B42.385352000000005%2C%20-87.964205%5D%2C%20%5B35.216099%2C%20-80.856239%5D%2C%20%5B39.996403%2C%20-122.205078%5D%2C%20%5B32.784935%2C%20-96.81495699999999%5D%2C%20%5B33.776790999999996%2C%20-117.855301%5D%2C%20%5B43.002934%2C%20-87.967751%5D%2C%20%5B32.93338%2C%20-97.315353%5D%2C%20%5B33.793158%2C%20-117.350279%5D%2C%20%5B44.919708%2C%20-93.246048%5D%2C%20%5B34.02537%2C%20-118.42875%5D%2C%20%5B29.715059000000004%2C%20-95.416656%5D%2C%20%5B29.723059999999997%2C%20-95.50117%5D%2C%20%5B34.149840999999995%2C%20-118.155708%5D%2C%20%5B47.238151%2C%20-122.418269%5D%2C%20%5B33.934059000000005%2C%20-118.177181%5D%2C%20%5B44.916433000000005%2C%20-93.350261%5D%2C%20%5B39.912518%2C%20-86.133667%5D%2C%20%5B40.087654%2C%20-104.980667%5D%2C%20%5B33.889675%2C%20-117.88046999999999%5D%2C%20%5B42.905359999999995%2C%20-78.8451%5D%2C%20%5B33.759739%2C%20-79.019974%5D%2C%20%5B33.820309%2C%20-112.139526%5D%2C%20%5B38.574760999999995%2C%20-121.38081299999999%5D%2C%20%5B30.360374%2C%20-97.71686600000001%5D%2C%20%5B40.413979%2C%20-74.650017%5D%2C%20%5B36.047081%2C%20-86.647995%5D%2C%20%5B42.358779999999996%2C%20-83.07650799999999%5D%2C%20%5B40.781009999999995%2C%20-77.80246%5D%2C%20%5B33.65614%2C%20-117.86632%5D%2C%20%5B40.202457%2C%20-75.30983%5D%2C%20%5B33.952303%2C%20-81.23347199999999%5D%2C%20%5B35.208969%2C%20-80.782921%5D%2C%20%5B33.91111%2C%20-118.07158700000001%5D%2C%20%5B33.876225%2C%20-118.102364%5D%2C%20%5B27.977545000000003%2C%20-82.827065%5D%2C%20%5B34.02239%2C%20-117.55207%5D%2C%20%5B35.140186%2C%20-80.752113%5D%2C%20%5B40.643238000000004%2C%20-74.28823100000001%5D%2C%20%5B35.2112%2C%20-80.87465999999999%5D%2C%20%5B43.194771%2C%20-77.645332%5D%2C%20%5B38.976276%2C%20-84.618408%5D%2C%20%5B46.21548%2C%20-123.86201000000001%5D%2C%20%5B37.780823%2C%20-121.97391499999999%5D%2C%20%5B38.223694%2C%20-85.580376%5D%2C%20%5B43.157140000000005%2C%20-77.6064%5D%2C%20%5B32.855385%2C%20-83.640015%5D%2C%20%5B29.574521%2C%20-95.105637%5D%2C%20%5B29.454009999999997%2C%20-98.55069%5D%2C%20%5B39.85729%2C%20-75.36565999999999%5D%2C%20%5B33.376743%2C%20-82.072075%5D%2C%20%5B47.463547%2C%20-122.247078%5D%2C%20%5B35.205296000000004%2C%20-89.923386%5D%2C%20%5B33.392262%2C%20-112.09913600000002%5D%2C%20%5B33.483658%2C%20-86.826378%5D%2C%20%5B35.390511%2C%20-119.07438700000002%5D%2C%20%5B41.954654999999995%2C%20-87.644829%5D%2C%20%5B36.139332%2C%20-95.860168%5D%2C%20%5B33.866081%2C%20-117.714134%5D%2C%20%5B31.7785%2C%20-106.392723%5D%2C%20%5B30.4578%2C%20-84.28556800000001%5D%2C%20%5B30.272454999999997%2C%20-97.74382%5D%2C%20%5B33.117992%2C%20-111.84211%5D%2C%20%5B40.793634999999995%2C%20-77.862859%5D%2C%20%5B47.852909999999994%2C%20-122.25628%5D%2C%20%5B29.553921000000003%2C%20-98.592934%5D%2C%20%5B42.523548%2C%20-70.981812%5D%2C%20%5B27.40958%2C%20-80.38822900000001%5D%2C%20%5B34.975609000000006%2C%20-81.04409%5D%2C%20%5B47.48333%2C%20-122.19686100000001%5D%2C%20%5B36.239086%2C%20-86.723792%5D%2C%20%5B39.298134999999995%2C%20-84.529038%5D%2C%20%5B39.657013%2C%20-104.866455%5D%2C%20%5B40.668659000000005%2C%20-73.73822%5D%2C%20%5B37.880228%2C%20-122.523769%5D%2C%20%5B30.4165%2C%20-97.6493%5D%2C%20%5B44.56407%2C%20-123.20761%5D%2C%20%5B27.89377%2C%20-82.679573%5D%2C%20%5B35.372326%2C%20-111.57576%5D%2C%20%5B30.430645000000002%2C%20-91.056702%5D%2C%20%5B41.137737%2C%20-75.401326%5D%2C%20%5B39.910675%2C%20-86.259842%5D%2C%20%5B36.703633%2C%20-119.78596100000001%5D%2C%20%5B30.254378999999997%2C%20-92.005264%5D%2C%20%5B33.847266999999995%2C%20-117.832001%5D%2C%20%5B43.102344%2C%20-123.366877%5D%2C%20%5B38.26767%2C%20-85.57887%5D%2C%20%5B35.536781%2C%20-97.46399699999999%5D%2C%20%5B30.268703000000002%2C%20-97.748749%5D%2C%20%5B41.481911%2C%20-88.028961%5D%2C%20%5B34.051804%2C%20-118.090523%5D%2C%20%5B35.06472%2C%20-80.770088%5D%2C%20%5B38.198997999999996%2C%20-85.827821%5D%2C%20%5B29.686028000000004%2C%20-95.557722%5D%2C%20%5B29.74918%2C%20-95.36853%5D%2C%20%5B33.676487%2C%20-112.11267099999999%5D%2C%20%5B33.864159%2C%20-84.479591%5D%2C%20%5B33.716812%2C%20-112.28521%5D%2C%20%5B39.058890999999996%2C%20-84.538078%5D%2C%20%5B42.98958%2C%20-71.41566%5D%2C%20%5B33.863163%2C%20-84.438148%5D%2C%20%5B42.385025%2C%20-83.295181%5D%2C%20%5B34.015453%2C%20-117.092155%5D%2C%20%5B33.529877%2C%20-80.89404300000001%5D%2C%20%5B40.000938%2C%20-82.984604%5D%2C%20%5B29.57453%2C%20-98.32575%5D%2C%20%5B41.332679999999996%2C%20-82.066696%5D%2C%20%5B34.888371%2C%20-82.468941%5D%2C%20%5B32.882599%2C%20-96.824791%5D%2C%20%5B41.2631%2C%20-96.13877099999999%5D%2C%20%5B41.310806%2C%20-74.12735%5D%2C%20%5B41.844303000000004%2C%20-87.97221400000001%5D%2C%20%5B33.956738%2C%20-81.092606%5D%2C%20%5B28.358321999999998%2C%20-81.572586%5D%2C%20%5B35.99094%2C%20-95.904411%5D%2C%20%5B47.655411%2C%20-122.34243799999999%5D%2C%20%5B40.412231%2C%20-74.048377%5D%2C%20%5B27.821070000000002%2C%20-82.668594%5D%2C%20%5B34.037039%2C%20-118.37921399999999%5D%2C%20%5B33.8104%2C%20-117.96758%5D%2C%20%5B42.148216%2C%20-72.57968100000001%5D%2C%20%5B38.568359%2C%20-121.51026200000001%5D%2C%20%5B39.666962%2C%20-105.025116%5D%2C%20%5B37.88178%2C%20-122.30826%5D%2C%20%5B44.901134000000006%2C%20-93.13606999999999%5D%2C%20%5B33.719494%2C%20-117.79521100000001%5D%2C%20%5B34.821940999999995%2C%20-82.223801%5D%2C%20%5B33.735531%2C%20-117.285599%5D%2C%20%5B37.908462%2C%20-121.275648%5D%2C%20%5B34.212222%2C%20-118.20021100000001%5D%2C%20%5B34.15681%2C%20-118.41021%5D%2C%20%5B38.621342%2C%20-77.296022%5D%2C%20%5B36.037383%2C%20-86.791009%5D%2C%20%5B43.043453%2C%20-83.713432%5D%2C%20%5B33.492765999999996%2C%20-84.220028%5D%2C%20%5B40.938805%2C%20-73.035393%5D%2C%20%5B35.46841%2C%20-97.58332800000001%5D%2C%20%5B35.262794%2C%20-80.853371%5D%2C%20%5B38.193444%2C%20-85.50849000000001%5D%2C%20%5B30.167040000000004%2C%20-97.785011%5D%2C%20%5B40.864208000000005%2C%20-74.01213800000001%5D%2C%20%5B43.013138%2C%20-83.688362%5D%2C%20%5B25.807496%2C%20-80.205763%5D%2C%20%5B32.360935%2C%20-86.17115799999999%5D%2C%20%5B35.028385%2C%20-80.964897%5D%2C%20%5B26.118002%2C%20-80.329872%5D%2C%20%5B30.165257%2C%20-92.034409%5D%2C%20%5B33.606384000000006%2C%20-81.84387199999999%5D%2C%20%5B37.778065999999995%2C%20-122.401202%5D%2C%20%5B38.503628000000006%2C%20-89.817863%5D%2C%20%5B33.930903%2C%20-118.101848%5D%2C%20%5B29.750343%2C%20-95.46126600000001%5D%2C%20%5B37.78443%2C%20-122.39341999999999%5D%2C%20%5B35.797897%2C%20-119.05344699999999%5D%2C%20%5B30.026987%2C%20-95.38117199999999%5D%2C%20%5B32.950637%2C%20-96.734812%5D%2C%20%5B32.133990999999995%2C%20-110.977791%5D%2C%20%5B32.760139%2C%20-97.15851500000001%5D%2C%20%5B40.735352%2C%20-73.9748%5D%2C%20%5B36.324406%2C%20-86.868408%5D%2C%20%5B37.22657%2C%20-121.975113%5D%2C%20%5B42.930611%2C%20-85.734138%5D%2C%20%5B29.968683000000002%2C%20-90.106712%5D%2C%20%5B40.932556%2C%20-73.878914%5D%2C%20%5B35.082802%2C%20-81.705956%5D%2C%20%5B39.015316%2C%20-82.709222%5D%2C%20%5B41.928871%2C%20-77.11551700000001%5D%2C%20%5B34.893951%2C%20-82.227562%5D%2C%20%5B39.2228%2C%20-80.29975999999999%5D%2C%20%5B35.06107%2C%20-80.76988%5D%2C%20%5B30.444309000000004%2C%20-91.17904%5D%2C%20%5B39.061814%2C%20-120.122616%5D%2C%20%5B35.874736999999996%2C%20-84.324394%5D%2C%20%5B34.0331%2C%20-118.125%5D%2C%20%5B35.077309%2C%20-106.620827%5D%2C%20%5B44.18757%2C%20-93.25561%5D%2C%20%5B45.110979%2C%20-122.92173100000001%5D%2C%20%5B32.784157%2C%20-96.556724%5D%2C%20%5B33.846661%2C%20-118.220215%5D%2C%20%5B32.866504%2C%20-96.890484%5D%2C%20%5B25.784826000000002%2C%20-80.239441%5D%2C%20%5B35.991211%2C%20-86.683502%5D%2C%20%5B37.922909000000004%2C%20-122.357948%5D%2C%20%5B29.791019%2C%20-95.563515%5D%2C%20%5B33.987579%2C%20-117.88933600000001%5D%2C%20%5B39.714420000000004%2C%20-84.22264%5D%2C%20%5B40.24245%2C%20-111.65866000000001%5D%2C%20%5B29.951475%2C%20-95.331673%5D%2C%20%5B32.891551%2C%20-117.208037%5D%2C%20%5B34.003534%2C%20-117.064939%5D%2C%20%5B32.879996999999996%2C%20-96.770279%5D%2C%20%5B34.277809000000005%2C%20-118.499969%5D%2C%20%5B40.552071000000005%2C%20-74.411156%5D%2C%20%5B39.15015%2C%20-121.965172%5D%2C%20%5B39.985336%2C%20-82.78984100000001%5D%2C%20%5B42.394220000000004%2C%20-87.96314%5D%2C%20%5B37.748459000000004%2C%20-122.40459399999999%5D%2C%20%5B40.98238%2C%20-85.09128%5D%2C%20%5B26.169071%2C%20-81.051636%5D%2C%20%5B40.079386%2C%20-75.315996%5D%2C%20%5B32.177898%2C%20-110.961708%5D%2C%20%5B38.2245%2C%20-122.12653999999999%5D%2C%20%5B30.444291999999997%2C%20-91.149422%5D%2C%20%5B32.719527%2C%20-96.70010699999999%5D%2C%20%5B33.733334%2C%20-117.990082%5D%2C%20%5B27.995161%2C%20-82.580269%5D%2C%20%5B33.91288%2C%20-118.10664399999999%5D%2C%20%5B42.043327000000005%2C%20-71.243149%5D%2C%20%5B39.536415000000005%2C%20-119.78668200000001%5D%2C%20%5B38.4841%2C%20-122.846695%5D%2C%20%5B33.796211%2C%20-84.393692%5D%2C%20%5B35.099878000000004%2C%20-80.994401%5D%2C%20%5B40.860817%2C%20-73.828423%5D%2C%20%5B40.808268%2C%20-86.346006%5D%2C%20%5B35.004752%2C%20-85.219088%5D%2C%20%5B30.220793%2C%20-81.57133499999999%5D%2C%20%5B37.336589000000004%2C%20-121.85728%5D%2C%20%5B30.618515999999996%2C%20-81.65270600000001%5D%2C%20%5B37.851562%2C%20-122.29938500000002%5D%2C%20%5B39.796085%2C%20-86.102287%5D%2C%20%5B34.197602%2C%20-117.862816%5D%2C%20%5B40.823679999999996%2C%20-73.87745%5D%2C%20%5B47.2784%2C%20-122.310921%5D%2C%20%5B39.830067%2C%20-86.253174%5D%2C%20%5B34.630340999999994%2C%20-82.52799999999999%5D%2C%20%5B47.708614000000004%2C%20-122.32865100000001%5D%2C%20%5B34.469035%2C%20-85.276061%5D%2C%20%5B38.824363%2C%20-121.404794%5D%2C%20%5B38.322403%2C%20-122.02571200000001%5D%2C%20%5B43.00565%2C%20-83.507423%5D%2C%20%5B28.523062%2C%20-82.237228%5D%2C%20%5B39.737911%2C%20-84.181534%5D%2C%20%5B39.938679%2C%20-82.845169%5D%2C%20%5B37.516909999999996%2C%20-122.25971000000001%5D%2C%20%5B32.907627000000005%2C%20-96.898117%5D%2C%20%5B42.973503%2C%20-83.7257%5D%2C%20%5B35.752708%2C%20-78.592232%5D%2C%20%5B41.917896%2C%20-87.670753%5D%2C%20%5B32.833019%2C%20-116.98364299999999%5D%2C%20%5B33.938755%2C%20-118.361327%5D%2C%20%5B43.050369%2C%20-83.73268900000001%5D%2C%20%5B33.697102%2C%20-117.73481799999999%5D%2C%20%5B39.083228999999996%2C%20-77.172034%5D%2C%20%5B33.7941%2C%20-117.23013999999999%5D%2C%20%5B33.681020000000004%2C%20-117.85278000000001%5D%2C%20%5B34.120487%2C%20-117.90753899999999%5D%2C%20%5B28.204690999999997%2C%20-82.666021%5D%2C%20%5B28.543051000000002%2C%20-82.36776%5D%2C%20%5B37.333529999999996%2C%20-122.07283999999999%5D%2C%20%5B34.044193%2C%20-81.119621%5D%2C%20%5B40.794456%2C%20-73.4869%5D%2C%20%5B30.315346%2C%20-91.830963%5D%2C%20%5B38.603432%2C%20-121.40148899999998%5D%2C%20%5B33.546982%2C%20-81.939644%5D%2C%20%5B29.679904999999998%2C%20-98.146828%5D%2C%20%5B33.685158%2C%20-117.89679699999999%5D%2C%20%5B37.223361%2C%20-95.717572%5D%2C%20%5B41.215336%2C%20-95.97139%5D%2C%20%5B39.703266%2C%20-75.37595400000001%5D%2C%20%5B43.058659999999996%2C%20-76.06705%5D%2C%20%5B47.582752%2C%20-122.301506%5D%2C%20%5B44.9517%2C%20-93.05736999999999%5D%2C%20%5B38.762192999999996%2C%20-76.88180200000001%5D%2C%20%5B38.639146000000004%2C%20-121.348254%5D%2C%20%5B34.885719%2C%20-82.068428%5D%2C%20%5B40.804381%2C%20-73.91829399999999%5D%2C%20%5B42.502354%2C%20-71.11895%5D%2C%20%5B33.632809%2C%20-84.40097%5D%2C%20%5B30.446401%2C%20-87.275661%5D%2C%20%5B39.016152000000005%2C%20-77.01957800000001%5D%2C%20%5B40.845203000000005%2C%20-73.916702%5D%2C%20%5B38.63005%2C%20-121.401451%5D%2C%20%5B33.520542%2C%20-81.726517%5D%2C%20%5B30.428631%2C%20-91.060699%5D%2C%20%5B33.954768%2C%20-117.30504499999999%5D%2C%20%5B39.872574%2C%20-75.08221400000001%5D%2C%20%5B34.738929999999996%2C%20-82.439911%5D%2C%20%5B43.045722999999995%2C%20-88.03654499999999%5D%2C%20%5B41.84094%2C%20-71.41111%5D%2C%20%5B40.098511%2C%20-75.14273100000001%5D%2C%20%5B27.389282%2C%20-82.532059%5D%2C%20%5B28.479290000000002%2C%20-81.44853%5D%2C%20%5B33.778656%2C%20-117.876554%5D%2C%20%5B34.286209%2C%20-109.83335100000001%5D%2C%20%5B35.105121999999994%2C%20-80.807907%5D%2C%20%5B45.311890000000005%2C%20-121.79853%5D%2C%20%5B44.160264%2C%20-121.258839%5D%2C%20%5B37.618481%2C%20-122.15065%5D%2C%20%5B38.806293%2C%20-104.730438%5D%2C%20%5B35.391338%2C%20-97.529442%5D%2C%20%5B34.497143%2C%20-117.338799%5D%2C%20%5B42.47703%2C%20-82.91636%5D%2C%20%5B33.825001%2C%20-117.9245%5D%2C%20%5B42.066704%2C%20-88.15342700000001%5D%2C%20%5B33.825171999999995%2C%20-84.359627%5D%2C%20%5B42.129490000000004%2C%20-72.063278%5D%2C%20%5B37.033501%2C%20-76.362724%5D%2C%20%5B32.92455%2C%20-96.78246%5D%2C%20%5B42.849899%2C%20-78.79026%5D%2C%20%5B42.401264000000005%2C%20-83.218376%5D%2C%20%5B25.823117%2C%20-80.206385%5D%2C%20%5B37.760651%2C%20-79.408028%5D%2C%20%5B32.761971%2C%20-96.96012900000001%5D%2C%20%5B37.715282%2C%20-122.398381%5D%2C%20%5B33.470692%2C%20-80.884354%5D%2C%20%5B42.720058%2C%20-82.754051%5D%2C%20%5B30.427167999999998%2C%20-97.67641400000001%5D%2C%20%5B34.907459%2C%20-81.794609%5D%2C%20%5B40.399536%2C%20-105.123749%5D%2C%20%5B33.894424%2C%20-84.254814%5D%2C%20%5B38.591617%2C%20-121.40148400000001%5D%2C%20%5B33.989346000000005%2C%20-118.252098%5D%2C%20%5B42.509440999999995%2C%20-124.410118%5D%2C%20%5B39.802718%2C%20-75.348481%5D%2C%20%5B35.30368%2C%20-85.15651%5D%2C%20%5B35.292629%2C%20-80.73893699999999%5D%2C%20%5B40.801693%2C%20-73.01799%5D%2C%20%5B34.03645%2C%20-118.16143999999998%5D%2C%20%5B33.038952%2C%20-80.111862%5D%2C%20%5B35.165413%2C%20-89.86148100000001%5D%2C%20%5B34.4226%2C%20-119.63405%5D%2C%20%5B34.038986%2C%20-80.93719499999999%5D%2C%20%5B29.737472999999998%2C%20-95.514214%5D%2C%20%5B34.712447999999995%2C%20-81.031441%5D%2C%20%5B35.118072999999995%2C%20-106.70163000000001%5D%2C%20%5B33.019548%2C%20-117.112361%5D%2C%20%5B33.89196%2C%20-80.42981%5D%2C%20%5B34.087688%2C%20-84.483994%5D%2C%20%5B39.85832%2C%20-86.27591%5D%2C%20%5B39.193764%2C%20-76.613403%5D%2C%20%5B33.762363%2C%20-84.492648%5D%2C%20%5B30.416443%2C%20-91.069839%5D%2C%20%5B35.831619%2C%20-78.281181%5D%2C%20%5B32.133924%2C%20-110.964196%5D%2C%20%5B28.169037%2C%20-82.740382%5D%2C%20%5B38.422348%2C%20-122.715355%5D%2C%20%5B34.377539%2C%20-118.493509%5D%2C%20%5B40.434971000000004%2C%20-79.86795%5D%2C%20%5B37.12283%2C%20-122.12149199999999%5D%2C%20%5B35.264041999999996%2C%20-80.853088%5D%2C%20%5B29.738134000000002%2C%20-95.265165%5D%2C%20%5B36.255802%2C%20-119.35696899999999%5D%2C%20%5B41.917639%2C%20-75.847535%5D%2C%20%5B28.659340000000004%2C%20-81.38871%5D%2C%20%5B29.66814%2C%20-95.383255%5D%2C%20%5B39.494820000000004%2C%20-76.667137%5D%2C%20%5B45.291086%2C%20-122.56414099999999%5D%2C%20%5B35.798409%2C%20-78.62445799999999%5D%2C%20%5B34.487221000000005%2C%20-82.429047%5D%2C%20%5B43.182629%2C%20-77.61097%5D%2C%20%5B34.033394%2C%20-118.182892%5D%2C%20%5B44.188595%2C%20-93.949448%5D%2C%20%5B40.76817%2C%20-73.9054%5D%2C%20%5B30.441299%2C%20-91.138237%5D%2C%20%5B43.030772999999996%2C%20-76.0047%5D%2C%20%5B35.87677%2C%20-78.792191%5D%2C%20%5B39.699188%2C%20-86.148636%5D%2C%20%5B35.837643%2C%20-78.65316800000001%5D%2C%20%5B28.487584000000002%2C%20-81.42847900000001%5D%2C%20%5B37.704449%2C%20-122.082324%5D%2C%20%5B42.32509%2C%20-122.86758%5D%2C%20%5B32.270767%2C%20-111.010246%5D%2C%20%5B28.547001%2C%20-81.169022%5D%2C%20%5B34.008072%2C%20-118.12811299999998%5D%2C%20%5B28.552989%2C%20-81.39331999999999%5D%2C%20%5B41.713314000000004%2C%20-71.47126800000001%5D%2C%20%5B34.0641%2C%20-117.81003%5D%2C%20%5B30.410027000000003%2C%20-97.74758100000001%5D%2C%20%5B30.462158000000002%2C%20-97.816017%5D%2C%20%5B28.862575%2C%20-82.09066899999999%5D%2C%20%5B32.097437%2C%20-110.687175%5D%2C%20%5B41.095577%2C%20-73.936325%5D%2C%20%5B34.037991%2C%20-118.31771100000002%5D%2C%20%5B38.803108%2C%20-104.803558%5D%2C%20%5B40.608185%2C%20-74.132317%5D%2C%20%5B32.191936%2C%20-110.83240500000001%5D%2C%20%5B37.36286%2C%20-121.843088%5D%2C%20%5B34.050529%2C%20-117.943001%5D%2C%20%5B40.726034999999996%2C%20-73.903086%5D%2C%20%5B35.914590000000004%2C%20-78.68196999999999%5D%2C%20%5B26.076459%2C%20-80.168604%5D%2C%20%5B38.43587%2C%20-122.71694%5D%2C%20%5B37.334270000000004%2C%20-122.03215800000001%5D%2C%20%5B38.476504999999996%2C%20-123.02033200000001%5D%2C%20%5B34.072769%2C%20-118.466476%5D%2C%20%5B47.52134%2C%20-122.19836000000001%5D%2C%20%5B47.923061%2C%20-122.22786699999999%5D%2C%20%5B34.067445%2C%20-117.581029%5D%2C%20%5B26.274832%2C%20-80.125206%5D%2C%20%5B40.84707%2C%20-73.92560999999999%5D%2C%20%5B27.254179999999998%2C%20-82.49763%5D%2C%20%5B33.792481%2C%20-118.101789%5D%2C%20%5B41.263259999999995%2C%20-96.076172%5D%2C%20%5B40.504714%2C%20-74.37743%5D%2C%20%5B42.101471000000004%2C%20-70.94957%5D%2C%20%5B38.673752%2C%20-90.449928%5D%2C%20%5B29.700834000000004%2C%20-95.776016%5D%2C%20%5B37.866929%2C%20-122.203344%5D%2C%20%5B42.423248%2C%20-122.85165400000001%5D%2C%20%5B26.61341%2C%20-80.068784%5D%2C%20%5B42.265962%2C%20-122.806766%5D%2C%20%5B41.232327000000005%2C%20-73.22471800000001%5D%2C%20%5B34.00185%2C%20-117.83457%5D%2C%20%5B30.237064%2C%20-93.257591%5D%2C%20%5B40.552364000000004%2C%20-74.31774899999999%5D%2C%20%5B43.14998%2C%20-77.64862%5D%2C%20%5B35.37018%2C%20-80.83143000000001%5D%2C%20%5B29.836784%2C%20-95.488976%5D%2C%20%5B32.824627%2C%20-97.31276700000001%5D%2C%20%5B42.883305%2C%20-78.768959%5D%2C%20%5B40.559509999999996%2C%20-79.95926%5D%2C%20%5B40.627884%2C%20-111.904427%5D%2C%20%5B39.454121%2C%20-74.963364%5D%2C%20%5B37.12122%2C%20-121.62116999999999%5D%2C%20%5B35.478828%2C%20-97.6278%5D%2C%20%5B34.230976%2C%20-118.553574%5D%2C%20%5B34.98922%2C%20-82.366722%5D%2C%20%5B33.938613000000004%2C%20-118.099775%5D%2C%20%5B42.008369%2C%20-93.571304%5D%2C%20%5B44.852171000000006%2C%20-93.129832%5D%2C%20%5B32.968781%2C%20-96.932526%5D%2C%20%5B25.532272%2C%20-80.372116%5D%2C%20%5B34.150582%2C%20-117.343299%5D%2C%20%5B44.517921%2C%20-94.37160300000001%5D%2C%20%5B29.7129%2C%20-95.546013%5D%2C%20%5B34.42112%2C%20-119.667068%5D%2C%20%5B33.68148%2C%20-84.31313%5D%2C%20%5B38.946915000000004%2C%20-76.855446%5D%2C%20%5B40.861670000000004%2C%20-111.92986%5D%2C%20%5B44.924412%2C%20-93.40280200000001%5D%2C%20%5B33.461555%2C%20-112.274879%5D%2C%20%5B37.10999%2C%20-113.59391000000001%5D%2C%20%5B34.02902%2C%20-118.39636999999999%5D%2C%20%5B44.951584000000004%2C%20-93.167221%5D%2C%20%5B45.487429999999996%2C%20-122.67858000000001%5D%2C%20%5B29.90486%2C%20-95.401337%5D%2C%20%5B41.66835%2C%20-71.48738900000001%5D%2C%20%5B37.316146999999994%2C%20-121.93177800000001%5D%2C%20%5B39.890736%2C%20-75.10393499999999%5D%2C%20%5B29.71043%2C%20-95.26679200000001%5D%2C%20%5B40.72189%2C%20-111.90423999999999%5D%2C%20%5B39.823864%2C%20-86.224327%5D%2C%20%5B33.771339000000005%2C%20-84.396179%5D%2C%20%5B33.876289%2C%20-118.102577%5D%2C%20%5B40.162448%2C%20-78.106736%5D%2C%20%5B36.791246%2C%20-119.86118799999998%5D%2C%20%5B32.866531%2C%20-96.864662%5D%2C%20%5B40.861645%2C%20-74.81378199999999%5D%2C%20%5B35.964236%2C%20-119.04574%5D%2C%20%5B30.409645%2C%20-91.087769%5D%2C%20%5B34.017162%2C%20-118.175362%5D%2C%20%5B39.844955%2C%20-75.37514499999999%5D%2C%20%5B43.637598%2C%20-95.357648%5D%2C%20%5B40.634679999999996%2C%20-111.89657199999999%5D%2C%20%5B37.824085%2C%20-122.26775400000001%5D%2C%20%5B37.808491%2C%20-122.36734799999999%5D%2C%20%5B33.864816%2C%20-112.634449%5D%2C%20%5B33.996468%2C%20-117.92663600000002%5D%2C%20%5B38.641290000000005%2C%20-121.371095%5D%2C%20%5B34.718109000000005%2C%20-82.444672%5D%2C%20%5B34.0769%2C%20-117.20084399999999%5D%2C%20%5B41.165089%2C%20-111.94248200000001%5D%2C%20%5B36.989444%2C%20-122.020278%5D%2C%20%5B38.22248%2C%20-85.50071%5D%2C%20%5B33.378502000000005%2C%20-82.08130600000001%5D%2C%20%5B40.0223%2C%20-79.08622%5D%2C%20%5B34.346478000000005%2C%20-83.31875600000001%5D%2C%20%5B34.235109%2C%20-118.412351%5D%2C%20%5B41.994572%2C%20-88.20710799999999%5D%2C%20%5B39.311051%2C%20-76.623234%5D%2C%20%5B32.861069%2C%20-97.314651%5D%2C%20%5B26.628275%2C%20-80.08058199999999%5D%2C%20%5B41.102109999999996%2C%20-73.99729%5D%2C%20%5B39.556540999999996%2C%20-119.752197%5D%2C%20%5B41.46159%2C%20-81.219559%5D%2C%20%5B34.066345%2C%20-118.000809%5D%2C%20%5B33.930969%2C%20-118.295502%5D%2C%20%5B29.693824%2C%20-95.388475%5D%2C%20%5B32.743351000000004%2C%20-97.319738%5D%2C%20%5B30.29431%2C%20-97.72020699999999%5D%2C%20%5B40.6553%2C%20-111.894279%5D%2C%20%5B33.516228000000005%2C%20-80.86608100000001%5D%2C%20%5B34.281452%2C%20-118.691042%5D%2C%20%5B42.3745%2C%20-87.855521%5D%2C%20%5B32.717166999999996%2C%20-117.08491399999998%5D%2C%20%5B40.13606%2C%20-82.97126%5D%2C%20%5B37.876335%2C%20-84.333389%5D%2C%20%5B38.484578000000006%2C%20-90.44372299999999%5D%2C%20%5B39.382220000000004%2C%20-76.737087%5D%2C%20%5B42.27904%2C%20-83.67643000000001%5D%2C%20%5B42.849895000000004%2C%20-78.790497%5D%2C%20%5B33.070609999999995%2C%20-79.97715%5D%2C%20%5B43.181911%2C%20-77.43073299999999%5D%2C%20%5B40.663326%2C%20-75.382774%5D%2C%20%5B40.644401%2C%20-111.930746%5D%2C%20%5B33.928226%2C%20-84.176018%5D%2C%20%5B28.368170000000003%2C%20-81.37472%5D%2C%20%5B41.88818%2C%20-88.151085%5D%2C%20%5B41.820881%2C%20-87.699501%5D%2C%20%5B33.928872%2C%20-118.28936499999999%5D%2C%20%5B38.673531%2C%20-120.9897%5D%2C%20%5B30.366737%2C%20-97.686371%5D%2C%20%5B35.70612%2C%20-78.603348%5D%2C%20%5B29.721189000000003%2C%20-95.520309%5D%2C%20%5B36.234745000000004%2C%20-86.766029%5D%2C%20%5B33.72671%2C%20-117.83498300000001%5D%2C%20%5B29.869184000000004%2C%20-95.412628%5D%2C%20%5B37.87612%2C%20-122.04603999999999%5D%2C%20%5B33.844002%2C%20-117.53510700000001%5D%2C%20%5B34.072247%2C%20-117.90746299999999%5D%2C%20%5B34.223015000000004%2C%20-119.14007600000001%5D%2C%20%5B34.040081%2C%20-81.092827%5D%2C%20%5B41.292099%2C%20-96.15812700000001%5D%2C%20%5B33.863712%2C%20-84.438255%5D%2C%20%5B37.767235%2C%20-122.196495%5D%2C%20%5B41.508232%2C%20-74.030006%5D%2C%20%5B39.718166%2C%20-105.025116%5D%2C%20%5B36.755103999999996%2C%20-119.75815700000001%5D%2C%20%5B40.138996%2C%20-75.244232%5D%2C%20%5B44.89127%2C%20-93.443504%5D%2C%20%5B44.943690000000004%2C%20-93.3479%5D%2C%20%5B33.522459999999995%2C%20-84.3633%5D%2C%20%5B33.758427000000005%2C%20-117.860802%5D%2C%20%5B38.4425%2C%20-121.40397%5D%2C%20%5B44.973766999999995%2C%20-93.088495%5D%2C%20%5B35.420925%2C%20-97.488068%5D%2C%20%5B38.385490000000004%2C%20-122.71611000000001%5D%2C%20%5B37.38382%2C%20-79.800438%5D%2C%20%5B35.16901%2C%20-80.756065%5D%2C%20%5B30.23889%2C%20-92.09612299999999%5D%2C%20%5B39.759979%2C%20-84.22910300000001%5D%2C%20%5B25.840631%2C%20-80.322289%5D%2C%20%5B28.400421%2C%20-80.75296%5D%2C%20%5B34.019189000000004%2C%20-118.17231299999999%5D%2C%20%5B34.60975%2C%20-86.97661%5D%2C%20%5B27.4624%2C%20-82.60410999999999%5D%2C%20%5B30.266481%2C%20-97.73719%5D%2C%20%5B39.69722%2C%20-104.98285700000001%5D%2C%20%5B29.077446999999996%2C%20-81.31313%5D%2C%20%5B39.99915%2C%20-76.26463199999999%5D%2C%20%5B33.815269%2C%20-117.915451%5D%2C%20%5B39.680111%2C%20-104.940758%5D%2C%20%5B41.73819%2C%20-88.03508000000001%5D%2C%20%5B43.19447%2C%20-93.35129%5D%2C%20%5B40.633990999999995%2C%20-74.124146%5D%2C%20%5B35.536858%2C%20-97.601173%5D%2C%20%5B37.601418%2C%20-77.454208%5D%2C%20%5B40.66591%2C%20-73.81566%5D%2C%20%5B30.455189%2C%20-83.76258100000001%5D%2C%20%5B41.99386%2C%20-83.86235%5D%2C%20%5B34.031918%2C%20-118.27448999999999%5D%2C%20%5B40.161396%2C%20-75.47995%5D%2C%20%5B39.429601%2C%20-77.998103%5D%2C%20%5B42.38739%2C%20-73.558701%5D%2C%20%5B41.620071%2C%20-83.541519%5D%2C%20%5B47.603249%2C%20-122.330276%5D%2C%20%5B40.73209%2C%20-73.320663%5D%2C%20%5B42.499634%2C%20-71.15651700000001%5D%2C%20%5B30.457559999999997%2C%20-91.175331%5D%2C%20%5B35.062778%2C%20-119.003056%5D%2C%20%5B41.219727%2C%20-95.953529%5D%2C%20%5B29.87203%2C%20-95.40890999999999%5D%2C%20%5B35.767857%2C%20-78.574066%5D%2C%20%5B29.809776%2C%20-95.316826%5D%2C%20%5B34.154221%2C%20-117.34419299999999%5D%2C%20%5B30.445484999999998%2C%20-86.63851700000001%5D%2C%20%5B39.24965%2C%20-76.811521%5D%2C%20%5B30.226490000000002%2C%20-95.45776%5D%2C%20%5B33.919094%2C%20-84.35773499999999%5D%2C%20%5B42.447083%2C%20-83.094933%5D%2C%20%5B35.941291%2C%20-78.68614000000001%5D%2C%20%5B42.666233%2C%20-84.541199%5D%2C%20%5B34.06815%2C%20-117.38963000000001%5D%2C%20%5B29.681071999999997%2C%20-95.38110400000001%5D%2C%20%5B40.568497%2C%20-74.32570600000001%5D%2C%20%5B36.171271999999995%2C%20-94.186702%5D%2C%20%5B37.770949%2C%20-122.405755%5D%2C%20%5B37.701458%2C%20-122.47199199999999%5D%2C%20%5B35.60422%2C%20-83.00776%5D%2C%20%5B39.204791%2C%20-121.20482700000001%5D%2C%20%5B25.846972%2C%20-80.21169300000001%5D%2C%20%5B32.250698%2C%20-110.87536599999999%5D%2C%20%5B43.19662%2C%20-123.36032%5D%2C%20%5B33.876289%2C%20-118.125183%5D%2C%20%5B30.600240999999997%2C%20-85.749298%5D%2C%20%5B41.92021%2C%20-71.83925%5D%2C%20%5B33.18233%2C%20-117.35585%5D%2C%20%5B40.668324%2C%20-77.60284399999999%5D%2C%20%5B38.029764%2C%20-122.11663100000001%5D%2C%20%5B30.380229999999997%2C%20-91.094612%5D%2C%20%5B39.017227%2C%20-76.409676%5D%2C%20%5B44.949883%2C%20-93.101616%5D%2C%20%5B44.907377000000004%2C%20-124.00610800000001%5D%2C%20%5B29.812164000000003%2C%20-95.516853%5D%2C%20%5B39.547385999999996%2C%20-74.466751%5D%2C%20%5B38.186275%2C%20-122.653641%5D%2C%20%5B42.717094%2C%20-71.44270300000001%5D%2C%20%5B39.784378000000004%2C%20-84.228714%5D%2C%20%5B38.223613%2C%20-122.61150900000001%5D%2C%20%5B39.784447%2C%20-86.155754%5D%2C%20%5B47.621479%2C%20-122.328819%5D%2C%20%5B29.995525%2C%20-90.115944%5D%2C%20%5B37.929428%2C%20-122.060455%5D%2C%20%5B34.4049%2C%20-79.32905600000001%5D%2C%20%5B32.77898%2C%20-96.782036%5D%2C%20%5B37.403809%2C%20-120.85013400000001%5D%2C%20%5B41.72765%2C%20-88.02793100000001%5D%2C%20%5B26.502762%2C%20-81.856575%5D%2C%20%5B28.596536999999998%2C%20-81.396202%5D%2C%20%5B42.48021%2C%20-83.20700000000001%5D%2C%20%5B32.910740000000004%2C%20-96.942818%5D%2C%20%5B42.095383%2C%20-83.241844%5D%2C%20%5B42.07777%2C%20-87.710114%5D%2C%20%5B44.968815%2C%20-93.252876%5D%2C%20%5B38.878547999999995%2C%20-77.26754%5D%2C%20%5B30.339102%2C%20-97.700294%5D%2C%20%5B37.700179999999996%2C%20-121.77845%5D%2C%20%5B42.98917%2C%20-83.682701%5D%2C%20%5B33.508410999999995%2C%20-86.80348199999999%5D%2C%20%5B35.77769%2C%20-78.61399999999999%5D%2C%20%5B36.204577%2C%20-115.26069%5D%2C%20%5B39.744881%2C%20-75.569771%5D%2C%20%5B42.018284%2C%20-87.940445%5D%2C%20%5B35.300678000000005%2C%20-80.727867%5D%2C%20%5B40.093196999999996%2C%20-75.367775%5D%2C%20%5B33.442161999999996%2C%20-86.73037%5D%2C%20%5B37.796478%2C%20-122.26988200000001%5D%2C%20%5B33.901070000000004%2C%20-84.244003%5D%2C%20%5B32.907726000000004%2C%20-96.921234%5D%2C%20%5B41.872105%2C%20-71.055435%5D%2C%20%5B33.499512%2C%20-112.17495%5D%2C%20%5B36.144397999999995%2C%20-86.696877%5D%2C%20%5B29.505345000000002%2C%20-98.54993499999999%5D%2C%20%5B39.321579%2C%20-76.5737%5D%2C%20%5B34.027609999999996%2C%20-117.57053%5D%2C%20%5B40.822365000000005%2C%20-73.887215%5D%2C%20%5B41.534927%2C%20-72.825645%5D%2C%20%5B35.840523%2C%20-78.642685%5D%2C%20%5B40.395885%2C%20-77.00972%5D%2C%20%5B40.58054%2C%20-74.623%5D%2C%20%5B40.573475%2C%20-111.900322%5D%2C%20%5B30.480076%2C%20-84.30256700000001%5D%2C%20%5B34.490196000000005%2C%20-83.022072%5D%2C%20%5B35.34129%2C%20-82.440208%5D%2C%20%5B43.100361%2C%20-78.978027%5D%2C%20%5B42.19365%2C%20-83.24103000000001%5D%2C%20%5B33.929256%2C%20-81.04255699999999%5D%2C%20%5B29.333609000000003%2C%20-98.481125%5D%2C%20%5B34.989678999999995%2C%20-120.43361599999999%5D%2C%20%5B33.422009%2C%20-111.922867%5D%2C%20%5B34.810959000000004%2C%20-89.97099399999999%5D%2C%20%5B41.810158%2C%20-88.072929%5D%2C%20%5B42.523891%2C%20-122.814201%5D%2C%20%5B40.11223%2C%20-75.04784000000001%5D%2C%20%5B33.834944%2C%20-117.83558799999999%5D%2C%20%5B33.17924%2C%20-117.347701%5D%2C%20%5B33.972725%2C%20-118.37941699999999%5D%2C%20%5B30.424614000000002%2C%20-91.156006%5D%2C%20%5B42.397507%2C%20-71.104393%5D%2C%20%5B35.391865%2C%20-97.49515500000001%5D%2C%20%5B37.321628000000004%2C%20-121.997367%5D%2C%20%5B34.049479999999996%2C%20-118.44866999999999%5D%2C%20%5B38.893570000000004%2C%20-76.98549%5D%2C%20%5B34.004791%2C%20-118.17301200000001%5D%2C%20%5B30.593895%2C%20-91.14969599999999%5D%2C%20%5B40.114540000000005%2C%20-76.64669%5D%2C%20%5B30.6612%2C%20-88.19059%5D%2C%20%5B38.303295%2C%20-85.890404%5D%2C%20%5B47.674999%2C%20-117.41116299999999%5D%2C%20%5B30.270590000000002%2C%20-97.744522%5D%2C%20%5B45.055893%2C%20-93.129379%5D%2C%20%5B34.077583000000004%2C%20-117.623268%5D%2C%20%5B33.925201%2C%20-117.88028700000001%5D%2C%20%5B36.327143%2C%20-119.265272%5D%2C%20%5B25.789072%2C%20-80.204353%5D%2C%20%5B32.836940000000006%2C%20-96.98606%5D%2C%20%5B39.442087%2C%20-76.343275%5D%2C%20%5B42.48975%2C%20-83.28475999999999%5D%2C%20%5B35.4673%2C%20-97.476677%5D%2C%20%5B35.815468%2C%20-78.70517%5D%2C%20%5B42.955978%2C%20-85.67125%5D%2C%20%5B42.504543%2C%20-83.114975%5D%2C%20%5B28.538279%2C%20-82.320778%5D%2C%20%5B35.99905%2C%20-114.94358000000001%5D%2C%20%5B35.14055%2C%20-80.93288000000001%5D%2C%20%5B37.23819%2C%20-121.762077%5D%2C%20%5B40.109722%2C%20-79.3825%5D%2C%20%5B44.96547%2C%20-93.25705%5D%2C%20%5B28.662039%2C%20-81.38846600000001%5D%2C%20%5B34.071725%2C%20-117.61288%5D%2C%20%5B30.00925%2C%20-90.24421%5D%2C%20%5B40.151955%2C%20-75.11367800000001%5D%2C%20%5B33.889675%2C%20-117.880481%5D%2C%20%5B36.059278000000006%2C%20-86.698352%5D%2C%20%5B25.941519%2C%20-80.189461%5D%2C%20%5B33.937687%2C%20-118.09832%5D%2C%20%5B29.576063%2C%20-95.386108%5D%2C%20%5B34.09113%2C%20-118.23902%5D%2C%20%5B34.040194%2C%20-118.017156%5D%2C%20%5B32.070183%2C%20-81.20238499999999%5D%2C%20%5B32.74837%2C%20-117.108965%5D%2C%20%5B30.276636%2C%20-97.74227900000001%5D%2C%20%5B29.784578000000003%2C%20-95.643585%5D%2C%20%5B28.036440000000002%2C%20-82.100151%5D%2C%20%5B40.809132%2C%20-73.19768499999999%5D%2C%20%5B30.308559000000002%2C%20-97.754639%5D%2C%20%5B29.597284000000002%2C%20-95.38679499999999%5D%2C%20%5B39.733398%2C%20-75.00882%5D%2C%20%5B38.531401%2C%20-77.818584%5D%2C%20%5B29.784540000000003%2C%20-95.60454%5D%2C%20%5B42.175823%2C%20-87.989395%5D%2C%20%5B43.185992999999996%2C%20-75.392222%5D%2C%20%5B33.87215%2C%20-118.34159%5D%2C%20%5B35.12925%2C%20-80.939217%5D%2C%20%5B37.89968%2C%20-122.51585%5D%2C%20%5B25.99509%2C%20-80.19884%5D%2C%20%5B35.161518%2C%20-119.11073300000001%5D%2C%20%5B41.787617%2C%20-72.65770699999999%5D%2C%20%5B41.578484%2C%20-87.63542199999999%5D%2C%20%5B33.925159%2C%20-117.88028700000001%5D%2C%20%5B34.153034999999996%2C%20-118.376033%5D%2C%20%5B37.97855%2C%20-122.029579%5D%2C%20%5B40.040668%2C%20-76.692299%5D%2C%20%5B34.110424%2C%20-118.334579%5D%2C%20%5B40.10955%2C%20-75.27217900000001%5D%2C%20%5B35.530857%2C%20-97.514786%5D%2C%20%5B37.542196999999994%2C%20-121.27068799999999%5D%2C%20%5B32.76372%2C%20-97.31758%5D%2C%20%5B26.576969000000002%2C%20-81.75529499999999%5D%2C%20%5B32.778921000000004%2C%20-117.061586%5D%2C%20%5B33.815284000000005%2C%20-84.251714%5D%2C%20%5B41.84094%2C%20-71.41111%5D%2C%20%5B35.869694%2C%20-78.545113%5D%2C%20%5B34.031185%2C%20-117.550468%5D%2C%20%5B41.07995%2C%20-81.50389%5D%2C%20%5B45.361439000000004%2C%20-122.59996799999999%5D%2C%20%5B39.23545%2C%20-76.68629%5D%2C%20%5B32.940002%2C%20-96.738029%5D%2C%20%5B40.638939%2C%20-111.32763700000001%5D%2C%20%5B32.310051%2C%20-90.163269%5D%2C%20%5B35.08932%2C%20-80.87065%5D%2C%20%5B30.688133%2C%20-84.38044000000001%5D%2C%20%5B47.734120000000004%2C%20-122.33806000000001%5D%2C%20%5B42.870290000000004%2C%20-70.88894%5D%2C%20%5B38.79296%2C%20-77.04682%5D%2C%20%5B32.442003%2C%20-93.751826%5D%2C%20%5B33.46268%2C%20-112.19308000000001%5D%2C%20%5B27.903406%2C%20-82.343964%5D%2C%20%5B37.553101%2C%20-77.44416%5D%2C%20%5B29.396079999999998%2C%20-98.497765%5D%2C%20%5B35.26462%2C%20-80.94043%5D%2C%20%5B42.007220000000004%2C%20-88.20324000000001%5D%2C%20%5B38.54407%2C%20-90.29656999999999%5D%2C%20%5B34.212063%2C%20-118.348564%5D%2C%20%5B40.087536%2C%20-82.98741899999999%5D%2C%20%5B30.652901%2C%20-91.179138%5D%2C%20%5B35.2995%2C%20-89.831352%5D%2C%20%5B37.900723%2C%20-121.285301%5D%2C%20%5B37.482746%2C%20-79.11895799999999%5D%2C%20%5B34.06665%2C%20-118.240696%5D%2C%20%5B26.44768%2C%20-81.93998%5D%2C%20%5B36.142734999999995%2C%20-95.958855%5D%2C%20%5B31.767941999999998%2C%20-106.446495%5D%2C%20%5B45.702647999999996%2C%20-121.621918%5D%2C%20%5B37.316868%2C%20-121.919266%5D%2C%20%5B42.48892%2C%20-83.08129%5D%2C%20%5B29.40638%2C%20-98.574867%5D%2C%20%5B45.302611999999996%2C%20-121.76493500000001%5D%2C%20%5B39.686508%2C%20-90.228607%5D%2C%20%5B34.751568%2C%20-82.197395%5D%2C%20%5B29.145494%2C%20-82.18519%5D%2C%20%5B33.98923%2C%20-118.07019%5D%2C%20%5B39.112992999999996%2C%20-121.564153%5D%2C%20%5B32.236156%2C%20-110.87552600000001%5D%2C%20%5B47.597621999999994%2C%20-122.32058%5D%2C%20%5B33.489803%2C%20-82.051361%5D%2C%20%5B34.135574%2C%20-118.00088500000001%5D%2C%20%5B39.84732%2C%20-75.751069%5D%2C%20%5B41.18634%2C%20-111.94905%5D%2C%20%5B33.429629999999996%2C%20-117.14398999999999%5D%2C%20%5B32.642059%2C%20-96.805779%5D%2C%20%5B29.703556%2C%20-95.344566%5D%2C%20%5B37.516262%2C%20-77.189644%5D%2C%20%5B39.242962%2C%20-104.87860900000001%5D%2C%20%5B29.72523%2C%20-95.46021999999999%5D%2C%20%5B36.108765000000005%2C%20-86.723152%5D%2C%20%5B40.237679%2C%20-75.688148%5D%2C%20%5B37.739513%2C%20-121.58993500000001%5D%2C%20%5B41.780781%2C%20-87.916679%5D%2C%20%5B37.536978999999995%2C%20-77.42893000000001%5D%2C%20%5B40.02364%2C%20-76.728302%5D%2C%20%5B30.203540999999998%2C%20-97.712158%5D%2C%20%5B30.23033%2C%20-97.788048%5D%2C%20%5B33.877075%2C%20-118.150749%5D%2C%20%5B33.755032%2C%20-111.973297%5D%2C%20%5B34.019634%2C%20-117.98812099999999%5D%2C%20%5B39.105297%2C%20-77.497749%5D%2C%20%5B34.293327000000005%2C%20-81.54592099999999%5D%2C%20%5B33.7718%2C%20-118.00067%5D%2C%20%5B31.289339000000002%2C%20-85.488037%5D%2C%20%5B42.962051%2C%20-87.93765400000001%5D%2C%20%5B26.3082%2C%20-80.11865999999999%5D%2C%20%5B41.832581%2C%20-87.945557%5D%2C%20%5B30.25868%2C%20-97.748489%5D%2C%20%5B36.597401%2C%20-78.155647%5D%2C%20%5B33.34838%2C%20-84.29570600000001%5D%2C%20%5B34.905071%2C%20-82.420082%5D%2C%20%5B43.120819%2C%20-83.558617%5D%2C%20%5B30.112779999999997%2C%20-97.785271%5D%2C%20%5B42.377682%2C%20-71.225594%5D%2C%20%5B34.055695%2C%20-118.45196499999999%5D%2C%20%5B25.785549%2C%20-80.21480600000001%5D%2C%20%5B33.462875%2C%20-84.21055600000001%5D%2C%20%5B26.351049%2C%20-81.779266%5D%2C%20%5B39.681678999999995%2C%20-105.89166999999999%5D%2C%20%5B34.170677000000005%2C%20-79.703804%5D%2C%20%5B34.978149%2C%20-82.243561%5D%2C%20%5B34.206501%2C%20-84.761719%5D%2C%20%5B40.080368%2C%20-76.348686%5D%2C%20%5B29.723029999999998%2C%20-95.688087%5D%2C%20%5B34.006972999999995%2C%20-117.896332%5D%2C%20%5B36.15412%2C%20-86.8229%5D%2C%20%5B37.52942%2C%20-77.48538%5D%2C%20%5B45.12271%2C%20-93.31532%5D%2C%20%5B39.00642%2C%20-77.07101999999999%5D%2C%20%5B30.062763%2C%20-81.87416800000001%5D%2C%20%5B38.597076%2C%20-120.960178%5D%2C%20%5B47.638637%2C%20-122.32328100000001%5D%2C%20%5B39.107517%2C%20-94.588188%5D%2C%20%5B40.582291%2C%20-89.636337%5D%2C%20%5B43.016483%2C%20-88.07725500000001%5D%2C%20%5B25.82432%2C%20-80.20647%5D%2C%20%5B35.211586%2C%20-80.69162800000001%5D%2C%20%5B32.320564000000005%2C%20-90.247955%5D%2C%20%5B38.000443%2C%20-121.26265%5D%2C%20%5B41.596371000000005%2C%20-72.290237%5D%2C%20%5B32.458443%2C%20-93.818237%5D%2C%20%5B34.227734000000005%2C%20-79.796883%5D%2C%20%5B42.49025%2C%20-83.28556800000001%5D%2C%20%5B37.738739%2C%20-122.19458%5D%2C%20%5B34.00473%2C%20-81.115967%5D%2C%20%5B44.93265%2C%20-123.14211%5D%2C%20%5B40.797539%2C%20-72.840721%5D%2C%20%5B34.019283%2C%20-118.17350800000001%5D%2C%20%5B25.727554%2C%20-80.260002%5D%2C%20%5B42.762939%2C%20-73.762451%5D%2C%20%5B45.391527%2C%20-92.856799%5D%2C%20%5B28.53363%2C%20-82.511574%5D%2C%20%5B42.910309000000005%2C%20-88.218323%5D%2C%20%5B45.65168%2C%20-122.85157%5D%2C%20%5B32.228935%2C%20-110.883995%5D%2C%20%5B29.523125%2C%20-98.555916%5D%2C%20%5B35.752102%2C%20-78.567268%5D%2C%20%5B33.825493%2C%20-118.215782%5D%2C%20%5B37.637122999999995%2C%20-77.634003%5D%2C%20%5B35.409843%2C%20-97.512505%5D%2C%20%5B35.165321%2C%20-89.861588%5D%2C%20%5B34.168106%2C%20-79.348892%5D%2C%20%5B38.558887%2C%20-121.471024%5D%2C%20%5B37.755165000000005%2C%20-122.003433%5D%2C%20%5B34.068695%2C%20-117.83951599999999%5D%2C%20%5B37.807938%2C%20-122.30450400000001%5D%2C%20%5B45.50813%2C%20-122.7773%5D%2C%20%5B45.508602%2C%20-122.778838%5D%2C%20%5B42.653202%2C%20-73.69051400000001%5D%2C%20%5B25.686308%2C%20-80.41669%5D%2C%20%5B27.275858000000003%2C%20-80.35968000000001%5D%2C%20%5B44.984584999999996%2C%20-93.35977199999999%5D%2C%20%5B42.322624%2C%20-83.690269%5D%2C%20%5B43.059067%2C%20-88.205849%5D%2C%20%5B30.534079%2C%20-87.08717299999999%5D%2C%20%5B42.019009000000004%2C%20-87.803993%5D%2C%20%5B33.38467%2C%20-81.613342%5D%2C%20%5B36.16025%2C%20-80.27887%5D%2C%20%5B35.22905%2C%20-80.860619%5D%2C%20%5B39.689484%2C%20-105.02507800000001%5D%2C%20%5B25.737779999999997%2C%20-80.38459%5D%2C%20%5B30.69185%2C%20-86.11697%5D%2C%20%5B32.761978000000006%2C%20-96.74571999999999%5D%2C%20%5B44.915490000000005%2C%20-120.490734%5D%2C%20%5B42.6054%2C%20-71.32386%5D%2C%20%5B38.877410999999995%2C%20-77.274788%5D%2C%20%5B33.960148%2C%20-118.244179%5D%2C%20%5B33.466072%2C%20-112.191574%5D%2C%20%5B37.85272%2C%20-122.29991000000001%5D%2C%20%5B39.069%2C%20-94.51133%5D%2C%20%5B35.898643%2C%20-78.784195%5D%2C%20%5B27.758295%2C%20-82.67942%5D%2C%20%5B41.754688%2C%20-88.012466%5D%2C%20%5B29.942446%2C%20-95.437263%5D%2C%20%5B35.811726%2C%20-78.61704300000001%5D%2C%20%5B45.58442%2C%20-117.54088%5D%2C%20%5B28.182011%2C%20-81.744019%5D%2C%20%5B37.574917%2C%20-121.88446%5D%2C%20%5B41.874962%2C%20-88.00819399999999%5D%2C%20%5B38.773445%2C%20-121.242834%5D%2C%20%5B39.428705%2C%20-77.41959399999999%5D%2C%20%5B37.89505%2C%20-122.30821200000001%5D%2C%20%5B33.7658%2C%20-117.95371000000002%5D%2C%20%5B35.137409000000005%2C%20-80.93675999999999%5D%2C%20%5B31.38322%2C%20-89.32254%5D%2C%20%5B30.420415999999996%2C%20-97.704391%5D%2C%20%5B40.616035%2C%20-73.94483199999999%5D%2C%20%5B35.202007%2C%20-80.786354%5D%2C%20%5B34.02888%2C%20-118.00291000000001%5D%2C%20%5B40.685982%2C%20-75.179367%5D%2C%20%5B26.616898%2C%20-81.708282%5D%2C%20%5B38.640946%2C%20-121.474368%5D%2C%20%5B36.855418%2C%20-121.632296%5D%2C%20%5B37.52409%2C%20-77.43689%5D%2C%20%5B32.895515%2C%20-80.709091%5D%2C%20%5B40.137032%2C%20-75.317162%5D%2C%20%5B35.778378000000004%2C%20-78.642639%5D%2C%20%5B33.687258%2C%20-117.872074%5D%2C%20%5B32.782090999999994%2C%20-97.21246%5D%2C%20%5B39.754383000000004%2C%20-84.18852199999999%5D%2C%20%5B26.66318%2C%20-81.886026%5D%2C%20%5B29.783490000000004%2C%20-95.47476%5D%2C%20%5B38.207988%2C%20-77.089308%5D%2C%20%5B39.646042%2C%20-106.311553%5D%2C%20%5B31.790482%2C%20-106.34841899999999%5D%2C%20%5B35.218369%2C%20-80.853851%5D%2C%20%5B38.57713%2C%20-77.32564%5D%2C%20%5B48.057072%2C%20-122.11956799999999%5D%2C%20%5B34.172129999999996%2C%20-118.46776000000001%5D%2C%20%5B27.85162%2C%20-82.34671800000001%5D%2C%20%5B33.947544%2C%20-118.27943400000001%5D%2C%20%5B28.468709999999998%2C%20-81.30724000000001%5D%2C%20%5B34.32983%2C%20-118.50579099999999%5D%2C%20%5B42.396832%2C%20-121.36125200000001%5D%2C%20%5B40.483782%2C%20-111.47193600000001%5D%2C%20%5B39.78289%2C%20-86.157852%5D%2C%20%5B33.461791%2C%20-112.04437800000001%5D%2C%20%5B45.14549%2C%20-122.88658999999998%5D%2C%20%5B37.848979%2C%20-122.48925600000001%5D%2C%20%5B40.929153%2C%20-87.928436%5D%2C%20%5B39.266586%2C%20-76.66373399999999%5D%2C%20%5B42.525729999999996%2C%20-82.94527%5D%2C%20%5B26.533879%2C%20-80.073604%5D%2C%20%5B36.070564000000005%2C%20-86.578468%5D%2C%20%5B33.958858%2C%20-86.58743299999999%5D%2C%20%5B33.9226%2C%20-84.485176%5D%2C%20%5B30.204866%2C%20-97.774803%5D%2C%20%5B42.324116%2C%20-88.152428%5D%2C%20%5B47.531627%2C%20-122.269998%5D%2C%20%5B37.824799%2C%20-120.010406%5D%2C%20%5B36.079421999999994%2C%20-79.224663%5D%2C%20%5B33.973396%2C%20-118.168007%5D%2C%20%5B32.84662%2C%20-96.63736%5D%2C%20%5B26.188979999999997%2C%20-80.133659%5D%2C%20%5B29.485848999999998%2C%20-98.43013%5D%2C%20%5B42.066573999999996%2C%20-88.25833100000001%5D%2C%20%5B38.295338%2C%20-122.03418%5D%2C%20%5B39.789959%2C%20-104.988983%5D%2C%20%5B38.89047%2C%20-77.16519%5D%2C%20%5B33.028824%2C%20-97.271469%5D%2C%20%5B38.338268%2C%20-77.494171%5D%2C%20%5B42.973461%2C%20-85.640045%5D%2C%20%5B37.574883%2C%20-77.461617%5D%2C%20%5B40.802444%2C%20-77.85090600000001%5D%2C%20%5B37.242283%2C%20-76.63430799999999%5D%2C%20%5B42.319078999999995%2C%20-87.87997299999999%5D%2C%20%5B39.797940000000004%2C%20-104.98666999999999%5D%2C%20%5B43.957207000000004%2C%20-93.259941%5D%2C%20%5B30.021074%2C%20-95.42896999999999%5D%2C%20%5B30.399527000000003%2C%20-97.654892%5D%2C%20%5B25.814308%2C%20-80.206497%5D%2C%20%5B39.236265%2C%20-76.667865%5D%2C%20%5B34.095884000000005%2C%20-117.925381%5D%2C%20%5B33.876979999999996%2C%20-118.18305%5D%2C%20%5B39.906791999999996%2C%20-86.094353%5D%2C%20%5B30.440728999999997%2C%20-84.280663%5D%2C%20%5B34.17011%2C%20-84.7583%5D%2C%20%5B30.0489%2C%20-89.93874%5D%2C%20%5B33.873173%2C%20-118.266052%5D%2C%20%5B44.377359999999996%2C%20-123.76388999999999%5D%2C%20%5B35.906864%2C%20-86.500671%5D%2C%20%5B35.212501%2C%20-119.166716%5D%2C%20%5B34.965214%2C%20-81.14939100000001%5D%2C%20%5B33.478229999999996%2C%20-86.773178%5D%2C%20%5B43.029309999999995%2C%20-83.67894%5D%2C%20%5B33.913338%2C%20-118.126007%5D%2C%20%5B44.889191%2C%20-93.58094%5D%2C%20%5B40.7271%2C%20-111.905106%5D%2C%20%5B35.888973%2C%20-78.747498%5D%2C%20%5B39.895264000000005%2C%20-86.051712%5D%2C%20%5B42.34977%2C%20-83.098907%5D%2C%20%5B30.393188000000002%2C%20-91.158897%5D%2C%20%5B33.385925%2C%20-111.840202%5D%2C%20%5B29.96361%2C%20-81.349129%5D%2C%20%5B33.483788%2C%20-82.19944%5D%2C%20%5B33.699399%2C%20-117.347857%5D%2C%20%5B34.98257%2C%20-80.98687%5D%2C%20%5B32.483546999999994%2C%20-93.78654499999999%5D%2C%20%5B33.50985%2C%20-86.815399%5D%2C%20%5B41.819247999999995%2C%20-71.389572%5D%2C%20%5B41.678329999999995%2C%20-72.87377%5D%2C%20%5B33.82403%2C%20-84.35606%5D%2C%20%5B30.337324%2C%20-97.683273%5D%2C%20%5B39.09629%2C%20-94.58468%5D%2C%20%5B40.17103%2C%20-75.07122%5D%2C%20%5B41.094299%2C%20-73.632233%5D%2C%20%5B33.552685%2C%20-79.053795%5D%2C%20%5B30.397678000000003%2C%20-81.562467%5D%2C%20%5B42.347675%2C%20-71.079018%5D%2C%20%5B26.589659%2C%20-80.173309%5D%2C%20%5B43.749309000000004%2C%20-123.17573700000001%5D%2C%20%5B39.835256%2C%20-84.819313%5D%2C%20%5B45.03557%2C%20-92.88343%5D%2C%20%5B44.420645%2C%20-122.00158%5D%2C%20%5B34.5812%2C%20-82.896759%5D%2C%20%5B33.856133%2C%20-118.00194499999999%5D%2C%20%5B42.314529%2C%20-83.170006%5D%2C%20%5B42.571581%2C%20-123.372441%5D%2C%20%5B30.490816%2C%20-91.15619699999999%5D%2C%20%5B30.430031%2C%20-91.056488%5D%2C%20%5B40.291495%2C%20-111.248947%5D%2C%20%5B40.147388%2C%20-83.07351700000001%5D%2C%20%5B33.810249%2C%20-84.374893%5D%2C%20%5B37.909599%2C%20-121.28819299999999%5D%2C%20%5B27.927729%2C%20-82.778725%5D%2C%20%5B26.04665%2C%20-80.20903%5D%2C%20%5B42.4845%2C%20-74.96088%5D%2C%20%5B28.640359999999998%2C%20-81.388%5D%2C%20%5B34.135490000000004%2C%20-117.584767%5D%2C%20%5B35.144413%2C%20-90.02076%5D%2C%20%5B30.693516%2C%20-88.028366%5D%2C%20%5B34.839615%2C%20-82.31415600000001%5D%2C%20%5B34.156265000000005%2C%20-118.26451899999999%5D%2C%20%5B43.593906%2C%20-71.743362%5D%2C%20%5B33.474922%2C%20-117.080564%5D%2C%20%5B44.948766%2C%20-92.95873900000001%5D%2C%20%5B32.79038%2C%20-117.203321%5D%2C%20%5B38.549191%2C%20-90.42534599999999%5D%2C%20%5B39.102638%2C%20-84.499397%5D%2C%20%5B33.875015000000005%2C%20-118.103371%5D%2C%20%5B29.64465%2C%20-95.470749%5D%2C%20%5B45.66029%2C%20-122.5621%5D%2C%20%5B37.018799%2C%20-121.521286%5D%2C%20%5B36.998262%2C%20-76.409113%5D%2C%20%5B36.16061%2C%20-86.793953%5D%2C%20%5B38.986214000000004%2C%20-77.14331800000001%5D%2C%20%5B34.027423999999996%2C%20-118.037575%5D%2C%20%5B33.81752%2C%20-117.83183999999999%5D%2C%20%5B36.104393%2C%20-96.011581%5D%2C%20%5B30.278521%2C%20-97.74511700000001%5D%2C%20%5B40.93457%2C%20-72.309273%5D%2C%20%5B31.777760999999998%2C%20-106.419601%5D%2C%20%5B28.62167%2C%20-81.538933%5D%2C%20%5B40.7103%2C%20-74.18131%5D%2C%20%5B39.627876%2C%20-75.67068499999999%5D%2C%20%5B32.23592%2C%20-110.965652%5D%2C%20%5B26.278190999999996%2C%20-80.168856%5D%2C%20%5B44.814747%2C%20-93.043465%5D%2C%20%5B33.565014%2C%20-84.320396%5D%2C%20%5B42.999018%2C%20-83.928579%5D%2C%20%5B42.954765%2C%20-76.98155200000001%5D%2C%20%5B39.089024%2C%20-123.70059199999999%5D%2C%20%5B31.857872999999998%2C%20-81.339887%5D%2C%20%5B36.202873%2C%20-120.211555%5D%2C%20%5B32.663775%2C%20-96.822891%5D%2C%20%5B38.021229%2C%20-79.140327%5D%2C%20%5B47.723209000000004%2C%20-122.33418999999999%5D%2C%20%5B28.217014000000002%2C%20-82.73724399999999%5D%2C%20%5B32.792955%2C%20-117.20773799999999%5D%2C%20%5B29.847519000000002%2C%20-95.52422299999999%5D%2C%20%5B33.924282%2C%20-117.558853%5D%2C%20%5B29.51897%2C%20-98.468735%5D%2C%20%5B40.743382000000004%2C%20-73.846748%5D%2C%20%5B25.7866%2C%20-80.21251%5D%2C%20%5B33.62494%2C%20-80.312433%5D%2C%20%5B28.010521%2C%20-82.746414%5D%2C%20%5B35.25354%2C%20-117.61193100000001%5D%2C%20%5B33.656890999999995%2C%20-112.37359599999999%5D%2C%20%5B42.41745%2C%20-83.00814799999999%5D%2C%20%5B40.682521%2C%20-122.34763799999999%5D%2C%20%5B41.208017%2C%20-73.094587%5D%2C%20%5B34.119546%2C%20-117.778985%5D%2C%20%5B30.232235%2C%20-97.901848%5D%2C%20%5B35.069846999999996%2C%20-106.639473%5D%2C%20%5B42.569023%2C%20-71.425697%5D%2C%20%5B35.381069000000004%2C%20-80.792419%5D%2C%20%5B28.851540000000004%2C%20-81.551537%5D%2C%20%5B26.12048%2C%20-80.34539000000001%5D%2C%20%5B35.165855%2C%20-81.51306899999999%5D%2C%20%5B39.392136%2C%20-77.323738%5D%2C%20%5B47.567454999999995%2C%20-122.320778%5D%2C%20%5B40.24419%2C%20-75.582382%5D%2C%20%5B37.40741%2C%20-122.065147%5D%2C%20%5B34.86253%2C%20-82.279381%5D%2C%20%5B40.71432%2C%20-74.28195%5D%2C%20%5B32.92442%2C%20-96.7673%5D%2C%20%5B32.997322%2C%20-96.70914499999999%5D%2C%20%5B33.731503000000004%2C%20-117.81219499999999%5D%2C%20%5B42.359493%2C%20-87.864403%5D%2C%20%5B30.332715999999998%2C%20-91.759217%5D%2C%20%5B41.109348%2C%20-73.80085%5D%2C%20%5B37.324512%2C%20-80.033699%5D%2C%20%5B44.954201%2C%20-93.40070300000001%5D%2C%20%5B39.01577%2C%20-77.016624%5D%2C%20%5B39.668159%2C%20-77.736412%5D%2C%20%5B29.715343%2C%20-95.57306700000001%5D%2C%20%5B44.973953%2C%20-93.249619%5D%2C%20%5B43.177349%2C%20-83.77424599999999%5D%2C%20%5B29.875904%2C%20-95.411575%5D%2C%20%5B34.521107%2C%20-117.98366499999999%5D%2C%20%5B42.219784000000004%2C%20-83.485191%5D%2C%20%5B38.881653%2C%20-76.996773%5D%2C%20%5B34.433987%2C%20-82.04628000000001%5D%2C%20%5B35.162827%2C%20-80.890038%5D%2C%20%5B41.749346%2C%20-87.86318299999999%5D%2C%20%5B47.664986%2C%20-122.32203700000001%5D%2C%20%5B36.031849%2C%20-95.886574%5D%2C%20%5B42.41367%2C%20-71.103714%5D%2C%20%5B34.062698%2C%20-81.128845%5D%2C%20%5B38.023254%2C%20-121.96658300000001%5D%2C%20%5B41.407391%2C%20-81.64676700000001%5D%2C%20%5B30.49015%2C%20-84.241013%5D%2C%20%5B30.16858%2C%20-97.78491%5D%2C%20%5B41.039829%2C%20-81.662872%5D%2C%20%5B45.059205%2C%20-123.743324%5D%2C%20%5B38.87956%2C%20-84.62522%5D%2C%20%5B42.264896%2C%20-83.271271%5D%2C%20%5B39.205379%2C%20-119.790543%5D%2C%20%5B34.529362%2C%20-82.73465%5D%2C%20%5B41.137527%2C%20-95.890915%5D%2C%20%5B42.480103%2C%20-88.096237%5D%2C%20%5B39.562248%2C%20-76.970314%5D%2C%20%5B34.043648%2C%20-117.80093400000001%5D%2C%20%5B39.89145%2C%20-82.98697%5D%2C%20%5B38.260658%2C%20-122.060654%5D%2C%20%5B30.410473%2C%20-91.100655%5D%2C%20%5B38.839653000000006%2C%20-76.866623%5D%2C%20%5B41.283879999999996%2C%20-72.94989%5D%2C%20%5B33.934521000000004%2C%20-118.3526%5D%2C%20%5B36.113071000000005%2C%20-86.800003%5D%2C%20%5B39.836715999999996%2C%20-89.254875%5D%2C%20%5B39.61792%2C%20-84.236397%5D%2C%20%5B30.118088%2C%20-82.677543%5D%2C%20%5B33.552422%2C%20-112.20263700000001%5D%2C%20%5B42.37106%2C%20-83.05438000000001%5D%2C%20%5B27.725386%2C%20-82.74140899999999%5D%2C%20%5B37.540768%2C%20-77.947807%5D%2C%20%5B34.030471999999996%2C%20-117.60169199999999%5D%2C%20%5B37.399532%2C%20-122.03571299999999%5D%2C%20%5B30.69215%2C%20-88.207573%5D%2C%20%5B35.875938%2C%20-78.540314%5D%2C%20%5B29.644009999999998%2C%20-95.57599%5D%2C%20%5B41.06687%2C%20-111.97265%5D%2C%20%5B36.854207%2C%20-76.195991%5D%2C%20%5B26.194336%2C%20-80.151382%5D%2C%20%5B29.994970000000002%2C%20-90.10455%5D%2C%20%5B39.184853000000004%2C%20-78.13700899999999%5D%2C%20%5B29.598121999999996%2C%20-98.567459%5D%2C%20%5B43.864065999999994%2C%20-123.014872%5D%2C%20%5B38.74757%2C%20-76.9321%5D%2C%20%5B37.540240999999995%2C%20-120.89576000000001%5D%2C%20%5B30.239655%2C%20-97.737564%5D%2C%20%5B25.81711%2C%20-80.20644%5D%2C%20%5B34.081474%2C%20-117.717858%5D%2C%20%5B42.492259999999995%2C%20-82.99894%5D%2C%20%5B45.526309999999995%2C%20-122.56205%5D%2C%20%5B30.248409999999996%2C%20-81.76602700000001%5D%2C%20%5B42.870052%2C%20-71.34056899999999%5D%2C%20%5B33.835947999999995%2C%20-117.94155400000001%5D%2C%20%5B26.2514%2C%20-80.201599%5D%2C%20%5B40.440647%2C%20-122.287682%5D%2C%20%5B34.176952%2C%20-81.322411%5D%2C%20%5B47.757829%2C%20-122.172124%5D%2C%20%5B41.392022999999995%2C%20-73.07642%5D%2C%20%5B28.282425%2C%20-81.593025%5D%2C%20%5B32.924991999999996%2C%20-96.838608%5D%2C%20%5B45.035709000000004%2C%20-92.883461%5D%2C%20%5B36.241337%2C%20-86.757347%5D%2C%20%5B41.060836%2C%20-78.45063499999999%5D%2C%20%5B34.139889000000004%2C%20-80.914017%5D%2C%20%5B33.690459999999995%2C%20-84.49234%5D%2C%20%5B30.451211999999998%2C%20-91.127319%5D%2C%20%5B34.166657%2C%20-118.29951299999999%5D%2C%20%5B33.75107%2C%20-84.34921%5D%2C%20%5B34.11854%2C%20-117.8654%5D%2C%20%5B41.318253000000006%2C%20-73.859299%5D%2C%20%5B25.783079%2C%20-80.173012%5D%2C%20%5B33.386070000000004%2C%20-111.84921999999999%5D%2C%20%5B28.054705%2C%20-82.454872%5D%2C%20%5B33.831635%2C%20-118.255981%5D%2C%20%5B27.564921999999996%2C%20-82.514437%5D%2C%20%5B39.058643%2C%20-84.355446%5D%2C%20%5B40.023376%2C%20-75.034836%5D%2C%20%5B25.939703%2C%20-80.188672%5D%2C%20%5B30.311211%2C%20-97.713402%5D%2C%20%5B32.416698%2C%20-96.660149%5D%2C%20%5B39.831965000000004%2C%20-123.18241%5D%2C%20%5B38.550297%2C%20-121.473824%5D%2C%20%5B33.294491%2C%20-86.796844%5D%2C%20%5B38.437939%2C%20-122.79740100000001%5D%2C%20%5B25.808224%2C%20-80.313148%5D%2C%20%5B40.780796%2C%20-74.055862%5D%2C%20%5B40.101172999999996%2C%20-75.418571%5D%2C%20%5B47.997307%2C%20-122.17498%5D%2C%20%5B34.068356%2C%20-117.974928%5D%2C%20%5B38.188774%2C%20-85.783417%5D%2C%20%5B33.745165%2C%20-84.390148%5D%2C%20%5B27.995690000000003%2C%20-82.32628000000001%5D%2C%20%5B40.968841999999995%2C%20-73.870529%5D%2C%20%5B40.09166%2C%20-75.409042%5D%2C%20%5B41.801035999999996%2C%20-88.240832%5D%2C%20%5B37.643707%2C%20-122.093231%5D%2C%20%5B42.587317999999996%2C%20-123.388002%5D%2C%20%5B39.687668%2C%20-84.308929%5D%2C%20%5B39.19377%2C%20-84.47618%5D%2C%20%5B32.797707%2C%20-97.21198299999999%5D%2C%20%5B33.525985999999996%2C%20-80.88906899999999%5D%2C%20%5B29.926019%2C%20-97.89108%5D%2C%20%5B42.307655%2C%20-83.103996%5D%2C%20%5B42.98668%2C%20-121.826394%5D%2C%20%5B30.197559000000002%2C%20-93.18089300000001%5D%2C%20%5B29.674629%2C%20-95.577278%5D%2C%20%5B27.93755%2C%20-82.352991%5D%2C%20%5B37.979061%2C%20-122.043388%5D%2C%20%5B30.25902%2C%20-82.127252%5D%2C%20%5B35.241710999999995%2C%20-80.983757%5D%2C%20%5B41.205729999999996%2C%20-73.19084000000001%5D%2C%20%5B33.801346%2C%20-118.11466999999999%5D%2C%20%5B39.800373%2C%20-104.93344099999999%5D%2C%20%5B25.854094%2C%20-80.322693%5D%2C%20%5B33.668869%2C%20-117.30744299999999%5D%2C%20%5B35.824287%2C%20-78.31462900000001%5D%2C%20%5B40.81047%2C%20-74.09758000000001%5D%2C%20%5B42.953236%2C%20-76.138%5D%2C%20%5B39.021088%2C%20-84.589096%5D%2C%20%5B35.119106%2C%20-86.878777%5D%2C%20%5B33.96925%2C%20-80.041786%5D%2C%20%5B43.704229999999995%2C%20-123.20578%5D%2C%20%5B45.613310999999996%2C%20-123.22801100000001%5D%2C%20%5B39.03693%2C%20-94.78827%5D%2C%20%5B32.745228000000004%2C%20-96.726883%5D%2C%20%5B25.899273%2C%20-80.209749%5D%2C%20%5B33.939968%2C%20-118.352722%5D%2C%20%5B41.073761%2C%20-73.801773%5D%2C%20%5B32.767918%2C%20-96.91334499999999%5D%2C%20%5B39.945099%2C%20-75.285202%5D%2C%20%5B33.524840999999995%2C%20-80.887527%5D%2C%20%5B33.270309000000005%2C%20-87.741058%5D%2C%20%5B39.959606%2C%20-75.087067%5D%2C%20%5B30.31407%2C%20-81.665396%5D%2C%20%5B33.921109%2C%20-118.26521000000001%5D%2C%20%5B29.602509%2C%20-95.228691%5D%2C%20%5B33.43332%2C%20-112.03738999999999%5D%2C%20%5B39.058491%2C%20-94.49256899999999%5D%2C%20%5B39.815692999999996%2C%20-75.766358%5D%2C%20%5B32.829181%2C%20-117.117674%5D%2C%20%5B29.689341%2C%20-95.55753299999999%5D%2C%20%5B32.28934%2C%20-111.02507%5D%2C%20%5B38.85334%2C%20-76.9833%5D%2C%20%5B30.325874%2C%20-97.688515%5D%2C%20%5B37.963074%2C%20-122.36678300000001%5D%2C%20%5B36.987854%2C%20-121.985222%5D%2C%20%5B40.018097%2C%20-75.169776%5D%2C%20%5B40.154747%2C%20-75.067662%5D%2C%20%5B47.347671999999996%2C%20-123.073517%5D%2C%20%5B32.900496999999994%2C%20-117.224327%5D%2C%20%5B25.821096%2C%20-80.37781700000001%5D%2C%20%5B26.331657%2C%20-81.750244%5D%2C%20%5B35.536781%2C%20-97.494217%5D%2C%20%5B43.033131%2C%20-83.640343%5D%2C%20%5B28.067225%2C%20-82.738968%5D%2C%20%5B33.623604%2C%20-112.33085600000001%5D%2C%20%5B36.051152%2C%20-118.98089399999999%5D%2C%20%5B44.975929%2C%20-93.281837%5D%2C%20%5B40.15865%2C%20-75.8785%5D%2C%20%5B30.286507%2C%20-97.664558%5D%2C%20%5B40.699692%2C%20-111.911731%5D%2C%20%5B28.00423%2C%20-82.35601%5D%2C%20%5B35.435241999999995%2C%20-97.53684200000001%5D%2C%20%5B38.679386%2C%20-90.471405%5D%2C%20%5B39.374271%2C%20-76.750381%5D%2C%20%5B30.559628000000004%2C%20-88.20264399999999%5D%2C%20%5B37.388981%2C%20-79.90469399999999%5D%2C%20%5B33.003811%2C%20-79.972183%5D%2C%20%5B41.731178%2C%20-71.285217%5D%2C%20%5B42.891571%2C%20-83.600082%5D%2C%20%5B34.876469%2C%20-82.226021%5D%2C%20%5B29.674217%2C%20-95.570412%5D%2C%20%5B38.495071%2C%20-121.951889%5D%2C%20%5B38.935134999999995%2C%20-94.705315%5D%2C%20%5B33.752926%2C%20-84.50604200000001%5D%2C%20%5B41.11425%2C%20-112.014%5D%2C%20%5B35.28641%2C%20-80.73111%5D%2C%20%5B40.71847%2C%20-111.87393999999999%5D%2C%20%5B36.079741999999996%2C%20-95.891548%5D%2C%20%5B40.922959999999996%2C%20-73.84509%5D%2C%20%5B33.819373999999996%2C%20-84.36170200000001%5D%2C%20%5B43.156773%2C%20-77.683243%5D%2C%20%5B33.998608000000004%2C%20-117.369904%5D%2C%20%5B45.03553%2C%20-93.08506%5D%2C%20%5B36.16095%2C%20-86.79321%5D%2C%20%5B38.748428999999994%2C%20-90.439527%5D%2C%20%5B41.62857%2C%20-87.67415799999999%5D%2C%20%5B33.450882%2C%20-81.923576%5D%2C%20%5B34.062016%2C%20-118.162994%5D%2C%20%5B38.24555%2C%20-122.07973999999999%5D%2C%20%5B32.865479%2C%20-96.81109599999999%5D%2C%20%5B41.295947999999996%2C%20-95.956558%5D%2C%20%5B40.16536%2C%20-76.83057%5D%2C%20%5B27.495442999999998%2C%20-82.571167%5D%2C%20%5B34.212063%2C%20-118.348564%5D%2C%20%5B41.543791%2C%20-72.986467%5D%2C%20%5B47.08662%2C%20-122.64173899999999%5D%2C%20%5B34.398225%2C%20-118.462303%5D%2C%20%5B30.352556%2C%20-81.555122%5D%2C%20%5B39.176292%2C%20-76.636139%5D%2C%20%5B30.395104999999997%2C%20-91.085976%5D%2C%20%5B33.913115999999995%2C%20-84.286316%5D%2C%20%5B34.183819%2C%20-118.15969799999999%5D%2C%20%5B42.944027%2C%20-83.724098%5D%2C%20%5B41.74096%2C%20-87.85364%5D%2C%20%5B47.289536%2C%20-122.30691499999999%5D%2C%20%5B34.277824%2C%20-118.604782%5D%2C%20%5B29.770190999999997%2C%20-95.34915%5D%2C%20%5B32.841259%2C%20-117.100082%5D%2C%20%5B36.139378%2C%20-86.819115%5D%2C%20%5B42.379681%2C%20-122.90541100000002%5D%2C%20%5B30.156546999999996%2C%20-82.643291%5D%2C%20%5B33.967506%2C%20-118.230232%5D%2C%20%5B25.686256%2C%20-80.389%5D%2C%20%5B40.856941%2C%20-73.856049%5D%2C%20%5B40.642075%2C%20-74.289047%5D%2C%20%5B40.10252%2C%20-75.212914%5D%2C%20%5B30.51292%2C%20-91.148163%5D%2C%20%5B43.275508%2C%20-75.700336%5D%2C%20%5B28.027067%2C%20-82.152771%5D%2C%20%5B42.461308%2C%20-83.106026%5D%2C%20%5B40.899363%2C%20-74.25439200000001%5D%2C%20%5B37.254517%2C%20-79.91481%5D%2C%20%5B34.122634999999995%2C%20-118.478424%5D%2C%20%5B38.446344%2C%20-121.857851%5D%2C%20%5B37.421558000000005%2C%20-121.934669%5D%2C%20%5B43.08939%2C%20-83.828362%5D%2C%20%5B30.268296999999997%2C%20-97.740044%5D%2C%20%5B32.91795%2C%20-96.76602199999999%5D%2C%20%5B38.109653%2C%20-122.231377%5D%2C%20%5B35.375842%2C%20-118.949615%5D%2C%20%5B44.022801%2C%20-123.895328%5D%2C%20%5B34.103941999999996%2C%20-118.31986200000001%5D%2C%20%5B42.708534%2C%20-70.963776%5D%2C%20%5B35.16873%2C%20-80.88815%5D%2C%20%5B42.309193%2C%20-93.56926700000001%5D%2C%20%5B40.832451%2C%20-75.00123599999999%5D%2C%20%5B32.909187%2C%20-96.76944%5D%2C%20%5B34.420177%2C%20-119.676239%5D%2C%20%5B38.272026000000004%2C%20-122.670052%5D%2C%20%5B29.666327000000003%2C%20-95.337204%5D%2C%20%5B41.909493%2C%20-87.756218%5D%2C%20%5B25.670927%2C%20-80.365852%5D%2C%20%5B34.111599%2C%20-118.247078%5D%2C%20%5B25.925276999999998%2C%20-80.28904%5D%2C%20%5B37.741040999999996%2C%20-121.581268%5D%2C%20%5B38.801346%2C%20-77.520332%5D%2C%20%5B33.924896000000004%2C%20-118.10419499999999%5D%2C%20%5B34.311553%2C%20-118.486865%5D%2C%20%5B25.769882%2C%20-80.32081600000001%5D%2C%20%5B33.765976%2C%20-117.93139599999999%5D%2C%20%5B39.693709999999996%2C%20-75.59938000000001%5D%2C%20%5B42.916965000000005%2C%20-71.465629%5D%2C%20%5B40.689037%2C%20-74.57708000000001%5D%2C%20%5B40.036747%2C%20-75.06444499999999%5D%2C%20%5B34.065657%2C%20-117.32123999999999%5D%2C%20%5B45.580591999999996%2C%20-118.635531%5D%2C%20%5B37.543929999999996%2C%20-122.02068%5D%2C%20%5B47.538928999999996%2C%20-122.270721%5D%2C%20%5B35.42067%2C%20-97.574409%5D%2C%20%5B33.45792%2C%20-112.358139%5D%2C%20%5B44.464577%2C%20-88.016006%5D%2C%20%5B33.462092999999996%2C%20-112.04994199999999%5D%2C%20%5B33.786896%2C%20-84.493134%5D%2C%20%5B28.181976000000002%2C%20-81.744141%5D%2C%20%5B33.766884000000005%2C%20-117.81926399999999%5D%2C%20%5B37.864779999999996%2C%20-122.208344%5D%2C%20%5B40.086696999999994%2C%20-75.12793%5D%2C%20%5B37.566489000000004%2C%20-122.04147900000001%5D%2C%20%5B43.060654%2C%20-83.762321%5D%2C%20%5B30.290654999999997%2C%20-81.629631%5D%2C%20%5B36.144039%2C%20-86.696541%5D%2C%20%5B35.207062%2C%20-80.796356%5D%2C%20%5B38.625046999999995%2C%20-121.38304%5D%2C%20%5B40.165642%2C%20-74.899712%5D%2C%20%5B35.110626%2C%20-80.882401%5D%2C%20%5B38.222590999999994%2C%20-122.25325%5D%2C%20%5B34.136165999999996%2C%20-117.236397%5D%2C%20%5B34.561768%2C%20-82.69304699999999%5D%2C%20%5B42.408943%2C%20-83.079796%5D%2C%20%5B29.777279999999998%2C%20-95.42233%5D%2C%20%5B42.99263%2C%20-85.693161%5D%2C%20%5B43.335266%2C%20-89.45365100000001%5D%2C%20%5B30.466375%2C%20-91.105499%5D%2C%20%5B45.19502%2C%20-93.55258%5D%2C%20%5B38.882348%2C%20-77.019006%5D%2C%20%5B28.275270000000003%2C%20-81.081238%5D%2C%20%5B34.0295%2C%20-118.2228%5D%2C%20%5B38.795834%2C%20-90.819168%5D%2C%20%5B33.928837%2C%20-118.29402900000001%5D%2C%20%5B42.238171%2C%20-122.76138300000001%5D%2C%20%5B33.468841999999995%2C%20-82.003822%5D%2C%20%5B43.909162%2C%20-122.75908999999999%5D%2C%20%5B42.97591%2C%20-83.77195999999999%5D%2C%20%5B32.359756%2C%20-86.215164%5D%2C%20%5B27.473215000000003%2C%20-82.542694%5D%2C%20%5B44.970959%2C%20-93.46055600000001%5D%2C%20%5B35.314896000000005%2C%20-80.72758499999999%5D%2C%20%5B27.767559000000002%2C%20-80.550919%5D%2C%20%5B28.661943%2C%20-81.388611%5D%2C%20%5B26.243834000000003%2C%20-81.752953%5D%2C%20%5B34.037537%2C%20-118.03841399999999%5D%2C%20%5B39.24484%2C%20-76.67385999999999%5D%2C%20%5B35.850097999999996%2C%20-78.604744%5D%2C%20%5B45.402739000000004%2C%20-122.74491%5D%2C%20%5B35.309025%2C%20-80.754272%5D%2C%20%5B29.531159999999996%2C%20-98.562309%5D%2C%20%5B32.778492%2C%20-96.916878%5D%2C%20%5B26.546656%2C%20-81.839287%5D%2C%20%5B39.216609999999996%2C%20-76.6566%5D%2C%20%5B38.426952%2C%20-121.485703%5D%2C%20%5B38.253623%2C%20-77.42678000000001%5D%2C%20%5B43.41001%2C%20-123.33018%5D%2C%20%5B43.046227%2C%20-83.729713%5D%2C%20%5B34.249054%2C%20-118.426731%5D%2C%20%5B44.767918%2C%20-93.288788%5D%2C%20%5B33.93821%2C%20-118.309036%5D%2C%20%5B37.545521%2C%20-77.46344%5D%2C%20%5B34.532398%2C%20-82.663948%5D%2C%20%5B41.751995%2C%20-87.96725500000001%5D%2C%20%5B40.845141999999996%2C%20-73.92654399999999%5D%2C%20%5B29.881048999999997%2C%20-95.41207800000001%5D%2C%20%5B42.3854%2C%20-83.15645%5D%2C%20%5B41.88958%2C%20-87.91811%5D%2C%20%5B30.234021999999996%2C%20-97.86451%5D%2C%20%5B43.060691999999996%2C%20-83.758797%5D%2C%20%5B39.769005%2C%20-104.99323999999999%5D%2C%20%5B39.705179%2C%20-121.73258899999999%5D%2C%20%5B41.01378%2C%20-73.70656%5D%2C%20%5B45.03582%2C%20-92.862961%5D%2C%20%5B37.710562%2C%20-121.452882%5D%2C%20%5B34.266998%2C%20-118.443596%5D%2C%20%5B35.756924%2C%20-78.665741%5D%2C%20%5B37.74492%2C%20-122.40505%5D%2C%20%5B43.072317%2C%20-75.284403%5D%2C%20%5B32.767159%2C%20-96.836603%5D%2C%20%5B36.144363%2C%20-86.69743299999999%5D%2C%20%5B36.044964%2C%20-86.66646800000001%5D%2C%20%5B32.803129999999996%2C%20-116.96541%5D%2C%20%5B35.348682000000004%2C%20-80.852432%5D%2C%20%5B37.657977%2C%20-121.90294899999999%5D%2C%20%5B29.559497999999998%2C%20-95.144295%5D%2C%20%5B35.834666999999996%2C%20-78.638649%5D%2C%20%5B35.296890000000005%2C%20-80.977631%5D%2C%20%5B30.202409999999997%2C%20-92.031677%5D%2C%20%5B38.827671%2C%20-77.436378%5D%2C%20%5B40.044476%2C%20-74.83431999999999%5D%2C%20%5B42.251339%2C%20-88.143745%5D%2C%20%5B43.026161%2C%20-83.72820300000001%5D%2C%20%5B35.17453%2C%20-80.655571%5D%2C%20%5B41.79542%2C%20-88.33318%5D%2C%20%5B35.428371000000006%2C%20-97.58335100000001%5D%2C%20%5B32.92485%2C%20-96.80250500000001%5D%2C%20%5B46.761277%2C%20-92.126573%5D%2C%20%5B43.061355999999996%2C%20-83.674133%5D%2C%20%5B37.46802%2C%20-122.4334%5D%2C%20%5B25.886675%2C%20-80.16448199999999%5D%2C%20%5B41.2629%2C%20-96.18709%5D%2C%20%5B32.802822%2C%20-86.580803%5D%2C%20%5B34.004529999999995%2C%20-117.40026%5D%2C%20%5B47.50645%2C%20-121.89473000000001%5D%2C%20%5B33.982067%2C%20-118.25206599999999%5D%2C%20%5B34.222378000000006%2C%20-119.13618500000001%5D%2C%20%5B38.999043%2C%20-77.34272800000001%5D%2C%20%5B33.872578000000004%2C%20-118.275406%5D%2C%20%5B45.661572%2C%20-110.746124%5D%2C%20%5B30.187642999999998%2C%20-97.597977%5D%2C%20%5B41.80275%2C%20-71.40383%5D%2C%20%5B40.160229%2C%20-74.424088%5D%2C%20%5B35.079921999999996%2C%20-89.957642%5D%2C%20%5B29.65513%2C%20-95.1562%5D%2C%20%5B37.692972%2C%20-122.470274%5D%2C%20%5B32.59365%2C%20-97.3194%5D%2C%20%5B35.058193%2C%20-80.812454%5D%2C%20%5B36.113294%2C%20-80.137399%5D%2C%20%5B39.72208%2C%20-75.15355%5D%2C%20%5B37.900723%2C%20-121.285301%5D%2C%20%5B45.584903999999995%2C%20-122.473198%5D%2C%20%5B39.068504%2C%20-84.520119%5D%2C%20%5B30.213804%2C%20-97.830238%5D%2C%20%5B33.414818%2C%20-111.888954%5D%2C%20%5B29.777371999999996%2C%20-95.57560699999999%5D%2C%20%5B34.481609000000006%2C%20-82.663269%5D%2C%20%5B30.309540000000002%2C%20-92.041069%5D%2C%20%5B40.01377%2C%20-75.72332%5D%2C%20%5B41.233829%2C%20-96.138611%5D%2C%20%5B34.121117%2C%20-117.78866599999999%5D%2C%20%5B28.538486%2C%20-81.331505%5D%2C%20%5B33.760139%2C%20-78.960396%5D%2C%20%5B33.973743%2C%20-118.38157700000001%5D%2C%20%5B34.74034%2C%20-86.60011%5D%2C%20%5B32.220974%2C%20-110.82384499999999%5D%2C%20%5B40.176208%2C%20-83.151604%5D%2C%20%5B37.085262%2C%20-121.180196%5D%2C%20%5B27.900740000000003%2C%20-81.599915%5D%2C%20%5B39.639812%2C%20-104.884583%5D%2C%20%5B33.30529%2C%20-111.963074%5D%2C%20%5B35.24258%2C%20-101.935736%5D%2C%20%5B34.133266%2C%20-117.308396%5D%2C%20%5B45.4494%2C%20-122.72936000000001%5D%2C%20%5B29.901128999999997%2C%20-82.13657099999999%5D%2C%20%5B39.265865000000005%2C%20-76.667252%5D%2C%20%5B34.87709%2C%20-82.604134%5D%2C%20%5B45.54016%2C%20-122.68025%5D%2C%20%5B35.891979%2C%20-78.601814%5D%2C%20%5B33.46178%2C%20-112.12223%5D%2C%20%5B25.537149%2C%20-80.372063%5D%2C%20%5B33.254191999999996%2C%20-117.15673100000001%5D%2C%20%5B35.102211%2C%20-79.47567%5D%2C%20%5B30.395321000000003%2C%20-97.720413%5D%2C%20%5B39.691521%2C%20-84.09864%5D%2C%20%5B30.116640000000004%2C%20-95.4396%5D%2C%20%5B35.82542%2C%20-78.62152900000001%5D%2C%20%5B41.486702%2C%20-88.185989%5D%2C%20%5B34.289925%2C%20-82.23485600000001%5D%2C%20%5B40.01048%2C%20-75.29616%5D%2C%20%5B35.611668%2C%20-78.463661%5D%2C%20%5B40.67678%2C%20-74.00142%5D%2C%20%5B39.140714%2C%20-77.212396%5D%2C%20%5B41.833801%2C%20-88.023438%5D%2C%20%5B41.95881%2C%20-87.7393%5D%2C%20%5B39.019748%2C%20-76.960263%5D%2C%20%5B37.536953000000004%2C%20-77.42524%5D%2C%20%5B35.073370000000004%2C%20-90.03109%5D%2C%20%5B27.386414000000002%2C%20-82.416656%5D%2C%20%5B38.530623%2C%20-121.749824%5D%2C%20%5B33.957918%2C%20-118.29161200000001%5D%2C%20%5B42.523594%2C%20-82.968956%5D%2C%20%5B36.072829999999996%2C%20-120.10241699999999%5D%2C%20%5B42.526928000000005%2C%20-70.95658900000001%5D%2C%20%5B41.83501%2C%20-88.00596999999999%5D%2C%20%5B42.227978%2C%20-83.38559000000001%5D%2C%20%5B32.259259%2C%20-111.00013799999999%5D%2C%20%5B40.71212%2C%20-111.90393999999999%5D%2C%20%5B40.830425%2C%20-73.02121700000001%5D%2C%20%5B42.042389%2C%20-88.25155600000001%5D%2C%20%5B39.02564%2C%20-84.56184%5D%2C%20%5B26.18241%2C%20-80.15254%5D%2C%20%5B34.760853000000004%2C%20-85.001823%5D%2C%20%5B42.233925%2C%20-88.81411700000001%5D%2C%20%5B29.943871%2C%20-82.11167900000001%5D%2C%20%5B32.801846000000005%2C%20-96.82770500000001%5D%2C%20%5B37.638668%2C%20-120.618652%5D%2C%20%5B34.999641%2C%20-120.43615%5D%2C%20%5B33.361799%2C%20-86.829038%5D%2C%20%5B33.227131%2C%20-80.605992%5D%2C%20%5B29.651659999999996%2C%20-95.25098%5D%2C%20%5B33.741333000000004%2C%20-78.952423%5D%2C%20%5B29.669153%2C%20-95.26254300000001%5D%2C%20%5B26.19774%2C%20-98.15158000000001%5D%2C%20%5B39.095131%2C%20-76.842392%5D%2C%20%5B37.309656%2C%20-76.688121%5D%2C%20%5B37.297539%2C%20-122.028976%5D%2C%20%5B30.312496000000003%2C%20-97.682861%5D%2C%20%5B42.312744%2C%20-71.384834%5D%2C%20%5B39.951060999999996%2C%20-83.015762%5D%2C%20%5B30.478521%2C%20-87.229675%5D%2C%20%5B41.233856%2C%20-96.138626%5D%2C%20%5B35.602589%2C%20-83.00676700000001%5D%2C%20%5B41.469651%2C%20-81.753086%5D%2C%20%5B40.317726%2C%20-75.344161%5D%2C%20%5B39.26405%2C%20-76.588615%5D%2C%20%5B32.998707%2C%20-96.955986%5D%2C%20%5B37.334087%2C%20-122.04686000000001%5D%2C%20%5B34.153309%2C%20-118.36141200000002%5D%2C%20%5B35.82571%2C%20-78.616837%5D%2C%20%5B42.178169%2C%20-88.05792199999999%5D%2C%20%5B33.77207%2C%20-117.90919%5D%2C%20%5B31.771889%2C%20-106.377384%5D%2C%20%5B44.90736%2C%20-93.27504%5D%2C%20%5B42.15416%2C%20-71.06848000000001%5D%2C%20%5B42.22039%2C%20-87.96691%5D%2C%20%5B33.750761%2C%20-117.84458000000001%5D%2C%20%5B32.803871%2C%20-96.668213%5D%2C%20%5B45.298908000000004%2C%20-93.802109%5D%2C%20%5B30.25139%2C%20-97.698601%5D%2C%20%5B35.159447%2C%20-80.970688%5D%2C%20%5B35.153988%2C%20-81.129478%5D%2C%20%5B33.893%2C%20-118.26538700000002%5D%2C%20%5B44.255493%2C%20-122.039018%5D%2C%20%5B28.547544%2C%20-81.55195%5D%2C%20%5B33.857964%2C%20-117.981094%5D%2C%20%5B25.621721%2C%20-80.37867%5D%2C%20%5B29.941505%2C%20-90.101218%5D%2C%20%5B32.997299%2C%20-79.931702%5D%2C%20%5B27.956660999999997%2C%20-82.46093%5D%2C%20%5B40.784065000000005%2C%20-73.65218399999999%5D%2C%20%5B44.969927%2C%20-93.40055799999999%5D%2C%20%5B36.989014000000005%2C%20-121.3843%5D%2C%20%5B34.186695%2C%20-118.47402199999999%5D%2C%20%5B42.411148%2C%20-83.423874%5D%2C%20%5B37.826736%2C%20-121.21746100000001%5D%2C%20%5B36.110207%2C%20-86.72090899999999%5D%2C%20%5B40.047398%2C%20-75.292625%5D%2C%20%5B30.214781%2C%20-97.73271899999999%5D%2C%20%5B35.514938%2C%20-97.664001%5D%2C%20%5B34.098904%2C%20-81.17495%5D%2C%20%5B37.53772%2C%20-77.884384%5D%2C%20%5B34.935986%2C%20-82.011749%5D%2C%20%5B33.411884%2C%20-117.08389299999999%5D%2C%20%5B35.446737%2C%20-120.63887%5D%2C%20%5B39.201069%2C%20-84.362053%5D%2C%20%5B39.533352%2C%20-119.738396%5D%2C%20%5B42.98875%2C%20-71.43354000000001%5D%2C%20%5B30.386128999999997%2C%20-91.07959%5D%2C%20%5B30.300375%2C%20-81.601334%5D%2C%20%5B26.136015%2C%20-80.219009%5D%2C%20%5B36.787796%2C%20-121.728233%5D%2C%20%5B38.655533%2C%20-90.448135%5D%2C%20%5B40.959515%2C%20-73.79531899999999%5D%2C%20%5B34.066517%2C%20-117.98933400000001%5D%2C%20%5B26.608016999999997%2C%20-80.173534%5D%2C%20%5B29.729774%2C%20-95.605743%5D%2C%20%5B35.201046000000005%2C%20-80.762284%5D%2C%20%5B37.92654%2C%20-122.05958000000001%5D%2C%20%5B33.09544%2C%20-117.086105%5D%2C%20%5B40.636418%2C%20-111.904921%5D%2C%20%5B41.110081%2C%20-73.731117%5D%2C%20%5B25.89509%2C%20-80.20942%5D%2C%20%5B42.332741%2C%20-83.087234%5D%2C%20%5B33.903847999999996%2C%20-117.27747600000001%5D%2C%20%5B34.156659999999995%2C%20-118.41378999999999%5D%2C%20%5B37.226490000000005%2C%20-121.97523999999999%5D%2C%20%5B34.488803999999995%2C%20-83.02293399999999%5D%2C%20%5B30.451135999999998%2C%20-91.127439%5D%2C%20%5B34.741929%2C%20-92.258202%5D%2C%20%5B33.379909999999995%2C%20-111.76260400000001%5D%2C%20%5B32.83988%2C%20-97.32908%5D%2C%20%5B41.703301%2C%20-73.905666%5D%2C%20%5B32.761598%2C%20-117.165276%5D%2C%20%5B39.46611%2C%20-75.863708%5D%2C%20%5B33.97891%2C%20-118.39208%5D%2C%20%5B43.024502000000005%2C%20-83.73176600000001%5D%2C%20%5B38.25613%2C%20-122.06416999999999%5D%2C%20%5B38.034698%2C%20-84.521812%5D%2C%20%5B29.73201%2C%20-95.388275%5D%2C%20%5B29.54598%2C%20-98.382301%5D%2C%20%5B34.572971%2C%20-119.958801%5D%2C%20%5B38.577995%2C%20-121.50737099999999%5D%2C%20%5B35.752972%2C%20-78.648949%5D%2C%20%5B32.903489%2C%20-96.897611%5D%2C%20%5B25.92677%2C%20-80.20985999999999%5D%2C%20%5B37.741723%2C%20-121.57419399999999%5D%2C%20%5B27.96475%2C%20-82.452522%5D%2C%20%5B33.037791999999996%2C%20-80.148544%5D%2C%20%5B37.572903000000004%2C%20-122.316368%5D%2C%20%5B34.832390000000004%2C%20-82.29203000000001%5D%2C%20%5B42.363487%2C%20-87.929291%5D%2C%20%5B47.61736%2C%20-122.19095%5D%2C%20%5B34.819931%2C%20-86.98291800000001%5D%2C%20%5B33.014528000000006%2C%20-117.269577%5D%2C%20%5B30.339334%2C%20-97.70076%5D%2C%20%5B33.982101%2C%20-118.441658%5D%2C%20%5B41.191371999999994%2C%20-87.86655400000001%5D%2C%20%5B40.810444%2C%20-73.909599%5D%2C%20%5B25.92444%2C%20-80.30946800000001%5D%2C%20%5B41.629593%2C%20-93.777054%5D%2C%20%5B34.056049%2C%20-118.183029%5D%2C%20%5B35.844025%2C%20-86.62046099999999%5D%2C%20%5B35.243590999999995%2C%20-80.81437700000001%5D%2C%20%5B41.915302000000004%2C%20-88.208809%5D%2C%20%5B33.925067999999996%2C%20-118.32692%5D%2C%20%5B39.035465%2C%20-76.60302%5D%2C%20%5B30.160299%2C%20-97.789795%5D%2C%20%5B30.441031%2C%20-86.59770999999999%5D%2C%20%5B47.621086%2C%20-122.322098%5D%2C%20%5B42.321498999999996%2C%20-71.053802%5D%2C%20%5B32.372421%2C%20-86.270988%5D%2C%20%5B34.078132000000004%2C%20-117.623251%5D%2C%20%5B31.123005%2C%20-97.349548%5D%2C%20%5B41.750145%2C%20-88.052193%5D%2C%20%5B42.35743%2C%20-71.136597%5D%2C%20%5B35.427101%2C%20-97.547951%5D%2C%20%5B33.7513%2C%20-84.44962%5D%2C%20%5B37.999435999999996%2C%20-122.051969%5D%2C%20%5B34.018370000000004%2C%20-118.17352%5D%2C%20%5B42.972958%2C%20-85.677216%5D%2C%20%5B33.842008%2C%20-118.29118799999999%5D%2C%20%5B39.922031%2C%20-86.184021%5D%2C%20%5B37.5257%2C%20-120.797379%5D%2C%20%5B30.202640999999996%2C%20-97.63903%5D%2C%20%5B45.143223%2C%20-93.265907%5D%2C%20%5B30.47555%2C%20-83.889732%5D%2C%20%5B37.77393%2C%20-122.23045%5D%2C%20%5B36.111477%2C%20-86.922691%5D%2C%20%5B43.14891%2C%20-123.36498999999999%5D%2C%20%5B41.535857%2C%20-87.58251899999999%5D%2C%20%5B39.409859999999995%2C%20-104.86632%5D%2C%20%5B38.409931%2C%20-122.797992%5D%2C%20%5B34.023764%2C%20-117.77087900000001%5D%2C%20%5B43.084782000000004%2C%20-77.63806899999999%5D%2C%20%5B35.449734%2C%20-97.654045%5D%2C%20%5B42.862057%2C%20-83.74000500000001%5D%2C%20%5B39.270953999999996%2C%20-84.350945%5D%2C%20%5B40.715733%2C%20-73.826256%5D%2C%20%5B34.000665000000005%2C%20-117.84496000000001%5D%2C%20%5B38.039543%2C%20-84.46691899999999%5D%2C%20%5B41.449891%2C%20-122.36273500000001%5D%2C%20%5B37.086721000000004%2C%20-80.615948%5D%2C%20%5B40.167904%2C%20-75.080663%5D%2C%20%5B38.563373999999996%2C%20-121.34153700000002%5D%2C%20%5B35.93524%2C%20-78.85854%5D%2C%20%5B42.484119%2C%20-83.084846%5D%2C%20%5B34.923031%2C%20-82.33461%5D%2C%20%5B44.723808%2C%20-92.85208100000001%5D%2C%20%5B33.44808%2C%20-112.1001%5D%2C%20%5B39.96387%2C%20-76.72849000000001%5D%2C%20%5B38.9309%2C%20-94.65536999999999%5D%2C%20%5B39.55035%2C%20-105.254356%5D%2C%20%5B37.852398%2C%20-122.029068%5D%2C%20%5B30.450481%2C%20-91.093704%5D%2C%20%5B42.738953%2C%20-83.451729%5D%2C%20%5B41.832190000000004%2C%20-87.69566%5D%2C%20%5B33.49855%2C%20-112.11305%5D%2C%20%5B38.343027%2C%20-78.933738%5D%2C%20%5B38.555443%2C%20-121.40226000000001%5D%2C%20%5B33.810112%2C%20-118.28753700000001%5D%2C%20%5B39.20583%2C%20-76.68930999999999%5D%2C%20%5B40.049759%2C%20-76.317497%5D%2C%20%5B34.02904%2C%20-118.21331%5D%2C%20%5B33.456897999999995%2C%20-112.0375%5D%2C%20%5B29.807708%2C%20-95.498798%5D%2C%20%5B36.16765%2C%20-86.66327%5D%2C%20%5B40.74327%2C%20-111.67957%5D%2C%20%5B42.43436%2C%20-85.56311%5D%2C%20%5B35.028521000000005%2C%20-85.156481%5D%2C%20%5B32.368171999999994%2C%20-86.298119%5D%2C%20%5B40.631695%2C%20-111.889458%5D%2C%20%5B33.461311%2C%20-112.269966%5D%2C%20%5B43.514874%2C%20-123.51806299999998%5D%2C%20%5B33.913990999999996%2C%20-118.114122%5D%2C%20%5B30.198171999999996%2C%20-97.763657%5D%2C%20%5B45.01473%2C%20-92.98478%5D%2C%20%5B34.579529%2C%20-82.691742%5D%2C%20%5B45.010403000000004%2C%20-93.156639%5D%2C%20%5B33.935459%2C%20-84.160881%5D%2C%20%5B41.23373%2C%20-95.900726%5D%2C%20%5B33.68325%2C%20-117.87605%5D%2C%20%5B42.607234999999996%2C%20-71.325478%5D%2C%20%5B32.834812%2C%20-96.673225%5D%2C%20%5B39.366554%2C%20-123.31626899999999%5D%2C%20%5B26.062642999999998%2C%20-80.164116%5D%2C%20%5B38.948852%2C%20-78.45870500000001%5D%2C%20%5B34.047356%2C%20-117.992976%5D%2C%20%5B33.752514%2C%20-84.43956%5D%2C%20%5B27.491219%2C%20-82.472359%5D%2C%20%5B41.873497%2C%20-87.804565%5D%2C%20%5B29.803993%2C%20-95.396675%5D%2C%20%5B38.105483%2C%20-78.423105%5D%2C%20%5B28.550955%2C%20-81.37915799999999%5D%2C%20%5B34.145891999999996%2C%20-117.670309%5D%2C%20%5B33.503044%2C%20-86.89200600000001%5D%2C%20%5B37.518101%2C%20-77.448601%5D%2C%20%5B29.703606%2C%20-95.596184%5D%2C%20%5B35.418781%2C%20-97.56905400000001%5D%2C%20%5B40.97503%2C%20-73.70294%5D%2C%20%5B39.946362%2C%20-75.11846899999999%5D%2C%20%5B36.543751%2C%20-84.153885%5D%2C%20%5B28.57798%2C%20-81.460014%5D%2C%20%5B40.24478%2C%20-76.16802%5D%2C%20%5B40.867141%2C%20-76.787939%5D%2C%20%5B40.710679999999996%2C%20-74.00272%5D%2C%20%5B39.580379%2C%20-104.876411%5D%2C%20%5B32.20697%2C%20-110.94796000000001%5D%2C%20%5B37.604209999999995%2C%20-122.428345%5D%2C%20%5B35.46402%2C%20-97.476761%5D%2C%20%5B39.479228000000006%2C%20-77.24353%5D%2C%20%5B41.747402%2C%20-71.443352%5D%2C%20%5B36.966213%2C%20-76.513504%5D%2C%20%5B40.927971%2C%20-72.32811%5D%2C%20%5B45.018253%2C%20-92.987447%5D%2C%20%5B37.74242%2C%20-121.531723%5D%2C%20%5B32.925072%2C%20-96.838936%5D%2C%20%5B34.072753999999996%2C%20-117.783707%5D%2C%20%5B42.31044%2C%20-93.56929000000001%5D%2C%20%5B28.332993%2C%20-81.587479%5D%2C%20%5B32.759859000000006%2C%20-117.1896%5D%2C%20%5B40.626948999999996%2C%20-74.304375%5D%2C%20%5B37.999187%2C%20-121.354759%5D%2C%20%5B33.671946999999996%2C%20-117.75535900000001%5D%2C%20%5B32.337234%2C%20-111.003662%5D%2C%20%5B35.826454%2C%20-78.62083100000001%5D%2C%20%5B34.029907%2C%20-118.21853600000001%5D%2C%20%5B29.963672%2C%20-95.41845%5D%2C%20%5B42.267105%2C%20-83.225868%5D%2C%20%5B38.681740000000005%2C%20-121.06828300000001%5D%2C%20%5B33.756448%2C%20-117.18941299999999%5D%2C%20%5B39.956187%2C%20-76.735298%5D%2C%20%5B39.97648%2C%20-83.12517%5D%2C%20%5B37.655731%2C%20-122.435332%5D%2C%20%5B33.87234%2C%20-117.60777%5D%2C%20%5B36.076706%2C%20-79.89760600000001%5D%2C%20%5B35.87648%2C%20-78.67423199999999%5D%2C%20%5B47.450015%2C%20-122.837376%5D%2C%20%5B26.165897%2C%20-80.159891%5D%2C%20%5B32.70599%2C%20-96.827568%5D%2C%20%5B37.988918%2C%20-120.281792%5D%2C%20%5B30.316623999999997%2C%20-91.000069%5D%2C%20%5B34.081146000000004%2C%20-84.35695600000001%5D%2C%20%5B39.760723%2C%20-104.776749%5D%2C%20%5B40.651024%2C%20-111.88849599999999%5D%2C%20%5B38.994617%2C%20-76.514442%5D%2C%20%5B42.520664000000004%2C%20-71.133636%5D%2C%20%5B34.1101%2C%20-84.44676199999999%5D%2C%20%5B35.842911%2C%20-78.680161%5D%2C%20%5B43.914982%2C%20-93.277262%5D%2C%20%5B26.676284999999996%2C%20-80.069511%5D%2C%20%5B40.716099%2C%20-73.82605%5D%2C%20%5B45.50732%2C%20-122.67013999999999%5D%2C%20%5B39.39415%2C%20-123.456139%5D%2C%20%5B44.97056%2C%20-93.35128%5D%2C%20%5B41.971455%2C%20-87.747559%5D%2C%20%5B34.774677000000004%2C%20-82.462868%5D%2C%20%5B33.066140000000004%2C%20-96.88767%5D%2C%20%5B39.971709999999995%2C%20-75.12339%5D%2C%20%5B33.646982%2C%20-117.17111000000001%5D%2C%20%5B36.972038%2C%20-121.989281%5D%2C%20%5B33.564803999999995%2C%20-81.936768%5D%2C%20%5B30.236485%2C%20-92.011726%5D%2C%20%5B32.642065%2C%20-96.82679%5D%2C%20%5B34.288429%2C%20-77.920952%5D%2C%20%5B29.844646%2C%20-95.392197%5D%2C%20%5B34.035534000000006%2C%20-118.16989099999999%5D%2C%20%5B35.19699%2C%20-89.78823%5D%2C%20%5B37.702473%2C%20-122.047127%5D%2C%20%5B38.9339%2C%20-94.52081%5D%2C%20%5B43.223209999999995%2C%20-77.64139%5D%2C%20%5B37.350769%2C%20-121.83811999999999%5D%2C%20%5B43.08276%2C%20-75.326202%5D%2C%20%5B38.481435%2C%20-77.39528%5D%2C%20%5B32.239807%2C%20-110.904909%5D%2C%20%5B33.321628999999994%2C%20-111.604828%5D%2C%20%5B44.754765%2C%20-122.398596%5D%2C%20%5B34.857171%2C%20-82.26418199999999%5D%2C%20%5B31.778046000000003%2C%20-81.379189%5D%2C%20%5B41.907978%2C%20-87.939818%5D%2C%20%5B30.6763%2C%20-88.24334%5D%2C%20%5B42.292632%2C%20-122.82755300000001%5D%2C%20%5B34.065979999999996%2C%20-118.21619%5D%2C%20%5B32.968418%2C%20-96.821487%5D%2C%20%5B37.726223%2C%20-121.10479699999999%5D%2C%20%5B33.87938%2C%20-84.36506999999999%5D%2C%20%5B32.902060999999996%2C%20-96.897858%5D%2C%20%5B40.655571%2C%20-73.926895%5D%2C%20%5B35.00325%2C%20-117.768295%5D%2C%20%5B37.668953%2C%20-122.10938999999999%5D%2C%20%5B41.008911%2C%20-124.090806%5D%2C%20%5B29.644325%2C%20-95.50318100000001%5D%2C%20%5B37.891762%2C%20-122.17126499999999%5D%2C%20%5B40.066956%2C%20-75.278336%5D%2C%20%5B35.364388%2C%20-80.744385%5D%2C%20%5B36.324585%2C%20-86.869858%5D%2C%20%5B35.40205%2C%20-97.159683%5D%2C%20%5B42.275349%2C%20-71.7967%5D%2C%20%5B29.352482000000002%2C%20-98.42801700000001%5D%2C%20%5B25.939703%2C%20-80.188672%5D%2C%20%5B34.138467%2C%20-117.24271499999999%5D%2C%20%5B38.150928%2C%20-122.449127%5D%2C%20%5B25.789072%2C%20-80.204353%5D%2C%20%5B34.024986%2C%20-117.75767900000001%5D%2C%20%5B37.617385999999996%2C%20-120.98998300000001%5D%2C%20%5B26.093339999999998%2C%20-80.16806%5D%2C%20%5B30.57527%2C%20-91.170578%5D%2C%20%5B39.058304%2C%20-94.486839%5D%2C%20%5B30.405432%2C%20-91.12352%5D%2C%20%5B34.337139%2C%20-118.51289399999999%5D%2C%20%5B32.671655%2C%20-96.964505%5D%2C%20%5B28.524590000000003%2C%20-81.376442%5D%2C%20%5B33.872784%2C%20-118.34201000000002%5D%2C%20%5B40.593548999999996%2C%20-111.90239299999999%5D%2C%20%5B47.817337%2C%20-122.292351%5D%2C%20%5B33.933784%2C%20-81.20945%5D%2C%20%5B38.920471%2C%20-77.071648%5D%2C%20%5B47.206554%2C%20-122.46174599999999%5D%2C%20%5B44.020463%2C%20-91.550177%5D%2C%20%5B38.010715000000005%2C%20-122.017548%5D%2C%20%5B35.3577%2C%20-118.967522%5D%2C%20%5B30.547239%2C%20-91.053589%5D%2C%20%5B35.8172%2C%20-78.599541%5D%2C%20%5B43.66644%2C%20-94.33246%5D%2C%20%5B42.05682%2C%20-88.265495%5D%2C%20%5B35.523174%2C%20-97.54759200000001%5D%2C%20%5B35.902081%2C%20-78.761391%5D%2C%20%5B28.45247%2C%20-81.029597%5D%2C%20%5B25.836004%2C%20-80.24126899999999%5D%2C%20%5B35.223465000000004%2C%20-120.691727%5D%2C%20%5B37.03595%2C%20-122.02093%5D%2C%20%5B40.85403%2C%20-73.87194000000001%5D%2C%20%5B35.623638%2C%20-97.549561%5D%2C%20%5B40.658981%2C%20-76.395211%5D%2C%20%5B40.63475%2C%20-111.896998%5D%2C%20%5B34.067619%2C%20-117.57572900000001%5D%2C%20%5B34.150669%2C%20-118.468231%5D%2C%20%5B40.656653999999996%2C%20-120.657677%5D%2C%20%5B29.814087%2C%20-95.459259%5D%2C%20%5B43.841476%2C%20-92.54451800000001%5D%2C%20%5B26.166503%2C%20-80.159553%5D%2C%20%5B30.397640000000003%2C%20-97.928894%5D%2C%20%5B26.188169%2C%20-80.171165%5D%2C%20%5B26.062412%2C%20-80.16375699999999%5D%2C%20%5B34.331462%2C%20-110.764693%5D%2C%20%5B35.500526%2C%20-97.534309%5D%2C%20%5B39.772938%2C%20-86.030167%5D%2C%20%5B32.760760999999995%2C%20-96.74430100000001%5D%2C%20%5B40.804989%2C%20-73.280846%5D%2C%20%5B34.821098%2C%20-82.28248599999999%5D%2C%20%5B34.878689%2C%20-81.991241%5D%2C%20%5B46.116451%2C%20-122.950584%5D%2C%20%5B34.028199%2C%20-118.157049%5D%2C%20%5B43.047748999999996%2C%20-87.92598000000001%5D%2C%20%5B41.520157%2C%20-81.445549%5D%2C%20%5B32.802689%2C%20-96.81263%5D%2C%20%5B40.861794%2C%20-73.912689%5D%2C%20%5B37.398293%2C%20-122.04023000000001%5D%2C%20%5B41.990223%2C%20-87.751076%5D%2C%20%5B33.918056%2C%20-84.33802800000001%5D%2C%20%5B26.203110000000002%2C%20-80.20158599999999%5D%2C%20%5B39.369713%2C%20-76.51391600000001%5D%2C%20%5B38.8741%2C%20-76.97742%5D%2C%20%5B38.686485%2C%20-90.354263%5D%2C%20%5B36.039764%2C%20-86.649185%5D%2C%20%5B31.322374%2C%20-89.373489%5D%2C%20%5B28.346579%2C%20-81.673477%5D%2C%20%5B34.439693%2C%20-81.76166500000001%5D%2C%20%5B33.774277000000005%2C%20-118.00752299999999%5D%2C%20%5B34.54425%2C%20-82.652946%5D%2C%20%5B37.634182%2C%20-122.416145%5D%2C%20%5B37.60368%2C%20-122.06436000000001%5D%2C%20%5B41.245922%2C%20-74.169533%5D%2C%20%5B34.186489%2C%20-117.430893%5D%2C%20%5B44.969871999999995%2C%20-93.308975%5D%2C%20%5B34.05444%2C%20-118.00435%5D%2C%20%5B28.374977%2C%20-81.36509699999999%5D%2C%20%5B39.41638%2C%20-74.55925%5D%2C%20%5B42.524586%2C%20-71.081917%5D%2C%20%5B37.386821000000005%2C%20-121.96073799999999%5D%2C%20%5B33.997040000000005%2C%20-117.93101499999999%5D%2C%20%5B29.828646000000003%2C%20-95.381073%5D%2C%20%5B34.92543%2C%20-81.861122%5D%2C%20%5B33.67985%2C%20-117.87926999999999%5D%2C%20%5B43.532061%2C%20-123.298718%5D%2C%20%5B35.291909999999994%2C%20-80.79678%5D%2C%20%5B37.637904999999996%2C%20-121.12216200000002%5D%2C%20%5B40.75713%2C%20-73.10795999999999%5D%2C%20%5B25.796963%2C%20-80.321442%5D%2C%20%5B30.397740999999996%2C%20-87.399991%5D%2C%20%5B36.2442%2C%20-86.74803%5D%2C%20%5B41.7523%2C%20-87.94818000000001%5D%2C%20%5B33.538589%2C%20-112.10823799999999%5D%2C%20%5B35.408601000000004%2C%20-119.031221%5D%2C%20%5B40.826988%2C%20-115.775543%5D%2C%20%5B36.758509000000004%2C%20-76.344861%5D%2C%20%5B42.476357%2C%20-83.11144300000001%5D%2C%20%5B42.66572%2C%20-84.27481999999999%5D%2C%20%5B44.363294%2C%20-72.843055%5D%2C%20%5B40.418388%2C%20-79.947906%5D%2C%20%5B24.947548%2C%20-80.600158%5D%2C%20%5B30.349209000000002%2C%20-97.538452%5D%2C%20%5B32.647388%2C%20-96.781166%5D%2C%20%5B26.621021000000002%2C%20-81.74962099999999%5D%2C%20%5B40.694359000000006%2C%20-74.156723%5D%2C%20%5B35.196739%2C%20-80.79129%5D%2C%20%5B33.028183%2C%20-96.829346%5D%2C%20%5B40.303474%2C%20-76.849777%5D%2C%20%5B41.741707%2C%20-72.634422%5D%2C%20%5B30.625573%2C%20-91.05226400000001%5D%2C%20%5B33.654865%2C%20-112.065575%5D%2C%20%5B34.085384000000005%2C%20-81.162521%5D%2C%20%5B34.235577%2C%20-118.47296100000001%5D%2C%20%5B36.08976%2C%20-79.78887900000001%5D%2C%20%5B36.045730999999996%2C%20-86.67437%5D%2C%20%5B41.68823%2C%20-93.947909%5D%2C%20%5B37.490372%2C%20-77.431961%5D%2C%20%5B42.448009000000006%2C%20-83.219872%5D%2C%20%5B33.875751%2C%20-118.18611100000001%5D%2C%20%5B30.078103999999996%2C%20-96.078199%5D%2C%20%5B34.071811%2C%20-118.122867%5D%2C%20%5B42.806999999999995%2C%20-121.8351%5D%2C%20%5B44.968906%2C%20-93.343636%5D%2C%20%5B35.935081%2C%20-120.085197%5D%2C%20%5B45.525293%2C%20-122.663556%5D%2C%20%5B37.830669%2C%20-122.293343%5D%2C%20%5B39.453932%2C%20-76.316152%5D%2C%20%5B34.280411%2C%20-118.41878200000001%5D%2C%20%5B44.269220000000004%2C%20-121.19936100000001%5D%2C%20%5B36.089794%2C%20-96.000214%5D%2C%20%5B34.918476%2C%20-82.183966%5D%2C%20%5B42.96934%2C%20-85.67866%5D%2C%20%5B33.299236%2C%20-81.958115%5D%2C%20%5B32.496681%2C%20-93.75985%5D%2C%20%5B42.7351%2C%20-74.185608%5D%2C%20%5B38.371334999999995%2C%20-121.30085700000001%5D%2C%20%5B37.421124%2C%20-122.092476%5D%2C%20%5B40.031273%2C%20-75.269203%5D%2C%20%5B33.864948%2C%20-84.439552%5D%2C%20%5B42.510002%2C%20-82.91842700000001%5D%2C%20%5B35.102959999999996%2C%20-80.88443000000001%5D%2C%20%5B37.56635%2C%20-122.04168%5D%2C%20%5B27.441323999999998%2C%20-82.459549%5D%2C%20%5B36.162556%2C%20-95.76166500000001%5D%2C%20%5B40.940262%2C%20-74.163986%5D%2C%20%5B47.46719%2C%20-122.268005%5D%2C%20%5B35.165413%2C%20-89.86148100000001%5D%2C%20%5B29.52582%2C%20-98.55686999999999%5D%2C%20%5B39.725609999999996%2C%20-105.08446%5D%2C%20%5B34.833572%2C%20-78.97850799999999%5D%2C%20%5B39.407123999999996%2C%20-122.19593799999998%5D%2C%20%5B32.81221%2C%20-80.04701%5D%2C%20%5B40.629090000000005%2C%20-73.88799%5D%2C%20%5B30.419088000000002%2C%20-91.06768000000001%5D%2C%20%5B38.640223999999996%2C%20-90.345261%5D%2C%20%5B34.061661%2C%20-117.190808%5D%2C%20%5B43.019512%2C%20-83.555817%5D%2C%20%5B35.39785%2C%20-97.576302%5D%2C%20%5B33.652248%2C%20-84.367104%5D%2C%20%5B40.728699%2C%20-74.104118%5D%2C%20%5B41.072928999999995%2C%20-81.467499%5D%2C%20%5B33.55969%2C%20-112.03886999999999%5D%2C%20%5B39.926884%2C%20-86.029678%5D%2C%20%5B26.691359999999996%2C%20-80.15679200000001%5D%2C%20%5B34.170253%2C%20-118.304446%5D%2C%20%5B33.638226%2C%20-112.237747%5D%2C%20%5B35.104240000000004%2C%20-80.88765%5D%2C%20%5B40.555592%2C%20-83.952805%5D%2C%20%5B42.653133000000004%2C%20-73.746719%5D%2C%20%5B34.386247%2C%20-119.381069%5D%2C%20%5B31.405435999999998%2C%20-83.282372%5D%2C%20%5B40.48149%2C%20-79.877125%5D%2C%20%5B40.71696%2C%20-73.94919%5D%2C%20%5B34.214451000000004%2C%20-84.45736600000001%5D%2C%20%5B34.16108%2C%20-118.46961%5D%2C%20%5B33.893555%2C%20-118.04688999999999%5D%2C%20%5B33.45561%2C%20-111.88998000000001%5D%2C%20%5B38.648325%2C%20-121.37368000000001%5D%2C%20%5B30.160873%2C%20-81.747263%5D%2C%20%5B28.509536999999998%2C%20-82.242508%5D%2C%20%5B26.461884%2C%20-80.08886%5D%2C%20%5B37.567190000000004%2C%20-77.48259%5D%2C%20%5B44.990159999999996%2C%20-93.23640400000001%5D%2C%20%5B32.366631%2C%20-86.13806899999999%5D%2C%20%5B35.363455%2C%20-119.347946%5D%2C%20%5B36.988595000000004%2C%20-121.49092399999999%5D%2C%20%5B35.215614%2C%20-80.923088%5D%2C%20%5B28.346303000000002%2C%20-81.419752%5D%2C%20%5B36.265415000000004%2C%20-86.737656%5D%2C%20%5B38.68327%2C%20-90.227623%5D%2C%20%5B30.232658%2C%20-92.010254%5D%2C%20%5B35.183205%2C%20-80.80680100000001%5D%2C%20%5B41.092795%2C%20-75.7411%5D%2C%20%5B35.50162%2C%20-80.86714%5D%2C%20%5B43.143295%2C%20-77.573166%5D%2C%20%5B33.9878%2C%20-80.98873%5D%2C%20%5B34.422474%2C%20-118.58308400000001%5D%2C%20%5B39.595039%2C%20-104.85746800000001%5D%2C%20%5B38.67046%2C%20-90.599564%5D%2C%20%5B40.439468%2C%20-80.008812%5D%2C%20%5B34.488110999999996%2C%20-83.024872%5D%2C%20%5B45.396652%2C%20-92.99494200000001%5D%2C%20%5B38.56031%2C%20-121.457298%5D%2C%20%5B37.15736%2C%20-121.65698%5D%2C%20%5B39.943344%2C%20-104.84056899999999%5D%2C%20%5B37.84193%2C%20-122.29746000000002%5D%2C%20%5B41.00246%2C%20-95.90937%5D%2C%20%5B32.713153999999996%2C%20-96.82950600000001%5D%2C%20%5B38.716705%2C%20-121.37431299999999%5D%2C%20%5B38.924999%2C%20-77.214218%5D%2C%20%5B37.755437%2C%20-121.962275%5D%2C%20%5B27.479653999999996%2C%20-80.433223%5D%2C%20%5B36.002762%2C%20-79.854713%5D%2C%20%5B33.944916%2C%20-80.872978%5D%2C%20%5B35.467869%2C%20-97.52885400000001%5D%2C%20%5B40.111397%2C%20-75.30954%5D%2C%20%5B30.315432%2C%20-97.66310899999999%5D%2C%20%5B32.793490999999996%2C%20-96.699951%5D%2C%20%5B46.80809%2C%20-123.00396%5D%2C%20%5B37.688946%2C%20-122.135628%5D%2C%20%5B39.615578%2C%20-74.833099%5D%2C%20%5B44.56004%2C%20-121.16476999999999%5D%2C%20%5B32.731878%2C%20-96.824998%5D%2C%20%5B34.048019000000004%2C%20-117.549843%5D%2C%20%5B26.709878999999997%2C%20-80.078857%5D%2C%20%5B34.492020000000004%2C%20-118.28355%5D%2C%20%5B39.28788%2C%20-76.533447%5D%2C%20%5B34.121315%2C%20-117.250252%5D%2C%20%5B34.293965%2C%20-117.45391000000001%5D%2C%20%5B39.20985%2C%20-94.637863%5D%2C%20%5B40.943137%2C%20-74.068526%5D%2C%20%5B36.687401%2C%20-78.900009%5D%2C%20%5B33.765266%2C%20-84.385475%5D%2C%20%5B37.992836%2C%20-122.124303%5D%2C%20%5B45.421833%2C%20-122.57628600000001%5D%2C%20%5B41.742542%2C%20-72.73484%5D%2C%20%5B33.389%2C%20-112.08187099999999%5D%2C%20%5B39.412994%2C%20-104.868248%5D%2C%20%5B27.335457%2C%20-82.546974%5D%2C%20%5B34.99456%2C%20-80.854561%5D%2C%20%5B42.905743%2C%20-85.627174%5D%2C%20%5B33.67283%2C%20-112.0238%5D%2C%20%5B32.67161%2C%20-96.96503%5D%2C%20%5B29.600374%2C%20-95.266586%5D%2C%20%5B39.973396%2C%20-83.009201%5D%2C%20%5B25.686726%2C%20-80.38924399999999%5D%2C%20%5B38.183638%2C%20-121.80589499999999%5D%2C%20%5B41.830551%2C%20-87.630829%5D%2C%20%5B34.098587%2C%20-81.17417900000001%5D%2C%20%5B32.871536%2C%20-96.683105%5D%2C%20%5B25.789072%2C%20-80.204353%5D%2C%20%5B41.208172%2C%20-73.09389499999999%5D%2C%20%5B39.678090000000005%2C%20-84.23106%5D%2C%20%5B25.266419%2C%20-80.44001300000001%5D%2C%20%5B33.880542999999996%2C%20-117.601395%5D%2C%20%5B33.442211%2C%20-111.92639199999999%5D%2C%20%5B40.667590999999994%2C%20-73.99628299999999%5D%2C%20%5B26.061783%2C%20-80.39670600000001%5D%2C%20%5B40.559017%2C%20-111.89843%5D%2C%20%5B34.232212%2C%20-82.178162%5D%2C%20%5B36.04538%2C%20-86.713249%5D%2C%20%5B33.5465%2C%20-86.78284000000001%5D%2C%20%5B35.155907%2C%20-80.74838299999999%5D%2C%20%5B29.473305%2C%20-98.49928299999999%5D%2C%20%5B28.508071%2C%20-81.40114100000001%5D%2C%20%5B36.79742%2C%20-119.78544%5D%2C%20%5B28.671619%2C%20-81.455109%5D%2C%20%5B39.736059999999995%2C%20-75.62234000000001%5D%2C%20%5B44.086382%2C%20-123.061204%5D%2C%20%5B28.666220000000003%2C%20-80.87099%5D%2C%20%5B42.37891%2C%20-87.9408%5D%2C%20%5B35.020294%2C%20-85.25959%5D%2C%20%5B38.88193%2C%20-77.22138000000001%5D%2C%20%5B36.188065%2C%20-95.90464%5D%2C%20%5B34.004011%2C%20-117.83018899999999%5D%2C%20%5B37.314693%2C%20-121.91066000000001%5D%2C%20%5B40.847923%2C%20-73.942825%5D%2C%20%5B33.38681%2C%20-111.69341000000001%5D%2C%20%5B34.036814%2C%20-118.29155700000001%5D%2C%20%5B42.228519%2C%20-71.18175500000001%5D%2C%20%5B33.980827000000005%2C%20-81.106888%5D%2C%20%5B35.191784000000006%2C%20-89.974693%5D%2C%20%5B45.300201%2C%20-122.98334299999999%5D%2C%20%5B34.035095%2C%20-118.333626%5D%2C%20%5B40.70759%2C%20-73.81893000000001%5D%2C%20%5B41.25779%2C%20-95.97575400000001%5D%2C%20%5B30.688216999999998%2C%20-88.12628199999999%5D%2C%20%5B33.392720000000004%2C%20-111.984609%5D%2C%20%5B35.83313%2C%20-86.833618%5D%2C%20%5B34.034055%2C%20-79.824129%5D%2C%20%5B42.48766%2C%20-83.22963%5D%2C%20%5B35.047847999999995%2C%20-106.63771100000001%5D%2C%20%5B30.438540999999997%2C%20-91.024033%5D%2C%20%5B33.807415%2C%20-79.014954%5D%2C%20%5B28.48785%2C%20-82.567101%5D%2C%20%5B33.467242999999996%2C%20-82.08120699999999%5D%2C%20%5B35.241394%2C%20-80.850349%5D%2C%20%5B36.141220000000004%2C%20-86.73162099999999%5D%2C%20%5B45.035976%2C%20-92.820786%5D%2C%20%5B37.75708%2C%20-77.458966%5D%2C%20%5B33.834109999999995%2C%20-118.25808799999999%5D%2C%20%5B37.098971999999996%2C%20-81.802162%5D%2C%20%5B43.09903%2C%20-77.452271%5D%2C%20%5B45.06047%2C%20-93.15145%5D%2C%20%5B29.722095%2C%20-95.376701%5D%2C%20%5B40.80442%2C%20-73.95538%5D%2C%20%5B32.741268%2C%20-96.824577%5D%2C%20%5B38.93887%2C%20-94.53524%5D%2C%20%5B34.858849%2C%20-82.26042199999999%5D%2C%20%5B37.414726%2C%20-77.56819200000001%5D%2C%20%5B29.523125%2C%20-98.555916%5D%2C%20%5B37.34317%2C%20-121.84643999999999%5D%2C%20%5B30.422884000000003%2C%20-91.139362%5D%2C%20%5B45.51771%2C%20-122.66701%5D%2C%20%5B35.884291%2C%20-78.368285%5D%2C%20%5B38.879963000000004%2C%20-77.239548%5D%2C%20%5B29.930390000000003%2C%20-90.036875%5D%2C%20%5B32.96516%2C%20-96.82166%5D%2C%20%5B38.568742%2C%20-121.51325800000001%5D%2C%20%5B35.221802000000004%2C%20-80.750877%5D%2C%20%5B25.642714%2C%20-80.334553%5D%2C%20%5B35.207535%2C%20-80.821442%5D%2C%20%5B33.922259999999994%2C%20-118.36903000000001%5D%2C%20%5B34.580009000000004%2C%20-117.889633%5D%2C%20%5B36.00391%2C%20-80.83504%5D%2C%20%5B40.689751%2C%20-73.56755799999999%5D%2C%20%5B37.505463%2C%20-77.608887%5D%2C%20%5B39.798798%2C%20-84.189705%5D%2C%20%5B41.263283%2C%20-96.023865%5D%2C%20%5B33.007252%2C%20-96.829468%5D%2C%20%5B34.03379%2C%20-118.38618000000001%5D%2C%20%5B30.203470000000003%2C%20-92.175781%5D%2C%20%5B34.00309%2C%20-117.38077%5D%2C%20%5B28.518875%2C%20-82.23767600000001%5D%2C%20%5B38.706627000000005%2C%20-121.310699%5D%2C%20%5B30.216276%2C%20-97.751244%5D%2C%20%5B34.916744%2C%20-82.00431800000001%5D%2C%20%5B33.968478999999995%2C%20-117.84889199999999%5D%2C%20%5B33.479626%2C%20-112.264381%5D%2C%20%5B43.016892%2C%20-83.548697%5D%2C%20%5B38.606162%2C%20-121.43204899999999%5D%2C%20%5B39.213783%2C%20-119.670273%5D%2C%20%5B44.261955%2C%20-88.466431%5D%2C%20%5B25.685478%2C%20-80.41470600000001%5D%2C%20%5B40.202065000000005%2C%20-75.512505%5D%2C%20%5B30.345819%2C%20-91.140427%5D%2C%20%5B40.584959999999995%2C%20-73.95758000000001%5D%2C%20%5B29.520126%2C%20-98.496574%5D%2C%20%5B33.743342999999996%2C%20-117.109398%5D%2C%20%5B29.652159%2C%20-95.258339%5D%2C%20%5B33.26312%2C%20-111.7207%5D%2C%20%5B39.684909999999995%2C%20-104.95385%5D%2C%20%5B40.927986%2C%20-73.840195%5D%2C%20%5B34.04916%2C%20-117.95906799999999%5D%2C%20%5B40.77066%2C%20-112.14385%5D%2C%20%5B33.852711%2C%20-78.82067099999999%5D%2C%20%5B34.189842%2C%20-118.93971299999998%5D%2C%20%5B39.125284%2C%20-121.573474%5D%2C%20%5B39.060749%2C%20-84.599007%5D%2C%20%5B39.108631%2C%20-77.58773000000001%5D%2C%20%5B34.288013%2C%20-83.096954%5D%2C%20%5B35.092194%2C%20-80.933662%5D%2C%20%5B28.191686999999998%2C%20-82.465767%5D%2C%20%5B41.12308%2C%20-111.76521000000001%5D%2C%20%5B33.90671%2C%20-93.2925%5D%2C%20%5B33.450084999999994%2C%20-86.818123%5D%2C%20%5B39.174461%2C%20-77.257233%5D%2C%20%5B34.049316%2C%20-117.305252%5D%2C%20%5B25.937157%2C%20-80.20459699999999%5D%2C%20%5B38.496155%2C%20-122.75639299999999%5D%2C%20%5B30.425106%2C%20-91.173668%5D%2C%20%5B35.478737%2C%20-97.529999%5D%2C%20%5B34.023651%2C%20-117.549347%5D%2C%20%5B35.008862%2C%20-81.905563%5D%2C%20%5B38.736901%2C%20-120.71091899999999%5D%2C%20%5B37.559262%2C%20-77.418516%5D%2C%20%5B38.005569%2C%20-122.08251200000001%5D%2C%20%5B37.533809999999995%2C%20-77.50778000000001%5D%2C%20%5B40.747089%2C%20-74.191978%5D%2C%20%5B34.226059%2C%20-118.375626%5D%2C%20%5B33.683819%2C%20-112.11739299999999%5D%2C%20%5B33.938171000000004%2C%20-117.133232%5D%2C%20%5B35.2239%2C%20-80.744637%5D%2C%20%5B38.727973999999996%2C%20-76.88140899999999%5D%2C%20%5B39.589882%2C%20-75.74144%5D%2C%20%5B40.933151%2C%20-73.878685%5D%2C%20%5B33.4702%2C%20-112.203346%5D%2C%20%5B36.162586%2C%20-95.782677%5D%2C%20%5B28.448690000000003%2C%20-81.25861%5D%2C%20%5B34.1524%2C%20-118.098669%5D%2C%20%5B33.84689%2C%20-118.327279%5D%2C%20%5B36.578369%2C%20-80.743103%5D%2C%20%5B30.509745000000002%2C%20-97.686188%5D%2C%20%5B32.80676%2C%20-117.21598%5D%2C%20%5B38.456249%2C%20-85.296936%5D%2C%20%5B33.241312%2C%20-81.455752%5D%2C%20%5B38.65517%2C%20-121.025208%5D%2C%20%5B40.480259999999994%2C%20-80.044562%5D%2C%20%5B45.659527000000004%2C%20-122.57309%5D%2C%20%5B30.440557000000002%2C%20-97.668533%5D%2C%20%5B33.876289%2C%20-118.102577%5D%2C%20%5B42.429573%2C%20-122.59870900000001%5D%2C%20%5B40.272739%2C%20-75.257935%5D%2C%20%5B39.080954%2C%20-76.958616%5D%2C%20%5B34.155559999999994%2C%20-118.43483799999998%5D%2C%20%5B38.141890999999994%2C%20-85.58326%5D%2C%20%5B25.733269%2C%20-80.331645%5D%2C%20%5B40.77002%2C%20-73.563988%5D%2C%20%5B36.368726%2C%20-117.28676599999999%5D%2C%20%5B45.522758%2C%20-122.618958%5D%2C%20%5B37.77455%2C%20-122.2318%5D%2C%20%5B34.081268%2C%20-117.298584%5D%2C%20%5B33.13712%2C%20-117.16231499999999%5D%2C%20%5B26.06851%2C%20-80.35684%5D%2C%20%5B44.862938%2C%20-93.145531%5D%2C%20%5B32.803641999999996%2C%20-117.150879%5D%2C%20%5B35.839821%2C%20-88.087528%5D%2C%20%5B33.728328999999995%2C%20-117.808205%5D%2C%20%5B34.134212%2C%20-117.956772%5D%2C%20%5B38.034023%2C%20-121.962074%5D%2C%20%5B36.12231%2C%20-86.776415%5D%2C%20%5B39.281033%2C%20-76.553268%5D%2C%20%5B47.70865%2C%20-122.334%5D%2C%20%5B40.93419%2C%20-73.80741%5D%2C%20%5B38.881778999999995%2C%20-77.121994%5D%2C%20%5B29.789268%2C%20-95.438286%5D%2C%20%5B42.368423%2C%20-83.058128%5D%2C%20%5B32.851074%2C%20-96.769913%5D%2C%20%5B41.86006%2C%20-71.48924%5D%2C%20%5B34.859982%2C%20-82.461945%5D%2C%20%5B35.19956%2C%20-120.698252%5D%2C%20%5B33.689267%2C%20-117.919301%5D%2C%20%5B40.756766999999996%2C%20-73.954193%5D%2C%20%5B41.69299%2C%20-71.47666%5D%2C%20%5B34.742492999999996%2C%20-79.644958%5D%2C%20%5B39.21014%2C%20-86.46323000000001%5D%2C%20%5B34.156952000000004%2C%20-118.44904299999999%5D%2C%20%5B28.042394%2C%20-82.70920799999999%5D%2C%20%5B39.84425%2C%20-75.01825%5D%2C%20%5B37.709221%2C%20-121.08083300000001%5D%2C%20%5B33.480171%2C%20-111.98255900000001%5D%2C%20%5B28.603695000000002%2C%20-81.407097%5D%2C%20%5B39.813429%2C%20-76.991886%5D%2C%20%5B33.959099%2C%20-117.309692%5D%2C%20%5B42.959259%2C%20-83.712616%5D%2C%20%5B34.030212%2C%20-117.67813899999999%5D%2C%20%5B30.436011999999998%2C%20-91.156403%5D%2C%20%5B37.980461%2C%20-122.04324299999999%5D%2C%20%5B37.527813%2C%20-121.99871100000001%5D%2C%20%5B32.516312%2C%20-83.598259%5D%2C%20%5B38.618365999999995%2C%20-121.52941100000001%5D%2C%20%5B34.946579%2C%20-87.190338%5D%2C%20%5B43.224197%2C%20-75.17968%5D%2C%20%5B44.970620000000004%2C%20-93.29813%5D%2C%20%5B37.199073999999996%2C%20-77.423433%5D%2C%20%5B36.987353999999996%2C%20-121.98793799999999%5D%2C%20%5B29.875696%2C%20-95.41152199999999%5D%2C%20%5B33.763472%2C%20-117.865201%5D%2C%20%5B35.1674%2C%20-80.74294%5D%2C%20%5B29.947224%2C%20-90.08250100000001%5D%2C%20%5B43.131029999999996%2C%20-76.2199%5D%2C%20%5B45.077902%2C%20-93.36734100000001%5D%2C%20%5B37.584697999999996%2C%20-122.32914699999999%5D%2C%20%5B28.421371999999998%2C%20-81.402214%5D%2C%20%5B33.825554%2C%20-118.20778700000001%5D%2C%20%5B40.116244%2C%20-75.42439300000001%5D%2C%20%5B37.954159000000004%2C%20-121.23811299999998%5D%2C%20%5B28.180815000000003%2C%20-82.427811%5D%2C%20%5B29.523508000000003%2C%20-98.41100300000001%5D%2C%20%5B35.468468%2C%20-97.58600600000001%5D%2C%20%5B44.384571%2C%20-93.443336%5D%2C%20%5B36.97168%2C%20-81.06747%5D%2C%20%5B40.716766%2C%20-73.963387%5D%2C%20%5B30.20035%2C%20-81.554337%5D%2C%20%5B27.894423%2C%20-82.692665%5D%2C%20%5B34.06992%2C%20-118.090599%5D%2C%20%5B35.226601%2C%20-80.747292%5D%2C%20%5B34.279118%2C%20-118.48467%5D%2C%20%5B37.71138%2C%20-122.16813700000002%5D%2C%20%5B38.266740000000006%2C%20-85.50152%5D%2C%20%5B42.941525%2C%20-85.66984599999999%5D%2C%20%5B40.665031%2C%20-87.036171%5D%2C%20%5B29.580070000000003%2C%20-95.514549%5D%2C%20%5B35.087887%2C%20-82.165909%5D%2C%20%5B40.71431%2C%20-74.15431%5D%2C%20%5B41.857315%2C%20-88.14632399999999%5D%2C%20%5B30.195356%2C%20-97.84227%5D%2C%20%5B47.249592%2C%20-121.19065900000001%5D%2C%20%5B44.95158%2C%20-93.01514%5D%2C%20%5B40.15943%2C%20-75.21493000000001%5D%2C%20%5B36.626560999999995%2C%20-121.678606%5D%2C%20%5B42.502293%2C%20-71.118759%5D%2C%20%5B37.631312%2C%20-122.079448%5D%2C%20%5B34.107440999999994%2C%20-118.33743999999999%5D%2C%20%5B37.499359999999996%2C%20-77.53716%5D%2C%20%5B29.866078%2C%20-81.341533%5D%2C%20%5B32.67622%2C%20-97.03963%5D%2C%20%5B32.675133%2C%20-97.00679000000001%5D%2C%20%5B43.982959%2C%20-121.52761799999999%5D%2C%20%5B34.263904%2C%20-111.22148700000001%5D%2C%20%5B43.477028000000004%2C%20-121.688042%5D%2C%20%5B42.092453000000006%2C%20-71.224602%5D%2C%20%5B32.838356%2C%20-97.227905%5D%2C%20%5B41.113861%2C%20-78.73320799999999%5D%2C%20%5B34.077999%2C%20-117.813896%5D%2C%20%5B33.731128999999996%2C%20-117.83438100000001%5D%2C%20%5B43.06033%2C%20-87.92083000000001%5D%2C%20%5B38.513597%2C%20-121.461529%5D%2C%20%5B33.96743%2C%20-118.23584%5D%2C%20%5B34.95129%2C%20-86.89296999999999%5D%2C%20%5B42.212086%2C%20-87.955444%5D%2C%20%5B40.4576%2C%20-75.44224%5D%2C%20%5B35.333363%2C%20-80.721367%5D%2C%20%5B46.75125%2C%20-92.1022%5D%2C%20%5B33.461964%2C%20-112.15186299999999%5D%2C%20%5B39.719351%2C%20-104.99858%5D%2C%20%5B38.846191%2C%20-104.720703%5D%2C%20%5B40.924416%2C%20-74.95904499999999%5D%2C%20%5B40.126595%2C%20-75.451584%5D%2C%20%5B34.072603%2C%20-118.05985700000001%5D%2C%20%5B41.437489%2C%20-81.7799%5D%2C%20%5B41.580795%2C%20-87.24816700000001%5D%2C%20%5B39.725449%2C%20-105.017693%5D%2C%20%5B40.116741999999995%2C%20-74.88107%5D%2C%20%5B38.932732%2C%20-77.52726700000001%5D%2C%20%5B40.700024%2C%20-73.815315%5D%2C%20%5B37.703039000000004%2C%20-121.923399%5D%2C%20%5B34.011462%2C%20-118.13083%5D%2C%20%5B36.180592%2C%20-86.796402%5D%2C%20%5B25.964184%2C%20-80.165863%5D%2C%20%5B34.690563%2C%20-82.99266800000001%5D%2C%20%5B42.415543%2C%20-83.21888%5D%2C%20%5B34.024189%2C%20-117.77060700000001%5D%2C%20%5B47.5992%2C%20-122.32765%5D%2C%20%5B33.878475%2C%20-117.657646%5D%2C%20%5B36.845589000000004%2C%20-76.252586%5D%2C%20%5B38.743387%2C%20-121.170604%5D%2C%20%5B32.027721%2C%20-84.672783%5D%2C%20%5B33.859955%2C%20-118.30915800000001%5D%2C%20%5B39.600821999999994%2C%20-84.22878299999999%5D%2C%20%5B34.082533000000005%2C%20-83.98773100000001%5D%2C%20%5B39.823513%2C%20-86.270287%5D%2C%20%5B34.619625%2C%20-82.934555%5D%2C%20%5B40.879042%2C%20-111.92998999999999%5D%2C%20%5B25.866604000000002%2C%20-80.323013%5D%2C%20%5B38.154011%2C%20-85.06983199999999%5D%2C%20%5B33.819557%2C%20-79.024734%5D%2C%20%5B37.994602%2C%20-122.12074299999999%5D%2C%20%5B33.465472999999996%2C%20-112.038017%5D%2C%20%5B27.95635%2C%20-82.4595%5D%2C%20%5B29.6771%2C%20-95.54046%5D%2C%20%5B28.67312%2C%20-81.50946%5D%2C%20%5B33.857054999999995%2C%20-86.805676%5D%2C%20%5B39.459949%2C%20-118.79167199999999%5D%2C%20%5B32.759192999999996%2C%20-96.6828%5D%2C%20%5B45.443359%2C%20-122.62975300000001%5D%2C%20%5B41.745796%2C%20-72.660453%5D%2C%20%5B38.269532%2C%20-122.66686999999999%5D%2C%20%5B33.018509%2C%20-80.13556700000001%5D%2C%20%5B33.480328%2C%20-112.03891000000002%5D%2C%20%5B35.861496%2C%20-78.822296%5D%2C%20%5B37.563477%2C%20-122.03858899999999%5D%2C%20%5B30.45392%2C%20-90.96114%5D%2C%20%5B37.550148%2C%20-77.435626%5D%2C%20%5B31.764381%2C%20-106.36433400000001%5D%2C%20%5B37.574184%2C%20-77.463829%5D%2C%20%5B45.18934%2C%20-93.5435%5D%2C%20%5B28.472345%2C%20-81.417473%5D%2C%20%5B39.039956%2C%20-75.559016%5D%2C%20%5B35.464314%2C%20-97.61889599999999%5D%2C%20%5B29.4387%2C%20-98.477654%5D%2C%20%5B43.0159%2C%20-85.68435699999999%5D%2C%20%5B33.968478999999995%2C%20-117.84889199999999%5D%2C%20%5B43.036021999999996%2C%20-89.394081%5D%2C%20%5B33.616828999999996%2C%20-84.438164%5D%2C%20%5B45.29674%2C%20-93.8004%5D%2C%20%5B38.673671999999996%2C%20-121.73303200000001%5D%2C%20%5B29.736440999999996%2C%20-95.432137%5D%2C%20%5B39.301029%2C%20-76.74342299999999%5D%2C%20%5B39.68205%2C%20-104.82868%5D%2C%20%5B37.835615000000004%2C%20-122.29545900000001%5D%2C%20%5B34.969891%2C%20-80.82911700000001%5D%2C%20%5B36.017399%2C%20-95.868523%5D%2C%20%5B29.822701000000002%2C%20-95.541313%5D%2C%20%5B34.064705%2C%20-117.261154%5D%2C%20%5B34.064156%2C%20-117.27903700000002%5D%2C%20%5B42.56391%2C%20-114.534966%5D%2C%20%5B33.8177%2C%20-118.08153999999999%5D%2C%20%5B28.32648%2C%20-81.83381%5D%2C%20%5B40.477321999999994%2C%20-80.047752%5D%2C%20%5B45.802376%2C%20-108.43836200000001%5D%2C%20%5B32.99276%2C%20-80.16484799999999%5D%2C%20%5B47.158211%2C%20-122.35743000000001%5D%2C%20%5B43.033256%2C%20-83.704391%5D%2C%20%5B33.862309%2C%20-118.199303%5D%2C%20%5B34.137834999999995%2C%20-118.09678799999999%5D%2C%20%5B38.057804%2C%20-121.25960500000001%5D%2C%20%5B39.305718%2C%20-123.79836100000001%5D%2C%20%5B40.31089%2C%20-83.05353000000001%5D%2C%20%5B40.775311%2C%20-73.474228%5D%2C%20%5B35.12956%2C%20-80.94169000000001%5D%2C%20%5B32.795796%2C%20-96.69198100000001%5D%2C%20%5B47.61266%2C%20-122.33741%5D%2C%20%5B40.544445%2C%20-111.89108999999999%5D%2C%20%5B38.943474%2C%20-77.136169%5D%2C%20%5B34.555569%2C%20-82.68135799999999%5D%2C%20%5B32.004673%2C%20-81.28343199999999%5D%2C%20%5B34.557976000000004%2C%20-118.13259099999999%5D%2C%20%5B30.010061%2C%20-90.238922%5D%2C%20%5B47.58813%2C%20-122.23404%5D%2C%20%5B45.139984000000005%2C%20-93.495605%5D%2C%20%5B32.76088%2C%20-97.47785999999999%5D%2C%20%5B44.730571999999995%2C%20-93.28313399999999%5D%2C%20%5B29.783009000000003%2C%20-95.457161%5D%2C%20%5B45.52217%2C%20-122.81578999999999%5D%2C%20%5B26.562786%2C%20-81.96599599999999%5D%2C%20%5B35.777119%2C%20-78.67849%5D%2C%20%5B33.610195000000004%2C%20-112.24411%5D%2C%20%5B29.42473%2C%20-98.501678%5D%2C%20%5B35.733335%2C%20-78.644882%5D%2C%20%5B39.92915%2C%20-122.28872700000001%5D%2C%20%5B38.672459%2C%20-121.35665900000001%5D%2C%20%5B33.5814%2C%20-84.51745%5D%2C%20%5B34.037025%2C%20-118.30909%5D%2C%20%5B30.3825%2C%20-97.693802%5D%2C%20%5B40.008965%2C%20-75.290413%5D%2C%20%5B44.19614%2C%20-93.622208%5D%2C%20%5B25.702409%2C%20-80.333568%5D%2C%20%5B45.515339000000004%2C%20-122.681747%5D%2C%20%5B42.814365%2C%20-73.956696%5D%2C%20%5B33.681293%2C%20-84.407715%5D%2C%20%5B41.930240999999995%2C%20-88.110771%5D%2C%20%5B30.174107%2C%20-97.798866%5D%2C%20%5B41.10729%2C%20-74.0696%5D%2C%20%5B45.037479%2C%20-93.042519%5D%2C%20%5B38.48288%2C%20-122.356003%5D%2C%20%5B41.859257%2C%20-88.07637%5D%2C%20%5B34.143244%2C%20-117.256491%5D%2C%20%5B40.785664000000004%2C%20-73.98410799999999%5D%2C%20%5B42.280048%2C%20-91.010273%5D%2C%20%5B34.152149%2C%20-118.150581%5D%2C%20%5B36.13341%2C%20-95.83325%5D%2C%20%5B36.117149%2C%20-86.773422%5D%2C%20%5B34.720797999999995%2C%20-82.254542%5D%2C%20%5B30.28306%2C%20-97.727524%5D%2C%20%5B35.22538%2C%20-80.84575699999999%5D%2C%20%5B40.758347%2C%20-73.854538%5D%2C%20%5B26.10934%2C%20-80.29125%5D%2C%20%5B38.371320000000004%2C%20-75.53226%5D%2C%20%5B34.442568%2C%20-118.215176%5D%2C%20%5B40.226555%2C%20-75.655731%5D%2C%20%5B42.980705%2C%20-83.772125%5D%2C%20%5B39.205002%2C%20-76.5597%5D%2C%20%5B45.593868%2C%20-122.71661399999999%5D%2C%20%5B47.239765000000006%2C%20-122.402977%5D%2C%20%5B41.730387%2C%20-74.066507%5D%2C%20%5B34.28582%2C%20-81.644623%5D%2C%20%5B46.496361%2C%20-95.32634%5D%2C%20%5B42.695904%2C%20-73.84127%5D%2C%20%5B35.223999%2C%20-80.883217%5D%2C%20%5B33.666409%2C%20-117.303352%5D%2C%20%5B41.884315%2C%20-112.487549%5D%2C%20%5B38.420982%2C%20-122.71563%5D%2C%20%5B33.304759999999995%2C%20-112.03391%5D%2C%20%5B26.188128%2C%20-80.151657%5D%2C%20%5B34.576857000000004%2C%20-82.62285%5D%2C%20%5B36.203289%2C%20-86.761543%5D%2C%20%5B33.582001%2C%20-112.10961200000001%5D%2C%20%5B38.443360999999996%2C%20-121.40410700000001%5D%2C%20%5B33.764621999999996%2C%20-84.493027%5D%2C%20%5B29.756429999999998%2C%20-95.40840899999999%5D%2C%20%5B34.030529%2C%20-117.650617%5D%2C%20%5B41.565678000000005%2C%20-93.862534%5D%2C%20%5B42.25045%2C%20-87.844368%5D%2C%20%5B36.546719%2C%20-119.556625%5D%2C%20%5B28.318972%2C%20-81.391289%5D%2C%20%5B41.983371999999996%2C%20-87.82016800000001%5D%2C%20%5B28.751742%2C%20-81.934754%5D%2C%20%5B36.766937%2C%20-121.759666%5D%2C%20%5B38.463879%2C%20-121.334763%5D%2C%20%5B38.263531%2C%20-85.623398%5D%2C%20%5B30.052149%2C%20-95.58114%5D%2C%20%5B30.185570000000002%2C%20-81.55809%5D%2C%20%5B32.564308000000004%2C%20-116.956047%5D%2C%20%5B41.390369%2C%20-73.59796899999999%5D%2C%20%5B29.434469%2C%20-98.716362%5D%2C%20%5B33.728065%2C%20-117.807281%5D%2C%20%5B35.859959%2C%20-78.581499%5D%2C%20%5B25.5979%2C%20-80.37493%5D%2C%20%5B42.470879%2C%20-88.093422%5D%2C%20%5B34.495655%2C%20-82.629707%5D%2C%20%5B38.748608000000004%2C%20-90.439484%5D%2C%20%5B32.691216%2C%20-96.839951%5D%2C%20%5B30.504314%2C%20-91.085411%5D%2C%20%5B26.572603000000004%2C%20-80.069292%5D%2C%20%5B43.017719%2C%20-77.667709%5D%2C%20%5B37.690514%2C%20-121.918709%5D%2C%20%5B28.49229%2C%20-81.433685%5D%2C%20%5B33.387344%2C%20-111.960999%5D%2C%20%5B34.072189%2C%20-118.090675%5D%2C%20%5B42.363338%2C%20-71.057716%5D%2C%20%5B33.941818%2C%20-80.51969100000001%5D%2C%20%5B43.639759999999995%2C%20-72.27783000000001%5D%2C%20%5B33.174168%2C%20-87.405373%5D%2C%20%5B33.765926%2C%20-117.937725%5D%2C%20%5B36.141048%2C%20-86.71929899999999%5D%2C%20%5B30.716046000000002%2C%20-85.930026%5D%2C%20%5B33.71973%2C%20-117.795052%5D%2C%20%5B41.143986%2C%20-73.816528%5D%2C%20%5B29.736753000000004%2C%20-95.57178499999999%5D%2C%20%5B34.78645%2C%20-82.44626%5D%2C%20%5B38.763191%2C%20-77.812889%5D%2C%20%5B33.746406%2C%20-118.007025%5D%2C%20%5B29.364896999999996%2C%20-98.440453%5D%2C%20%5B35.006371%2C%20-90.034523%5D%2C%20%5B25.964095999999998%2C%20-80.16555799999999%5D%2C%20%5B43.341276%2C%20-123.33182099999999%5D%2C%20%5B32.759361%2C%20-96.827423%5D%2C%20%5B40.97435%2C%20-76.80743000000001%5D%2C%20%5B39.72905%2C%20-121.81139399999999%5D%2C%20%5B30.430773%2C%20-91.1092%5D%2C%20%5B34.833682%2C%20-112.460848%5D%2C%20%5B42.520046%2C%20-71.133057%5D%2C%20%5B33.994246999999994%2C%20-117.90508999999999%5D%2C%20%5B34.165838%2C%20-118.49234399999999%5D%2C%20%5B41.09369%2C%20-73.81766999999999%5D%2C%20%5B41.864323%2C%20-88.15831%5D%2C%20%5B30.440216999999997%2C%20-91.210408%5D%2C%20%5B33.77877%2C%20-117.88533000000001%5D%2C%20%5B42.862911%2C%20-83.75904799999999%5D%2C%20%5B33.873375%2C%20-118.00783500000001%5D%2C%20%5B36.153259999999996%2C%20-86.63306%5D%2C%20%5B40.77896%2C%20-73.0158%5D%2C%20%5B40.806744%2C%20-73.23449699999999%5D%2C%20%5B34.737377%2C%20-82.271523%5D%2C%20%5B40.544491%2C%20-74.157341%5D%2C%20%5B34.545207%2C%20-117.30079599999999%5D%2C%20%5B32.361519%2C%20-86.171059%5D%2C%20%5B37.41088%2C%20-77.55399%5D%2C%20%5B28.415646999999996%2C%20-80.755274%5D%2C%20%5B34.056125%2C%20-118.24118200000001%5D%2C%20%5B25.650538%2C%20-80.483535%5D%2C%20%5B31.783569%2C%20-106.42224099999999%5D%2C%20%5B43.034683%2C%20-83.51681500000001%5D%2C%20%5B34.908046999999996%2C%20-81.932487%5D%2C%20%5B43.158913%2C%20-114.338775%5D%2C%20%5B39.258010999999996%2C%20-77.760986%5D%2C%20%5B40.73547%2C%20-73.85982%5D%2C%20%5B33.011051%2C%20-117.08008600000001%5D%2C%20%5B38.83667%2C%20-121.16545%5D%2C%20%5B47.531918%2C%20-122.376648%5D%2C%20%5B34.098583000000005%2C%20-118.314903%5D%2C%20%5B39.996989%2C%20-75.746024%5D%2C%20%5B34.642208000000004%2C%20-83.53005999999999%5D%2C%20%5B33.84848%2C%20-117.53416999999999%5D%2C%20%5B41.36907%2C%20-72.45756%5D%2C%20%5B42.663647%2C%20-71.605751%5D%2C%20%5B38.235779%2C%20-85.658501%5D%2C%20%5B32.749702%2C%20-117.108627%5D%2C%20%5B40.79898%2C%20-73.91903%5D%2C%20%5B34.164316%2C%20-118.224732%5D%2C%20%5B28.068309999999997%2C%20-82.45491%5D%2C%20%5B34.05195%2C%20-118.44944%5D%2C%20%5B29.388014000000002%2C%20-98.485809%5D%2C%20%5B38.142484%2C%20-122.247525%5D%2C%20%5B35.087189%2C%20-82.258698%5D%2C%20%5B38.045876%2C%20-84.565742%5D%2C%20%5B34.103790000000004%2C%20-118.31938000000001%5D%2C%20%5B26.567497999999997%2C%20-81.867423%5D%2C%20%5B33.93421%2C%20-117.66268000000001%5D%2C%20%5B43.047509999999996%2C%20-77.65728%5D%2C%20%5B29.20075%2C%20-82.207901%5D%2C%20%5B39.894661%2C%20-75.317871%5D%2C%20%5B35.563702%2C%20-97.53130300000001%5D%2C%20%5B33.227881%2C%20-86.807645%5D%2C%20%5B41.23827%2C%20-95.93969%5D%2C%20%5B40.86421%2C%20-74.41767%5D%2C%20%5B40.758784999999996%2C%20-73.422165%5D%2C%20%5B38.425651%2C%20-77.42095%5D%2C%20%5B38.389492%2C%20-122.71623500000001%5D%2C%20%5B29.661283%2C%20-95.557487%5D%2C%20%5B39.872307%2C%20-75.101997%5D%2C%20%5B39.04606%2C%20-94.41796%5D%2C%20%5B32.862503000000004%2C%20-116.923004%5D%2C%20%5B34.07438%2C%20-117.99875%5D%2C%20%5B33.68286%2C%20-117.87663%5D%2C%20%5B29.614403000000003%2C%20-95.250732%5D%2C%20%5B40.610820000000004%2C%20-74.03194%5D%2C%20%5B35.198181%2C%20-80.861313%5D%2C%20%5B38.65957%2C%20-120.97246000000001%5D%2C%20%5B27.821070000000002%2C%20-82.69897399999999%5D%2C%20%5B28.682989000000003%2C%20-82.552414%5D%2C%20%5B42.344494%2C%20-87.93355600000001%5D%2C%20%5B25.749912%2C%20-80.33583%5D%2C%20%5B40.595259999999996%2C%20-74.06964%5D%2C%20%5B34.705405999999996%2C%20-86.588799%5D%2C%20%5B35.817329%2C%20-78.599609%5D%2C%20%5B31.792444%2C%20-106.37548100000001%5D%2C%20%5B32.220993%2C%20-110.832375%5D%2C%20%5B42.379162%2C%20-83.198013%5D%2C%20%5B33.06889%2C%20-80.80843399999999%5D%2C%20%5B35.147663%2C%20-80.808205%5D%2C%20%5B43.00954%2C%20-87.89301%5D%2C%20%5B28.580301000000002%2C%20-81.37487%5D%2C%20%5B38.978313%2C%20-76.873581%5D%2C%20%5B38.80048%2C%20-90.59099599999999%5D%2C%20%5B33.881741%2C%20-117.54736299999999%5D%2C%20%5B40.121178%2C%20-75.34169%5D%2C%20%5B27.91827%2C%20-82.61333%5D%2C%20%5B42.7589%2C%20-73.763191%5D%2C%20%5B35.170406%2C%20-80.807121%5D%2C%20%5B39.596771000000004%2C%20-84.238365%5D%2C%20%5B42.863898999999996%2C%20-83.70400699999999%5D%2C%20%5B41.445469%2C%20-72.789825%5D%2C%20%5B29.771107%2C%20-95.153343%5D%2C%20%5B35.850906%2C%20-78.830124%5D%2C%20%5B32.909591999999996%2C%20-96.87236800000001%5D%2C%20%5B29.91512%2C%20-95.408887%5D%2C%20%5B37.520579999999995%2C%20-77.45770300000001%5D%2C%20%5B33.890293%2C%20-84.460991%5D%2C%20%5B35.963795000000005%2C%20-83.948715%5D%2C%20%5B35.320883%2C%20-119.036875%5D%2C%20%5B40.079765%2C%20-75.407059%5D%2C%20%5B41.861187%2C%20-87.9589%5D%2C%20%5B41.109790999999994%2C%20-73.80143699999999%5D%2C%20%5B34.118102%2C%20-117.881373%5D%2C%20%5B39.22606%2C%20-84.58830999999999%5D%2C%20%5B32.625854%2C%20-88.208405%5D%2C%20%5B33.64628%2C%20-117.86095%5D%2C%20%5B41.780918%2C%20-87.974808%5D%2C%20%5B40.299960999999996%2C%20-76.902283%5D%2C%20%5B33.64026%2C%20-112.09148%5D%2C%20%5B41.263058%2C%20-96.119537%5D%2C%20%5B35.125748%2C%20-85.279137%5D%2C%20%5B38.021353000000005%2C%20-78.43119200000001%5D%2C%20%5B41.299496000000005%2C%20-96.005875%5D%2C%20%5B32.766487%2C%20-96.85781899999999%5D%2C%20%5B27.486038%2C%20-82.469474%5D%2C%20%5B42.393874%2C%20-88.155815%5D%2C%20%5B35.831554%2C%20-78.763657%5D%2C%20%5B29.78912%2C%20-95.33995%5D%2C%20%5B32.71776%2C%20-117.11265%5D%2C%20%5B35.212627000000005%2C%20-84.866867%5D%2C%20%5B36.604739%2C%20-82.222934%5D%2C%20%5B39.937191%2C%20-75.363571%5D%2C%20%5B42.00542%2C%20-87.89415%5D%2C%20%5B35.7669%2C%20-78.73438%5D%2C%20%5B30.406719%2C%20-91.102417%5D%2C%20%5B32.766689%2C%20-96.860664%5D%2C%20%5B45.952892%2C%20-118.387375%5D%2C%20%5B27.638439%2C%20-81.522491%5D%2C%20%5B34.023922%2C%20-118.181256%5D%2C%20%5B34.103062%2C%20-117.86991100000002%5D%2C%20%5B32.9576%2C%20-117.11701200000002%5D%2C%20%5B39.19455%2C%20-94.618553%5D%2C%20%5B39.079094%2C%20-94.413887%5D%2C%20%5B41.094326%2C%20-73.812943%5D%2C%20%5B33.324089%2C%20-79.833809%5D%2C%20%5B33.843769%2C%20-84.30680799999999%5D%2C%20%5B28.41643%2C%20-81.422684%5D%2C%20%5B41.893718%2C%20-83.433711%5D%2C%20%5B39.382220000000004%2C%20-76.737087%5D%2C%20%5B25.764129999999998%2C%20-80.32054000000001%5D%2C%20%5B35.102177000000005%2C%20-85.229073%5D%2C%20%5B42.387115%2C%20-83.437057%5D%2C%20%5B32.070198%2C%20-81.20238499999999%5D%2C%20%5B29.73084%2C%20-95.404427%5D%2C%20%5B41.81335%2C%20-87.6297%5D%2C%20%5B42.005428%2C%20-87.795242%5D%2C%20%5B25.811823%2C%20-80.386292%5D%2C%20%5B45.784529%2C%20-120.04493000000001%5D%2C%20%5B30.437639%2C%20-91.166595%5D%2C%20%5B32.770148999999996%2C%20-96.755142%5D%2C%20%5B33.857859999999995%2C%20-117.9829%5D%2C%20%5B37.42528%2C%20-122.09804%5D%2C%20%5B30.210541%2C%20-92.075691%5D%2C%20%5B35.63718%2C%20-82.063135%5D%2C%20%5B44.895618%2C%20-93.274895%5D%2C%20%5B29.845549%2C%20-95.38448299999999%5D%2C%20%5B41.321789%2C%20-72.886261%5D%2C%20%5B34.072117%2C%20-118.099471%5D%2C%20%5B39.78241%2C%20-84.22558000000001%5D%2C%20%5B30.224588%2C%20-92.010338%5D%2C%20%5B39.781963%2C%20-86.153931%5D%2C%20%5B26.318716%2C%20-81.76245899999999%5D%2C%20%5B29.396231%2C%20-98.497635%5D%2C%20%5B34.245028999999995%2C%20-119.195747%5D%2C%20%5B30.629181%2C%20-88.11846899999999%5D%2C%20%5B29.784439000000003%2C%20-95.54402900000001%5D%2C%20%5B38.945377%2C%20-76.858414%5D%2C%20%5B44.853384000000005%2C%20-124.042382%5D%2C%20%5B42.761654%2C%20-74.11438000000001%5D%2C%20%5B29.78442%2C%20-95.51975%5D%2C%20%5B33.872534%2C%20-117.665006%5D%2C%20%5B30.199532%2C%20-81.743767%5D%2C%20%5B37.866932%2C%20-122.039146%5D%2C%20%5B29.673037%2C%20-95.515793%5D%2C%20%5B35.753944%2C%20-78.635696%5D%2C%20%5B33.76001%2C%20-117.83116100000001%5D%2C%20%5B38.465389%2C%20-121.371857%5D%2C%20%5B29.872041999999997%2C%20-95.262558%5D%2C%20%5B37.808318%2C%20-122.367026%5D%2C%20%5B41.185158%2C%20-96.10884899999999%5D%2C%20%5B32.798794%2C%20-96.793159%5D%2C%20%5B32.823776%2C%20-96.622175%5D%2C%20%5B45.151031%2C%20-122.880959%5D%2C%20%5B45.519424%2C%20-122.735428%5D%2C%20%5B40.890984%2C%20-92.639099%5D%2C%20%5B34.776348%2C%20-82.391144%5D%2C%20%5B40.830223%2C%20-73.85063199999999%5D%2C%20%5B44.9851%2C%20-93.24141999999999%5D%2C%20%5B41.984085%2C%20-88.06543%5D%2C%20%5B34.068569000000004%2C%20-80.948662%5D%2C%20%5B34.213039%2C%20-80.421768%5D%2C%20%5B34.278702%2C%20-118.470192%5D%2C%20%5B32.846855%2C%20-117.235878%5D%2C%20%5B34.98291%2C%20-118.94408%5D%2C%20%5B35.772162%2C%20-78.58484%5D%2C%20%5B36.23494%2C%20-95.993523%5D%2C%20%5B39.977184%2C%20-83.150459%5D%2C%20%5B35.40625%2C%20-97.53241700000001%5D%2C%20%5B35.25898%2C%20-81.045967%5D%2C%20%5B30.179314%2C%20-81.740563%5D%2C%20%5B30.434471000000002%2C%20-97.770889%5D%2C%20%5B30.455040000000004%2C%20-97.82619%5D%2C%20%5B32.99754%2C%20-96.8293%5D%2C%20%5B40.054565000000004%2C%20-74.167778%5D%2C%20%5B43.156956%2C%20-77.642921%5D%2C%20%5B47.571465%2C%20-122.36174799999999%5D%2C%20%5B34.003994%2C%20-117.83017%5D%2C%20%5B32.980888%2C%20-86.689697%5D%2C%20%5B33.296607%2C%20-117.46173600000002%5D%2C%20%5B37.808788%2C%20-122.36655400000001%5D%2C%20%5B32.759890000000006%2C%20-97.245244%5D%2C%20%5B37.237133%2C%20-81.099594%5D%2C%20%5B37.560558%2C%20-122.041054%5D%2C%20%5B35.733959999999996%2C%20-78.84009%5D%2C%20%5B47.940822999999995%2C%20-122.197502%5D%2C%20%5B37.972111%2C%20-84.472778%5D%2C%20%5B39.442108000000005%2C%20-76.348763%5D%2C%20%5B25.6425%2C%20-80.385689%5D%2C%20%5B32.759538%2C%20-117.18269099999999%5D%2C%20%5B32.133801%2C%20-111.00961299999999%5D%2C%20%5B31.783482%2C%20-106.407372%5D%2C%20%5B29.336502000000003%2C%20-98.564217%5D%2C%20%5B36.151866999999996%2C%20-95.860641%5D%2C%20%5B37.409119%2C%20-121.87024699999999%5D%2C%20%5B39.11743%2C%20-77.19464%5D%2C%20%5B38.560844%2C%20-121.76767%5D%2C%20%5B25.89917%2C%20-80.210114%5D%2C%20%5B42.646221000000004%2C%20-71.29205300000001%5D%2C%20%5B29.607794000000002%2C%20-95.355469%5D%2C%20%5B35.190205%2C%20-80.918877%5D%2C%20%5B34.071758%2C%20-118.099594%5D%2C%20%5B41.301048%2C%20-72.91423%5D%2C%20%5B28.613733%2C%20-81.47618100000001%5D%2C%20%5B33.187218%2C%20-80.609337%5D%2C%20%5B35.221140000000005%2C%20-89.97556%5D%2C%20%5B39.056324%2C%20-77.15448%5D%2C%20%5B38.902512%2C%20-76.996147%5D%2C%20%5B43.098873%2C%20-83.694176%5D%2C%20%5B37.605614%2C%20-121.87266499999998%5D%2C%20%5B39.93083%2C%20-86.27763900000001%5D%2C%20%5B32.754757%2C%20-117.235573%5D%2C%20%5B33.968163%2C%20-118.16787%5D%2C%20%5B34.029076%2C%20-118.22858400000001%5D%2C%20%5B32.734455%2C%20-96.824585%5D%2C%20%5B32.327099%2C%20-86.252228%5D%2C%20%5B25.9254%2C%20-80.176048%5D%2C%20%5B38.837128%2C%20-77.447281%5D%2C%20%5B32.837544%2C%20-83.648604%5D%2C%20%5B37.321922%2C%20-121.898743%5D%2C%20%5B45.54029%2C%20-122.47728000000001%5D%2C%20%5B34.94361%2C%20-82.25431999999999%5D%2C%20%5B34.831409%2C%20-82.299263%5D%2C%20%5B35.027%2C%20-81.96572900000001%5D%2C%20%5B26.609005%2C%20-80.068565%5D%2C%20%5B30.478082%2C%20-84.02260799999999%5D%2C%20%5B35.22187%2C%20-80.821663%5D%2C%20%5B32.729065000000006%2C%20-117.10616200000001%5D%2C%20%5B35.189152%2C%20-80.88247700000001%5D%2C%20%5B25.955455999999998%2C%20-80.245979%5D%2C%20%5B39.983159%2C%20-75.8233%5D%2C%20%5B36.200367%2C%20-86.618561%5D%2C%20%5B33.491240999999995%2C%20-112.13002%5D%2C%20%5B38.955459999999995%2C%20-104.80325%5D%2C%20%5B37.40984%2C%20-122.07799999999999%5D%2C%20%5B30.448890999999996%2C%20-89.099198%5D%2C%20%5B41.541817%2C%20-72.992188%5D%2C%20%5B38.851428000000006%2C%20-77.22024499999999%5D%2C%20%5B30.321309999999997%2C%20-97.68605%5D%2C%20%5B35.0878%2C%20-80.84525%5D%2C%20%5B37.651657%2C%20-122.098671%5D%2C%20%5B29.902555%2C%20-95.31147800000001%5D%2C%20%5B47.485797999999996%2C%20-122.27555100000001%5D%2C%20%5B40.760139%2C%20-74.971703%5D%2C%20%5B28.234371000000003%2C%20-80.71979499999999%5D%2C%20%5B39.591885%2C%20-76.67321%5D%2C%20%5B38.222775%2C%20-85.505814%5D%2C%20%5B41.649471000000005%2C%20-93.772133%5D%2C%20%5B33.705249%2C%20-117.95441799999999%5D%2C%20%5B30.303603999999996%2C%20-97.71599599999999%5D%2C%20%5B41.807888%2C%20-88.075928%5D%2C%20%5B34.148990999999995%2C%20-118.05021699999999%5D%2C%20%5B29.89269%2C%20-97.91285400000001%5D%2C%20%5B26.679090000000002%2C%20-81.79848%5D%2C%20%5B41.867424%2C%20-87.627441%5D%2C%20%5B35.44765%2C%20-80.60349000000001%5D%2C%20%5B39.014782000000004%2C%20-94.693184%5D%2C%20%5B29.516769%2C%20-98.464363%5D%2C%20%5B36.770706%2C%20-121.765437%5D%2C%20%5B32.455033%2C%20-93.746038%5D%2C%20%5B30.400267%2C%20-97.74251600000001%5D%2C%20%5B36.095306%2C%20-95.850998%5D%2C%20%5B33.098614000000005%2C%20-117.307594%5D%2C%20%5B39.1381%2C%20-76.75239%5D%2C%20%5B32.944307%2C%20-117.108276%5D%2C%20%5B29.727546999999998%2C%20-95.47641%5D%2C%20%5B45.068661%2C%20-93.263481%5D%2C%20%5B30.265871%2C%20-97.782646%5D%2C%20%5B34.065228000000005%2C%20-117.806824%5D%2C%20%5B38.755657%2C%20-90.458588%5D%2C%20%5B40.083055%2C%20-75.282476%5D%2C%20%5B47.590302%2C%20-122.334221%5D%2C%20%5B38.0578%2C%20-121.259628%5D%2C%20%5B34.067384000000004%2C%20-117.567625%5D%2C%20%5B41.084412%2C%20-81.538368%5D%2C%20%5B41.934055%2C%20-71.319344%5D%2C%20%5B40.06049%2C%20-76.33557900000001%5D%2C%20%5B39.359455%2C%20-77.16626%5D%2C%20%5B42.493009%2C%20-83.289839%5D%2C%20%5B40.256458%2C%20-75.268364%5D%2C%20%5B32.356324%2C%20-93.751654%5D%2C%20%5B30.418356%2C%20-91.11335%5D%2C%20%5B29.819086%2C%20-95.377723%5D%2C%20%5B40.687019%2C%20-78.41145300000001%5D%2C%20%5B32.239736%2C%20-110.860184%5D%2C%20%5B38.572907%2C%20-121.517481%5D%2C%20%5B35.60918%2C%20-97.656311%5D%2C%20%5B37.020762%2C%20-119.697028%5D%2C%20%5B32.71711%2C%20-117.11831000000001%5D%2C%20%5B33.928940000000004%2C%20-118.280708%5D%2C%20%5B32.71184%2C%20-117.10091000000001%5D%2C%20%5B38.55934%2C%20-121.513971%5D%2C%20%5B40.254288%2C%20-76.864594%5D%2C%20%5B40.81193%2C%20-74.4466%5D%2C%20%5B42.59836%2C%20-85.6618%5D%2C%20%5B43.09774%2C%20-83.763008%5D%2C%20%5B41.670334000000004%2C%20-93.577904%5D%2C%20%5B37.646771%2C%20-77.58325500000001%5D%2C%20%5B26.047853%2C%20-80.162415%5D%2C%20%5B25.92444%2C%20-80.30784799999999%5D%2C%20%5B33.87361%2C%20-118.24316%5D%2C%20%5B41.308071000000005%2C%20-96.004639%5D%2C%20%5B37.068875%2C%20-121.212271%5D%2C%20%5B38.338093%2C%20-122.77399399999999%5D%2C%20%5B37.98922%2C%20-122.31264499999999%5D%2C%20%5B33.790863%2C%20-84.39225%5D%2C%20%5B42.989723%2C%20-83.738518%5D%2C%20%5B33.928495%2C%20-118.28190900000001%5D%2C%20%5B35.354585%2C%20-120.78455100000001%5D%2C%20%5B34.101513%2C%20-80.826385%5D%2C%20%5B33.979420000000005%2C%20-117.33935%5D%2C%20%5B41.787346%2C%20-87.907844%5D%2C%20%5B40.842940999999996%2C%20-72.790062%5D%2C%20%5B33.16772%2C%20-96.64173000000001%5D%2C%20%5B44.591068%2C%20-88.068977%5D%2C%20%5B32.893574%2C%20-96.75338%5D%2C%20%5B40.595622999999996%2C%20-74.777855%5D%2C%20%5B35.163101%2C%20-80.889854%5D%2C%20%5B45.035969%2C%20-92.84671%5D%2C%20%5B34.066071%2C%20-117.48463400000001%5D%2C%20%5B42.998764%2C%20-85.59027900000001%5D%2C%20%5B43.1656%2C%20-83.716179%5D%2C%20%5B33.28849%2C%20-111.8817%5D%2C%20%5B45.087361%2C%20-123.404106%5D%2C%20%5B41.473%2C%20-81.632767%5D%2C%20%5B34.886639%2C%20-82.358017%5D%2C%20%5B29.704826%2C%20-95.55145999999999%5D%2C%20%5B35.152217%2C%20-80.893602%5D%2C%20%5B28.101259000000002%2C%20-81.905579%5D%2C%20%5B40.604389000000005%2C%20-103.60054000000001%5D%2C%20%5B40.210007%2C%20-76.725594%5D%2C%20%5B37.64271%2C%20-121.88707%5D%2C%20%5B42.906502%2C%20-74.56280500000001%5D%2C%20%5B39.404568%2C%20-75.037716%5D%2C%20%5B30.209604%2C%20-97.755341%5D%2C%20%5B34.088359999999994%2C%20-112.144577%5D%2C%20%5B42.09252%2C%20-76.03814%5D%2C%20%5B35.26655%2C%20-80.84407%5D%2C%20%5B34.219448%2C%20-119.221199%5D%2C%20%5B28.231859000000004%2C%20-82.296974%5D%2C%20%5B45.3062%2C%20-121.86065%5D%2C%20%5B40.85333%2C%20-73.96133%5D%2C%20%5B46.67934%2C%20-92.787537%5D%2C%20%5B31.78735%2C%20-106.370911%5D%2C%20%5B30.380489%2C%20-91.099777%5D%2C%20%5B30.376385%2C%20-91.068848%5D%2C%20%5B40.71032%2C%20-73.96104%5D%2C%20%5B40.005787%2C%20-75.582321%5D%2C%20%5B38.553604%2C%20-121.690643%5D%2C%20%5B44.865452000000005%2C%20-93.29895%5D%2C%20%5B33.915063%2C%20-84.401425%5D%2C%20%5B33.93934%2C%20-117.186949%5D%2C%20%5B34.890316%2C%20-82.40570799999999%5D%2C%20%5B30.433352000000003%2C%20-91.11086999999999%5D%2C%20%5B41.568409%2C%20-73.936302%5D%2C%20%5B29.74216%2C%20-95.35743000000001%5D%2C%20%5B37.56629%2C%20-122.04126000000001%5D%2C%20%5B43.905002%2C%20-116.81295800000001%5D%2C%20%5B37.866440000000004%2C%20-122.03878%5D%2C%20%5B36.278626%2C%20-86.734142%5D%2C%20%5B30.368856%2C%20-97.614388%5D%2C%20%5B33.882678999999996%2C%20-117.64364599999999%5D%2C%20%5B41.799236%2C%20-86.70813000000001%5D%2C%20%5B35.38731%2C%20-97.495148%5D%2C%20%5B41.195%2C%20-73.686195%5D%2C%20%5B28.232290000000003%2C%20-81.64964300000001%5D%2C%20%5B36.170288%2C%20-86.600983%5D%2C%20%5B35.507668%2C%20-97.476677%5D%2C%20%5B36.706520000000005%2C%20-119.8624%5D%2C%20%5B39.194382%2C%20-77.55017099999999%5D%2C%20%5B31.825888%2C%20-106.438744%5D%2C%20%5B33.785709000000004%2C%20-84.38781%5D%2C%20%5B33.40863%2C%20-84.68634%5D%2C%20%5B36.765482%2C%20-121.75051299999998%5D%2C%20%5B40.002876%2C%20-75.289856%5D%2C%20%5B45.195105%2C%20-123.189251%5D%2C%20%5B40.542328999999995%2C%20-74.298487%5D%2C%20%5B41.87075%2C%20-87.87661999999999%5D%2C%20%5B40.12528%2C%20-76.21425%5D%2C%20%5B33.678352000000004%2C%20-117.846558%5D%2C%20%5B33.702827%2C%20-84.18521899999999%5D%2C%20%5B34.122634999999995%2C%20-118.478424%5D%2C%20%5B43.871809999999996%2C%20-91.21489%5D%2C%20%5B47.481331%2C%20-122.198929%5D%2C%20%5B35.07383%2C%20-89.985664%5D%2C%20%5B32.738215999999994%2C%20-97.46725500000001%5D%2C%20%5B37.355142%2C%20-122.113546%5D%2C%20%5B34.0243%2C%20-117.74054%5D%2C%20%5B34.346405%2C%20-119.421826%5D%2C%20%5B40.472023%2C%20-74.29689%5D%2C%20%5B42.695904%2C%20-73.84127%5D%2C%20%5B44.294621%2C%20-93.281227%5D%2C%20%5B42.11873%2C%20-73.71413000000001%5D%2C%20%5B38.559048%2C%20-121.472664%5D%2C%20%5B34.192703%2C%20-118.32871599999999%5D%2C%20%5B38.53918%2C%20-121.73651000000001%5D%2C%20%5B36.850933000000005%2C%20-76.32965899999999%5D%2C%20%5B35.847691%2C%20-78.694885%5D%2C%20%5B35.736874%2C%20-83.02499399999999%5D%2C%20%5B32.888775%2C%20-86.624481%5D%2C%20%5B41.680671999999994%2C%20-72.653412%5D%2C%20%5B32.745422%2C%20-117.18856799999999%5D%2C%20%5B27.267508000000003%2C%20-80.424141%5D%2C%20%5B45.453901%2C%20-122.71670800000001%5D%2C%20%5B29.808233%2C%20-95.336021%5D%2C%20%5B42.347923%2C%20-71.069466%5D%2C%20%5B39.03014%2C%20-77.12297%5D%2C%20%5B43.07432%2C%20-86.2186%5D%2C%20%5B30.396719%2C%20-91.087875%5D%2C%20%5B33.813454%2C%20-79.01728100000001%5D%2C%20%5B33.949665%2C%20-118.09189599999999%5D%2C%20%5B36.522456%2C%20-82.69590699999999%5D%2C%20%5B32.83186%2C%20-97.31269%5D%2C%20%5B30.200020000000002%2C%20-97.80744200000001%5D%2C%20%5B32.552258%2C%20-97.318634%5D%2C%20%5B42.080681%2C%20-88.335991%5D%2C%20%5B32.400856%2C%20-82.307579%5D%2C%20%5B35.15443%2C%20-80.79496800000001%5D%2C%20%5B33.810186%2C%20-118.290254%5D%2C%20%5B37.66185%2C%20-77.61278%5D%2C%20%5B44.803340000000006%2C%20-117.804353%5D%2C%20%5B40.665871%2C%20-73.841362%5D%2C%20%5B33.94084%2C%20-117.26448799999999%5D%2C%20%5B40.855576%2C%20-73.832954%5D%2C%20%5B30.472012%2C%20-97.80207800000001%5D%2C%20%5B36.17458%2C%20-86.7709%5D%2C%20%5B34.486351%2C%20-82.120308%5D%2C%20%5B34.613468%2C%20-86.972725%5D%2C%20%5B33.891742%2C%20-117.50618899999999%5D%2C%20%5B41.63655%2C%20-83.49812%5D%2C%20%5B47.190529%2C%20-122.492897%5D%2C%20%5B33.831932%2C%20-117.5299%5D%2C%20%5B36.06102%2C%20-95.993721%5D%2C%20%5B39.188095000000004%2C%20-104.850433%5D%2C%20%5B47.26532%2C%20-122.3224%5D%2C%20%5B33.715084000000004%2C%20-84.368561%5D%2C%20%5B41.581026%2C%20-72.02640600000001%5D%2C%20%5B38.188919%2C%20-85.783562%5D%2C%20%5B42.059604%2C%20-84.126947%5D%2C%20%5B27.869044%2C%20-82.786922%5D%2C%20%5B34.027599%2C%20-118.036247%5D%2C%20%5B34.004311%2C%20-81.110344%5D%2C%20%5B34.334705%2C%20-119.086082%5D%2C%20%5B37.640194%2C%20-122.090424%5D%2C%20%5B32.836788%2C%20-97.14134200000001%5D%2C%20%5B32.614017%2C%20-97.321556%5D%2C%20%5B36.634257%2C%20-119.785903%5D%2C%20%5B45.514075%2C%20-120.68351799999999%5D%2C%20%5B40.427719%2C%20-74.22779799999999%5D%2C%20%5B33.741495%2C%20-84.406897%5D%2C%20%5B40.699622999999995%2C%20-111.902473%5D%2C%20%5B30.400267%2C%20-97.74251600000001%5D%2C%20%5B27.939384000000004%2C%20-82.32384499999999%5D%2C%20%5B33.544872%2C%20-83.844444%5D%2C%20%5B30.480803%2C%20-97.553551%5D%2C%20%5B35.250865999999995%2C%20-81.506771%5D%2C%20%5B38.150757%2C%20-122.449348%5D%2C%20%5B38.792858%2C%20-121.774353%5D%2C%20%5B29.857758%2C%20-95.42836%5D%2C%20%5B32.72611%2C%20-97.3206%5D%2C%20%5B43.095764%2C%20-77.732872%5D%2C%20%5B40.032790999999996%2C%20-75.079063%5D%2C%20%5B33.648272999999996%2C%20-117.74718500000002%5D%2C%20%5B33.458240999999994%2C%20-80.730179%5D%2C%20%5B29.497168%2C%20-82.295059%5D%2C%20%5B30.336716%2C%20-97.60251600000001%5D%2C%20%5B40.43568%2C%20-80.05046800000001%5D%2C%20%5B28.495264000000002%2C%20-81.314392%5D%2C%20%5B43.04322%2C%20-89.36914%5D%2C%20%5B37.792623%2C%20-121.189947%5D%2C%20%5B34.21278%2C%20-82.113571%5D%2C%20%5B30.49015%2C%20-84.426247%5D%2C%20%5B33.002247%2C%20-80.66909799999999%5D%2C%20%5B40.802997999999995%2C%20-73.93032099999999%5D%2C%20%5B34.194153%2C%20-83.473564%5D%2C%20%5B37.979946000000005%2C%20-122.317108%5D%2C%20%5B33.99771%2C%20-118.0683%5D%2C%20%5B41.87385%2C%20-87.80816999999999%5D%2C%20%5B47.46282%2C%20-122.26945%5D%2C%20%5B40.709877%2C%20-74.160583%5D%2C%20%5B34.440071%2C%20-81.761948%5D%2C%20%5B39.063512%2C%20-77.298361%5D%2C%20%5B39.81794%2C%20-104.982651%5D%2C%20%5B34.83548%2C%20-80.98650400000001%5D%2C%20%5B30.399069%2C%20-97.67304200000001%5D%2C%20%5B25.625107%2C%20-80.37428299999999%5D%2C%20%5B28.874359000000002%2C%20-81.704758%5D%2C%20%5B36.108379%2C%20-95.886551%5D%2C%20%5B36.129055%2C%20-86.727272%5D%2C%20%5B32.338669%2C%20-86.179291%5D%2C%20%5B32.192139000000005%2C%20-110.857933%5D%2C%20%5B29.84692%2C%20-95.417969%5D%2C%20%5B37.690239%2C%20-122.097824%5D%2C%20%5B37.498814%2C%20-77.470238%5D%2C%20%5B32.84662%2C%20-96.63736%5D%2C%20%5B33.709365999999996%2C%20-112.235947%5D%2C%20%5B38.670605%2C%20-77.252861%5D%2C%20%5B32.83948%2C%20-97.32086%5D%2C%20%5B40.587826%2C%20-112.02853400000001%5D%2C%20%5B43.14642%2C%20-77.55477900000001%5D%2C%20%5B32.808704%2C%20-97.315599%5D%2C%20%5B35.876015%2C%20-78.540604%5D%2C%20%5B41.8465%2C%20-87.963287%5D%2C%20%5B45.510269%2C%20-92.993301%5D%2C%20%5B26.098553%2C%20-80.250793%5D%2C%20%5B42.753029%2C%20-73.76899%5D%2C%20%5B43.430424%2C%20-95.230168%5D%2C%20%5B34.121037%2C%20-117.82875800000001%5D%2C%20%5B41.051102%2C%20-73.815399%5D%2C%20%5B41.025341%2C%20-76.424423%5D%2C%20%5B41.295921%2C%20-95.946968%5D%2C%20%5B34.26667%2C%20-118.850822%5D%2C%20%5B33.53099%2C%20-111.97559%5D%2C%20%5B33.77711%2C%20-117.89938000000001%5D%2C%20%5B35.83712%2C%20-78.61326600000001%5D%2C%20%5B30.368810999999997%2C%20-97.680977%5D%2C%20%5B37.330639%2C%20-79.251007%5D%2C%20%5B37.64691%2C%20-77.58298%5D%2C%20%5B32.71983%2C%20-117.11757%5D%2C%20%5B34.19632%2C%20-79.655403%5D%2C%20%5B34.152367%2C%20-83.64613299999999%5D%2C%20%5B37.775101%2C%20-122.233337%5D%2C%20%5B41.226265000000005%2C%20-95.952477%5D%2C%20%5B33.820305%2C%20-116.40958400000001%5D%2C%20%5B33.873508%2C%20-79.104858%5D%2C%20%5B39.561863%2C%20-76.24492099999999%5D%2C%20%5B34.847244%2C%20-82.148026%5D%2C%20%5B34.956718%2C%20-82.009865%5D%2C%20%5B32.801914000000004%2C%20-96.827904%5D%2C%20%5B36.046486%2C%20-96.00705699999999%5D%2C%20%5B45.127884%2C%20-93.48603100000001%5D%2C%20%5B37.126903999999996%2C%20-120.25253300000001%5D%2C%20%5B26.090329999999998%2C%20-80.21549%5D%2C%20%5B36.170055%2C%20-86.596802%5D%2C%20%5B37.401337%2C%20-77.424767%5D%2C%20%5B40.745899%2C%20-111.72691200000001%5D%2C%20%5B33.78461%2C%20-118.20772%5D%2C%20%5B33.830669%2C%20-78.736237%5D%2C%20%5B28.630995000000002%2C%20-81.387535%5D%2C%20%5B34.07188%2C%20-117.890297%5D%2C%20%5B40.135323%2C%20-74.71545400000001%5D%2C%20%5B38.048653%2C%20-84.498207%5D%2C%20%5B34.061510999999996%2C%20-118.17108999999999%5D%2C%20%5B35.033588%2C%20-82.058662%5D%2C%20%5B34.056084000000006%2C%20-118.255875%5D%2C%20%5B34.926497999999995%2C%20-120.41774%5D%2C%20%5B32.1031%2C%20-111.24729199999999%5D%2C%20%5B32.410126%2C%20-80.75284599999999%5D%2C%20%5B30.190558000000003%2C%20-81.681119%5D%2C%20%5B39.917427%2C%20-77.641593%5D%2C%20%5B37.172829%2C%20-121.99218%5D%2C%20%5B39.096382%2C%20-94.58618%5D%2C%20%5B45.45132%2C%20-122.57208999999999%5D%2C%20%5B41.90815%2C%20-87.66243%5D%2C%20%5B30.184839%2C%20-97.817009%5D%2C%20%5B35.850788%2C%20-78.571457%5D%2C%20%5B38.562969%2C%20-75.271088%5D%2C%20%5B39.329190000000004%2C%20-76.4848%5D%2C%20%5B25.628961%2C%20-80.33958299999999%5D%2C%20%5B33.719742%2C%20-117.795341%5D%2C%20%5B33.880966%2C%20-117.5998%5D%2C%20%5B41.79673%2C%20-87.8075%5D%2C%20%5B33.858219%2C%20-118.09633600000001%5D%2C%20%5B36.128925%2C%20-86.906509%5D%2C%20%5B43.721615%2C%20-123.20859499999999%5D%2C%20%5B33.941134999999996%2C%20-117.233147%5D%2C%20%5B39.780182%2C%20-75.67977900000001%5D%2C%20%5B33.552765%2C%20-117.670868%5D%2C%20%5B34.276756%2C%20-118.453049%5D%2C%20%5B32.946289%2C%20-80.615311%5D%2C%20%5B33.589012%2C%20-112.19467900000001%5D%2C%20%5B38.674890000000005%2C%20-90.20581999999999%5D%2C%20%5B34.733864000000004%2C%20-86.597527%5D%2C%20%5B32.72295%2C%20-117.159332%5D%2C%20%5B47.586155%2C%20-122.325981%5D%2C%20%5B36.091965%2C%20-121.019221%5D%2C%20%5B41.754329999999996%2C%20-71.437218%5D%2C%20%5B37.66964%2C%20-122.46621699999999%5D%2C%20%5B40.03918%2C%20-76.42858000000001%5D%2C%20%5B42.056396%2C%20-88.020126%5D%2C%20%5B36.28905%2C%20-115.0799%5D%2C%20%5B32.366127%2C%20-86.271301%5D%2C%20%5B41.138199%2C%20-77.229088%5D%2C%20%5B34.072632%2C%20-118.058411%5D%2C%20%5B34.929131%2C%20-86.988762%5D%2C%20%5B32.908051%2C%20-96.450912%5D%2C%20%5B44.196213%2C%20-123.126732%5D%2C%20%5B34.095539%2C%20-118.244049%5D%2C%20%5B26.121607%2C%20-80.168968%5D%2C%20%5B39.50404%2C%20-86.952232%5D%2C%20%5B33.38572%2C%20-111.8634%5D%2C%20%5B42.386665%2C%20-88.17731500000001%5D%2C%20%5B26.68465%2C%20-81.795464%5D%2C%20%5B40.824345%2C%20-73.872528%5D%2C%20%5B30.1602%2C%20-97.776802%5D%2C%20%5B29.860306%2C%20-95.53380600000001%5D%2C%20%5B33.656612%2C%20-84.497553%5D%2C%20%5B29.790287%2C%20-95.70611600000001%5D%2C%20%5B39.580591999999996%2C%20-104.874559%5D%2C%20%5B48.628962%2C%20-118.074529%5D%2C%20%5B30.465248%2C%20-84.345248%5D%2C%20%5B44.27057%2C%20-121.17851399999999%5D%2C%20%5B25.98085%2C%20-80.165627%5D%2C%20%5B25.964184%2C%20-80.165863%5D%2C%20%5B37.695640999999995%2C%20-122.08681499999999%5D%2C%20%5B45.733754%2C%20-119.06001299999998%5D%2C%20%5B37.814816%2C%20-120.895523%5D%2C%20%5B33.907063%2C%20-80.14676700000001%5D%2C%20%5B36.781963%2C%20-119.57415800000001%5D%2C%20%5B39.778245%2C%20-84.165002%5D%2C%20%5B39.163631%2C%20-121.43359%5D%2C%20%5B33.93781%2C%20-118.0985%5D%2C%20%5B41.96015%2C%20-87.74245%5D%2C%20%5B40.828340000000004%2C%20-73.40953%5D%2C%20%5B26.527969%2C%20-81.861359%5D%2C%20%5B44.070378999999996%2C%20-121.305871%5D%2C%20%5B41.829418%2C%20-88.077499%5D%2C%20%5B34.096599%2C%20-118.20478100000001%5D%2C%20%5B44.969879%2C%20-93.308052%5D%2C%20%5B39.240648%2C%20-76.60509%5D%2C%20%5B40.256126%2C%20-76.85959799999999%5D%2C%20%5B30.517118%2C%20-87.208366%5D%2C%20%5B39.853691%2C%20-84.273399%5D%2C%20%5B35.310117%2C%20-80.83881%5D%2C%20%5B35.464306%2C%20-97.624466%5D%2C%20%5B34.022411%2C%20-118.19836200000002%5D%2C%20%5B35.798538%2C%20-78.562813%5D%2C%20%5B25.804349%2C%20-80.3213%5D%2C%20%5B29.863483000000002%2C%20-95.446426%5D%2C%20%5B39.915943%2C%20-105.09369699999999%5D%2C%20%5B43.675003000000004%2C%20-121.49994299999999%5D%2C%20%5B29.642412%2C%20-95.482239%5D%2C%20%5B40.70173%2C%20-73.99109%5D%2C%20%5B34.077189000000004%2C%20-118.28133799999999%5D%2C%20%5B34.731654999999996%2C%20-80.73181899999999%5D%2C%20%5B37.360855%2C%20-121.90473899999999%5D%2C%20%5B37.370071%2C%20-121.827499%5D%2C%20%5B30.458959999999998%2C%20-91.166267%5D%2C%20%5B42.178917%2C%20-70.915993%5D%2C%20%5B34.365696%2C%20-118.503082%5D%2C%20%5B34.03842%2C%20-81.0978%5D%2C%20%5B41.466331%2C%20-81.692909%5D%2C%20%5B43.146591%2C%20-77.636053%5D%2C%20%5B35.08502%2C%20-80.87356%5D%2C%20%5B40.716114000000005%2C%20-73.82592%5D%2C%20%5B44.629740000000005%2C%20-123.03255%5D%2C%20%5B29.703489%2C%20-95.604462%5D%2C%20%5B33.62632%2C%20-112.01988200000001%5D%2C%20%5B43.947299%2C%20-91.64282%5D%2C%20%5B32.749752%2C%20-96.9188%5D%2C%20%5B42.242264%2C%20-83.327866%5D%2C%20%5B33.628709%2C%20-81.35628%5D%2C%20%5B34.007020000000004%2C%20-117.82628999999999%5D%2C%20%5B28.48275%2C%20-81.44471999999999%5D%2C%20%5B33.960152%2C%20-118.254028%5D%2C%20%5B38.55873%2C%20-121.4704%5D%2C%20%5B33.626163%2C%20-117.718849%5D%2C%20%5B39.186989000000004%2C%20-120.194992%5D%2C%20%5B32.913272%2C%20-96.872637%5D%2C%20%5B48.033798%2C%20-122.18178600000002%5D%2C%20%5B41.766242%2C%20-87.62553%5D%2C%20%5B38.936577%2C%20-94.608994%5D%2C%20%5B34.066853%2C%20-117.803261%5D%2C%20%5B34.106794%2C%20-117.89024599999999%5D%2C%20%5B26.368311%2C%20-80.170753%5D%2C%20%5B34.252221999999996%2C%20-119.21083300000001%5D%2C%20%5B38.296089%2C%20-77.505157%5D%2C%20%5B37.727306%2C%20-122.402786%5D%2C%20%5B35.182922%2C%20-89.91272%5D%2C%20%5B33.933468%2C%20-84.35773499999999%5D%2C%20%5B47.985649%2C%20-122.18943%5D%2C%20%5B41.769447%2C%20-72.666878%5D%2C%20%5B46.873783%2C%20-96.761169%5D%2C%20%5B44.298823999999996%2C%20-88.42173000000001%5D%2C%20%5B40.316006%2C%20-75.32624100000001%5D%2C%20%5B30.400715%2C%20-97.748886%5D%2C%20%5B37.419447999999996%2C%20-121.955906%5D%2C%20%5B37.979071999999995%2C%20-79.18418%5D%2C%20%5B28.552111%2C%20-81.463539%5D%2C%20%5B33.760042%2C%20-117.85985500000001%5D%2C%20%5B40.217995%2C%20-76.085693%5D%2C%20%5B39.21074%2C%20-76.68191999999999%5D%2C%20%5B36.728892%2C%20-121.27892299999999%5D%2C%20%5B42.274342%2C%20-71.424812%5D%2C%20%5B32.643158%2C%20-97.234138%5D%2C%20%5B42.33873%2C%20-88.00457%5D%2C%20%5B42.037254%2C%20-88.281029%5D%2C%20%5B32.133990999999995%2C%20-110.977791%5D%2C%20%5B33.80271%2C%20-84.38578199999999%5D%2C%20%5B26.64286%2C%20-81.64658399999999%5D%2C%20%5B41.283787%2C%20-72.95063%5D%2C%20%5B35.00492%2C%20-85.21761%5D%2C%20%5B45.20098%2C%20-118.51512%5D%2C%20%5B26.52103%2C%20-81.936348%5D%2C%20%5B35.612617%2C%20-97.478172%5D%2C%20%5B34.151604%2C%20-118.150398%5D%2C%20%5B30.246637%2C%20-97.735123%5D%2C%20%5B40.60448%2C%20-74.050983%5D%2C%20%5B40.95713%2C%20-91.514397%5D%2C%20%5B33.815284999999996%2C%20-84.421265%5D%2C%20%5B39.21119%2C%20-84.44275%5D%2C%20%5B37.679619%2C%20-122.112633%5D%2C%20%5B47.59333%2C%20-122.297852%5D%2C%20%5B34.120117%2C%20-117.83717299999999%5D%2C%20%5B41.043246999999994%2C%20-73.83584599999999%5D%2C%20%5B34.150383000000005%2C%20-118.280754%5D%2C%20%5B25.708695000000002%2C%20-80.446977%5D%2C%20%5B35.335297%2C%20-80.825089%5D%2C%20%5B33.907757000000004%2C%20-81.163986%5D%2C%20%5B33.668087%2C%20-112.186646%5D%2C%20%5B28.66436%2C%20-81.38871999999999%5D%2C%20%5B30.45402%2C%20-88.84646%5D%2C%20%5B33.433212%2C%20-112.592201%5D%2C%20%5B33.168301%2C%20-87.519447%5D%2C%20%5B37.84687%2C%20-122.298286%5D%2C%20%5B41.800594%2C%20-71.403076%5D%2C%20%5B41.797337%2C%20-87.95472%5D%2C%20%5B35.887474%2C%20-78.72931700000001%5D%2C%20%5B33.917155%2C%20-118.029374%5D%2C%20%5B39.98685%2C%20-78.26080999999999%5D%2C%20%5B43.50293%2C%20-123.32068000000001%5D%2C%20%5B33.704975%2C%20-80.244324%5D%2C%20%5B40.725552%2C%20-111.90716599999999%5D%2C%20%5B40.7014%2C%20-73.98862%5D%2C%20%5B42.364552%2C%20-83.131126%5D%2C%20%5B31.366668%2C%20-85.56405%5D%2C%20%5B33.924904%2C%20-118.10421799999999%5D%2C%20%5B32.666855%2C%20-97.320724%5D%2C%20%5B37.942436%2C%20-122.31771100000002%5D%2C%20%5B43.014927%2C%20-83.682671%5D%2C%20%5B30.473732000000002%2C%20-97.64161700000001%5D%2C%20%5B42.11255%2C%20-87.87012%5D%2C%20%5B30.253071000000002%2C%20-81.516144%5D%2C%20%5B37.310287%2C%20-120.51228300000001%5D%2C%20%5B41.25804%2C%20-112.02293999999999%5D%2C%20%5B40.131221999999994%2C%20-74.96734599999999%5D%2C%20%5B35.84953%2C%20-78.58643000000001%5D%2C%20%5B33.742046%2C%20-117.837326%5D%2C%20%5B38.289445%2C%20-85.64850200000001%5D%2C%20%5B33.480366%2C%20-79.0989%5D%2C%20%5B37.732009999999995%2C%20-122.18885%5D%2C%20%5B33.928259999999995%2C%20-118.254122%5D%2C%20%5B34.640984%2C%20-117.220221%5D%2C%20%5B33.988152%2C%20-117.901215%5D%2C%20%5B35.517712%2C%20-82.968758%5D%2C%20%5B40.952329999999996%2C%20-74.13942%5D%2C%20%5B33.962067%2C%20-84.07390600000001%5D%2C%20%5B34.059689%2C%20-80.95111800000001%5D%2C%20%5B39.938202000000004%2C%20-76.69046%5D%2C%20%5B35.561%2C%20-82.50133000000001%5D%2C%20%5B40.584137%2C%20-73.986641%5D%2C%20%5B47.198370000000004%2C%20-122.28145%5D%2C%20%5B33.87334%2C%20-118.20711999999999%5D%2C%20%5B35.214901%2C%20-80.838516%5D%2C%20%5B43.32407%2C%20-73.624649%5D%2C%20%5B38.188244%2C%20-85.7845%5D%2C%20%5B39.771114000000004%2C%20-86.126434%5D%2C%20%5B42.233017%2C%20-121.595044%5D%2C%20%5B34.852661%2C%20-119.136917%5D%2C%20%5B30.347134000000004%2C%20-81.66828199999999%5D%2C%20%5B41.492919%2C%20-111.99707099999999%5D%2C%20%5B45.57669%2C%20-122.65212%5D%2C%20%5B25.964184%2C%20-80.165863%5D%2C%20%5B30.59832%2C%20-88.16334499999999%5D%2C%20%5B45.598109%2C%20-122.684542%5D%2C%20%5B37.701479%2C%20-121.901521%5D%2C%20%5B40.827942%2C%20-73.84380300000001%5D%2C%20%5B42.960636%2C%20-85.67514%5D%2C%20%5B37.319065%2C%20-121.940422%5D%2C%20%5B34.978237%2C%20-82.01215400000001%5D%2C%20%5B33.376682%2C%20-82.072136%5D%2C%20%5B32.779484000000004%2C%20-117.066025%5D%2C%20%5B41.664551%2C%20-73.812111%5D%2C%20%5B32.868637%2C%20-96.761208%5D%2C%20%5B30.390079999999998%2C%20-81.66781%5D%2C%20%5B28.832712%2C%20-81.321655%5D%2C%20%5B34.121037%2C%20-117.82875800000001%5D%2C%20%5B33.559086%2C%20-81.915482%5D%2C%20%5B30.25425%2C%20-97.76258100000001%5D%2C%20%5B36.149319%2C%20-95.967079%5D%2C%20%5B41.758247%2C%20-87.62593100000001%5D%2C%20%5B38.743942%2C%20-90.392433%5D%2C%20%5B35.187397%2C%20-89.809105%5D%2C%20%5B41.13985%2C%20-95.94034%5D%2C%20%5B34.818699%2C%20-82.443588%5D%2C%20%5B33.99345%2C%20-118.069351%5D%2C%20%5B30.290654999999997%2C%20-81.629631%5D%2C%20%5B35.29269%2C%20-80.756126%5D%2C%20%5B35.83593%2C%20-78.829193%5D%2C%20%5B36.007335999999995%2C%20-80.442329%5D%2C%20%5B41.05422%2C%20-73.52625%5D%2C%20%5B44.95182%2C%20-93.06446%5D%2C%20%5B38.924683%2C%20-121.54406000000002%5D%2C%20%5B40.12082%2C%20-75.41184%5D%2C%20%5B40.561195%2C%20-122.300453%5D%2C%20%5B40.727037%2C%20-73.888818%5D%2C%20%5B41.003085999999996%2C%20-73.69194%5D%2C%20%5B35.580132%2C%20-97.495972%5D%2C%20%5B38.616631%2C%20-90.240143%5D%2C%20%5B26.70542%2C%20-80.0521%5D%2C%20%5B34.810734000000004%2C%20-78.986618%5D%2C%20%5B44.93571%2C%20-94.74542%5D%2C%20%5B34.123411%2C%20-117.278778%5D%2C%20%5B31.774603000000003%2C%20-106.372017%5D%2C%20%5B33.875237%2C%20-117.26531999999999%5D%2C%20%5B45.505679%2C%20-122.780892%5D%2C%20%5B25.898242%2C%20-80.209796%5D%2C%20%5B37.720787%2C%20-121.655212%5D%2C%20%5B30.1737%2C%20-97.823792%5D%2C%20%5B25.796860000000002%2C%20-80.369%5D%2C%20%5B41.263138%2C%20-96.119568%5D%2C%20%5B37.471794%2C%20-122.212547%5D%2C%20%5B45.83914%2C%20-123.5154%5D%2C%20%5B40.851067%2C%20-74.02909100000001%5D%2C%20%5B37.942603999999996%2C%20-122.47771499999999%5D%2C%20%5B33.461826%2C%20-112.108902%5D%2C%20%5B33.846484999999994%2C%20-84.247078%5D%2C%20%5B29.645149%2C%20-95.368401%5D%2C%20%5B37.477337%2C%20-77.477379%5D%2C%20%5B39.129925%2C%20-94.498756%5D%2C%20%5B39.26035%2C%20-76.70279000000001%5D%2C%20%5B34.260379%2C%20-118.439099%5D%2C%20%5B33.669302%2C%20-112.099627%5D%2C%20%5B33.846317%2C%20-118.28518700000001%5D%2C%20%5B45.906828000000004%2C%20-123.715106%5D%2C%20%5B40.58215%2C%20-83.03622%5D%2C%20%5B35.2488%2C%20-80.81584000000001%5D%2C%20%5B39.17702%2C%20-94.802302%5D%2C%20%5B32.327114%2C%20-86.264763%5D%2C%20%5B40.070175%2C%20-75.312462%5D%2C%20%5B36.168419%2C%20-95.904579%5D%2C%20%5B34.117149%2C%20-118.337921%5D%2C%20%5B36.975643%2C%20-121.96484299999999%5D%2C%20%5B40.681761%2C%20-74.00245699999999%5D%2C%20%5B25.961656%2C%20-80.229226%5D%2C%20%5B38.435458000000004%2C%20-122.57811399999999%5D%2C%20%5B42.47603%2C%20-83.11779%5D%2C%20%5B38.630333%2C%20-90.36235%5D%2C%20%5B41.064278%2C%20-95.937737%5D%2C%20%5B33.100819%2C%20-111.463852%5D%2C%20%5B45.535057%2C%20-122.58329199999999%5D%2C%20%5B41.04155%2C%20-81.56513000000001%5D%2C%20%5B37.547768%2C%20-77.435707%5D%2C%20%5B35.523174%2C%20-97.54759200000001%5D%2C%20%5B35.327675%2C%20-120.82436899999999%5D%2C%20%5B34.0355%2C%20-112.82433300000001%5D%2C%20%5B25.867393%2C%20-80.208443%5D%2C%20%5B42.446388%2C%20-82.917191%5D%2C%20%5B29.70751%2C%20-95.10257%5D%2C%20%5B33.50093%2C%20-117.1512%5D%2C%20%5B35.391220000000004%2C%20-97.44117%5D%2C%20%5B41.906277%2C%20-87.93987299999999%5D%2C%20%5B43.140461%2C%20-76.10270799999999%5D%2C%20%5B25.627489999999998%2C%20-80.37989%5D%2C%20%5B33.200798%2C%20-87.525299%5D%2C%20%5B40.692531%2C%20-73.810826%5D%2C%20%5B34.277824%2C%20-118.604782%5D%2C%20%5B45.433081%2C%20-122.56642%5D%2C%20%5B33.791431%2C%20-84.39145699999999%5D%2C%20%5B39.428703000000006%2C%20-77.41959399999999%5D%2C%20%5B34.036648%2C%20-118.376686%5D%2C%20%5B33.767979%2C%20-118.103149%5D%2C%20%5B39.57648%2C%20-77.01196999999999%5D%2C%20%5B45.61306%2C%20-122.67806999999999%5D%2C%20%5B33.92523%2C%20-117.42376999999999%5D%2C%20%5B44.937171%2C%20-117.947001%5D%2C%20%5B33.415764%2C%20-84.167152%5D%2C%20%5B36.575363%2C%20-121.91288%5D%2C%20%5B47.20065%2C%20-122.46157%5D%2C%20%5B41.293335%2C%20-73.677216%5D%2C%20%5B42.24155%2C%20-71.026276%5D%2C%20%5B33.064608%2C%20-117.068707%5D%2C%20%5B39.10974%2C%20-76.78403%5D%2C%20%5B35.189445%2C%20-80.97249599999999%5D%2C%20%5B33.77362%2C%20-84.23501%5D%2C%20%5B33.935194%2C%20-118.04641699999999%5D%2C%20%5B33.913181%2C%20-118.12541200000001%5D%2C%20%5B32.746105%2C%20-97.222099%5D%2C%20%5B32.783664%2C%20-96.808465%5D%2C%20%5B45.50727%2C%20-122.67022%5D%2C%20%5B32.843681%2C%20-79.980553%5D%2C%20%5B32.461445%2C%20-93.827667%5D%2C%20%5B29.496465999999998%2C%20-98.40061999999999%5D%2C%20%5B41.101836999999996%2C%20-73.991997%5D%2C%20%5B33.441299%2C%20-82.121361%5D%2C%20%5B33.880455%2C%20-117.60533899999999%5D%2C%20%5B33.928444%2C%20-118.23904399999999%5D%2C%20%5B42.977188%2C%20-85.625153%5D%2C%20%5B42.80722%2C%20-84.511482%5D%2C%20%5B35.174427%2C%20-106.593781%5D%2C%20%5B36.077133%2C%20-87.020485%5D%2C%20%5B37.82761%2C%20-121.99748999999998%5D%2C%20%5B35.935371%2C%20-79.914479%5D%2C%20%5B26.169710000000002%2C%20-80.284554%5D%2C%20%5B45.580490000000005%2C%20-122.5439%5D%2C%20%5B35.35467%2C%20-119.30565%5D%2C%20%5B33.49135%2C%20-112.11296000000002%5D%2C%20%5B40.61848%2C%20-124.203128%5D%2C%20%5B39.194424%2C%20-84.47539499999999%5D%2C%20%5B43.182541%2C%20-77.62014%5D%2C%20%5B39.766166999999996%2C%20-84.151039%5D%2C%20%5B40.613819%2C%20-122.573273%5D%2C%20%5B33.994409999999995%2C%20-118.07066999999999%5D%2C%20%5B41.946999999999996%2C%20-71.48087%5D%2C%20%5B28.568306%2C%20-81.27784%5D%2C%20%5B29.676325%2C%20-95.377151%5D%2C%20%5B33.835403%2C%20-84.359566%5D%2C%20%5B30.281740000000003%2C%20-97.80866999999999%5D%2C%20%5B37.476959%2C%20-77.52703100000001%5D%2C%20%5B47.565117%2C%20-122.375999%5D%2C%20%5B38.621734000000004%2C%20-121.415322%5D%2C%20%5B42.370399%2C%20-71.0756%5D%2C%20%5B25.949177%2C%20-80.15276300000001%5D%2C%20%5B33.908587%2C%20-84.228984%5D%2C%20%5B33.997959%2C%20-117.9356%5D%2C%20%5B32.817253%2C%20-96.871239%5D%2C%20%5B25.566164%2C%20-80.381618%5D%2C%20%5B34.159859000000004%2C%20-117.36166399999999%5D%2C%20%5B26.318410999999998%2C%20-80.116196%5D%2C%20%5B29.703489%2C%20-95.604462%5D%2C%20%5B29.620801%2C%20-95.293124%5D%2C%20%5B35.098380999999996%2C%20-81.18438%5D%2C%20%5B35.413101%2C%20-97.53019%5D%2C%20%5B32.894493%2C%20-96.724358%5D%2C%20%5B44.057790000000004%2C%20-93.25031%5D%2C%20%5B29.953302%2C%20-95.53775%5D%2C%20%5B29.787464%2C%20-95.61749300000001%5D%2C%20%5B38.24073%2C%20-85.622681%5D%2C%20%5B34.690022%2C%20-117.72048999999998%5D%2C%20%5B28.566593%2C%20-81.204674%5D%2C%20%5B40.47529%2C%20-74.42694%5D%2C%20%5B32.632549%2C%20-80.875603%5D%2C%20%5B39.365429999999996%2C%20-76.7474%5D%2C%20%5B30.248083%2C%20-97.76434300000001%5D%2C%20%5B38.646049%2C%20-121.37860900000001%5D%2C%20%5B33.764374%2C%20-84.38444799999999%5D%2C%20%5B29.733576%2C%20-95.36820999999999%5D%2C%20%5B37.647953%2C%20-77.594154%5D%2C%20%5B45.03321%2C%20-92.98485%5D%2C%20%5B42.7537%2C%20-73.9332%5D%2C%20%5B39.341728%2C%20-123.31555900000001%5D%2C%20%5B37.145508%2C%20-121.98496999999999%5D%2C%20%5B41.888591999999996%2C%20-72.306602%5D%2C%20%5B40.651759999999996%2C%20-73.865782%5D%2C%20%5B34.606487%2C%20-79.6838%5D%2C%20%5B38.567383%2C%20-121.333221%5D%2C%20%5B25.72695%2C%20-80.38375%5D%2C%20%5B25.700682999999998%2C%20-80.379687%5D%2C%20%5B39.975821999999994%2C%20-111.772453%5D%2C%20%5B33.809055%2C%20-118.287476%5D%2C%20%5B35.244102000000005%2C%20-80.846611%5D%2C%20%5B42.904309999999995%2C%20-85.52452%5D%2C%20%5B36.089779%2C%20-96.000198%5D%2C%20%5B37.9914%2C%20-122.30893%5D%2C%20%5B42.32011%2C%20-83.734161%5D%2C%20%5B30.359201000000002%2C%20-97.791092%5D%2C%20%5B39.994427%2C%20-76.638092%5D%2C%20%5B35.347733000000005%2C%20-119.04904199999999%5D%2C%20%5B42.978516%2C%20-77.232529%5D%2C%20%5B33.657055%2C%20-84.521774%5D%2C%20%5B25.94445%2C%20-80.294167%5D%2C%20%5B45.058079%2C%20-93.400909%5D%2C%20%5B39.759827%2C%20-111.835701%5D%2C%20%5B42.96324%2C%20-87.93460999999999%5D%2C%20%5B39.796261%2C%20-86.07386%5D%2C%20%5B34.006432000000004%2C%20-117.06650900000001%5D%2C%20%5B36.085896000000005%2C%20-86.699974%5D%2C%20%5B39.135902%2C%20-77.754784%5D%2C%20%5B38.54548%2C%20-90.42484%5D%2C%20%5B29.750290000000003%2C%20-95.46127299999999%5D%2C%20%5B32.19191%2C%20-110.855851%5D%2C%20%5B38.496121%2C%20-121.39052%5D%2C%20%5B33.963159999999995%2C%20-118.28106000000001%5D%2C%20%5B34.02233%2C%20-118.198169%5D%2C%20%5B43.035652%2C%20-83.754173%5D%2C%20%5B42.47603%2C%20-83.11779%5D%2C%20%5B32.295441%2C%20-95.290138%5D%2C%20%5B39.587184%2C%20-123.449238%5D%2C%20%5B40.30695%2C%20-83.094193%5D%2C%20%5B41.327444%2C%20-72.88047900000001%5D%2C%20%5B29.598827000000004%2C%20-95.353302%5D%2C%20%5B34.1211%2C%20-118.47972%5D%2C%20%5B34.088347999999996%2C%20-81.055157%5D%2C%20%5B29.833371999999997%2C%20-95.384331%5D%2C%20%5B40.076485%2C%20-75.34803000000001%5D%2C%20%5B34.037144%2C%20-118.30036899999999%5D%2C%20%5B35.81041%2C%20-78.601%5D%2C%20%5B34.063559999999995%2C%20-118.00028200000001%5D%2C%20%5B33.765848%2C%20-117.95277%5D%2C%20%5B45.608090000000004%2C%20-118.64646%5D%2C%20%5B37.57342%2C%20-77.4836%5D%2C%20%5B42.862846000000005%2C%20-73.781013%5D%2C%20%5B39.484649%2C%20-77.246675%5D%2C%20%5B29.82266%2C%20-95.563805%5D%2C%20%5B27.110221999999997%2C%20-82.349457%5D%2C%20%5B25.923348999999998%2C%20-80.20993%5D%2C%20%5B38.64793%2C%20-121.32775900000001%5D%2C%20%5B43.01041%2C%20-83.679642%5D%2C%20%5B42.723976%2C%20-84.51374799999999%5D%2C%20%5B36.094845%2C%20-95.920059%5D%2C%20%5B38.381240999999996%2C%20-122.806129%5D%2C%20%5B26.707929999999998%2C%20-80.15174%5D%2C%20%5B35.086166%2C%20-106.61316699999999%5D%2C%20%5B40.700520000000004%2C%20-73.815392%5D%2C%20%5B34.06876%2C%20-117.34919%5D%2C%20%5B36.959332%2C%20-78.087257%5D%2C%20%5B39.471691%2C%20-104.8722%5D%2C%20%5B32.827869%2C%20-96.886353%5D%2C%20%5B34.058014%2C%20-118.253949%5D%2C%20%5B33.637980999999996%2C%20-79.95121%5D%2C%20%5B29.737301000000002%2C%20-95.528999%5D%2C%20%5B28.45145%2C%20-81.20393%5D%2C%20%5B34.087021%2C%20-80.933159%5D%2C%20%5B40.733261%2C%20-74.35414899999999%5D%2C%20%5B25.733363%2C%20-80.367765%5D%2C%20%5B30.36808%2C%20-90.96891%5D%2C%20%5B25.787114000000003%2C%20-80.210988%5D%2C%20%5B37.9743%2C%20-121.966081%5D%2C%20%5B34.053688%2C%20-118.25806399999999%5D%2C%20%5B38.905977%2C%20-76.939751%5D%2C%20%5B34.318283%2C%20-119.1085%5D%2C%20%5B27.88032%2C%20-80.50135%5D%2C%20%5B34.166168%2C%20-81.270142%5D%2C%20%5B40.185429%2C%20-75.518997%5D%2C%20%5B45.700921%2C%20-93.81303299999999%5D%2C%20%5B47.6311%2C%20-122.187721%5D%2C%20%5B33.36104%2C%20-117.537621%5D%2C%20%5B34.135926%2C%20-117.385364%5D%2C%20%5B29.356293%2C%20-98.526031%5D%2C%20%5B30.431009999999997%2C%20-91.09543000000001%5D%2C%20%5B38.551970000000004%2C%20-121.43269%5D%2C%20%5B43.635337%2C%20-70.300878%5D%2C%20%5B35.16628%2C%20-80.88909%5D%2C%20%5B34.056084999999996%2C%20-118.255875%5D%2C%20%5B40.989629%2C%20-78.163286%5D%2C%20%5B36.744708%2C%20-76.54520500000001%5D%2C%20%5B39.005852000000004%2C%20-77.074016%5D%2C%20%5B40.434315000000005%2C%20-74.25125899999999%5D%2C%20%5B45.094570000000004%2C%20-93.40226700000001%5D%2C%20%5B44.65505%2C%20-121.11173000000001%5D%2C%20%5B43.598772%2C%20-116.54945500000001%5D%2C%20%5B37.83312%2C%20-122.294587%5D%2C%20%5B25.911716000000002%2C%20-80.20990400000001%5D%2C%20%5B34.364909999999995%2C%20-117.43111%5D%2C%20%5B40.715927%2C%20-73.82648499999999%5D%2C%20%5B34.272114%2C%20-119.27878600000001%5D%2C%20%5B32.863952000000005%2C%20-117.23616899999999%5D%2C%20%5B40.544407%2C%20-111.894974%5D%2C%20%5B33.397709000000006%2C%20-86.95903%5D%2C%20%5B34.589325%2C%20-82.642441%5D%2C%20%5B32.723827%2C%20-117.15133700000001%5D%2C%20%5B35.089161%2C%20-80.85347%5D%2C%20%5B41.19055%2C%20-111.97117%5D%2C%20%5B25.787688%2C%20-80.209869%5D%2C%20%5B32.88451%2C%20-96.89817%5D%2C%20%5B37.276932%2C%20-107.881027%5D%2C%20%5B39.017140000000005%2C%20-94.69315%5D%2C%20%5B43.12334%2C%20-75.39607%5D%2C%20%5B39.920761%2C%20-86.165062%5D%2C%20%5B37.193684000000005%2C%20-77.509079%5D%2C%20%5B41.10902%2C%20-74.078673%5D%2C%20%5B35.883967999999996%2C%20-119.27372%5D%2C%20%5B35.260899%2C%20-80.841225%5D%2C%20%5B39.847431%2C%20-84.311211%5D%2C%20%5B47.830090000000006%2C%20-122.265106%5D%2C%20%5B41.098541%2C%20-74.054123%5D%2C%20%5B33.778557%2C%20-84.241325%5D%2C%20%5B39.085251%2C%20-76.847137%5D%2C%20%5B40.100429999999996%2C%20-75.18988%5D%2C%20%5B34.408266999999995%2C%20-118.576431%5D%2C%20%5B32.925297%2C%20-97.08852399999999%5D%2C%20%5B35.080498%2C%20-82.061638%5D%2C%20%5B26.318255999999998%2C%20-80.116394%5D%2C%20%5B30.39252%2C%20-81.66714%5D%2C%20%5B36.948975%2C%20-80.888046%5D%2C%20%5B41.309963%2C%20-74.125656%5D%2C%20%5B28.548084000000003%2C%20-81.382423%5D%2C%20%5B38.48171%2C%20-121.510678%5D%2C%20%5B29.784895000000002%2C%20-95.64492%5D%2C%20%5B34.089211%2C%20-81.026558%5D%2C%20%5B34.8685%2C%20-81.22779799999999%5D%2C%20%5B40.72806%2C%20-111.98638999999999%5D%2C%20%5B44.2309%2C%20-93.44938%5D%2C%20%5B43.4066%2C%20-124.23035700000001%5D%2C%20%5B32.341266999999995%2C%20-86.225594%5D%2C%20%5B36.139709%2C%20-86.760811%5D%2C%20%5B35.219311%2C%20-80.799217%5D%2C%20%5B30.422909000000004%2C%20-91.139572%5D%2C%20%5B43.04972%2C%20-76.0713%5D%2C%20%5B45.00222%2C%20-93.089679%5D%2C%20%5B41.573209999999996%2C%20-72.72229%5D%2C%20%5B34.106747%2C%20-117.907669%5D%2C%20%5B29.953815000000002%2C%20-95.39988699999999%5D%2C%20%5B40.97503%2C%20-73.70294%5D%2C%20%5B34.458702%2C%20-119.688126%5D%2C%20%5B30.252159000000002%2C%20-97.68013%5D%2C%20%5B35.27148%2C%20-80.83705%5D%2C%20%5B33.595428000000005%2C%20-84.387825%5D%2C%20%5B29.754440000000002%2C%20-95.609833%5D%2C%20%5B40.124691%2C%20-75.117271%5D%2C%20%5B33.881771%2C%20-117.58252%5D%2C%20%5B35.855095%2C%20-78.581078%5D%2C%20%5B40.102790999999996%2C%20-83.036911%5D%2C%20%5B48.176829999999995%2C%20-122.193634%5D%2C%20%5B37.08534%2C%20-104.52174000000001%5D%2C%20%5B37.331711%2C%20-121.86468500000001%5D%2C%20%5B41.224018%2C%20-96.043098%5D%2C%20%5B40.983532000000004%2C%20-73.74368299999999%5D%2C%20%5B40.5411%2C%20-79.82321%5D%2C%20%5B30.184687%2C%20-81.557968%5D%2C%20%5B36.112140999999994%2C%20-95.88668100000001%5D%2C%20%5B33.585964000000004%2C%20-86.69725799999999%5D%2C%20%5B32.809585999999996%2C%20-96.921532%5D%2C%20%5B33.476994%2C%20-117.67347%5D%2C%20%5B40.787890999999995%2C%20-74.049214%5D%2C%20%5B29.76548%2C%20-95.45602%5D%2C%20%5B40.939316%2C%20-74.070854%5D%2C%20%5B34.711514%2C%20-86.533989%5D%2C%20%5B45.2914%2C%20-93.55535%5D%2C%20%5B39.8611%2C%20-104.98749%5D%2C%20%5B33.914926%2C%20-118.370526%5D%2C%20%5B30.287657%2C%20-97.665413%5D%2C%20%5B45.51007%2C%20-92.994598%5D%2C%20%5B35.875408%2C%20-78.576477%5D%2C%20%5B34.00072%2C%20-117.844851%5D%2C%20%5B37.592258%2C%20-85.869415%5D%2C%20%5B34.1511%2C%20-118.151101%5D%2C%20%5B35.859562%2C%20-78.680679%5D%2C%20%5B32.489164%2C%20-85.632345%5D%2C%20%5B32.763359%2C%20-96.68261700000001%5D%2C%20%5B33.774382%2C%20-118.09934299999999%5D%2C%20%5B34.06423%2C%20-118.15952%5D%2C%20%5B29.940561%2C%20-95.41377299999999%5D%2C%20%5B29.889867%2C%20-82.67382099999999%5D%2C%20%5B43.037548%2C%20-89.388527%5D%2C%20%5B34.044762%2C%20-81.12230699999999%5D%2C%20%5B41.872391%2C%20-88.032997%5D%2C%20%5B35.00103%2C%20-83.055054%5D%2C%20%5B34.84774%2C%20-81.969727%5D%2C%20%5B32.676651%2C%20-117.084488%5D%2C%20%5B26.612476%2C%20-81.802788%5D%2C%20%5B33.631725%2C%20-84.409882%5D%2C%20%5B34.00193%2C%20-84.073853%5D%2C%20%5B28.088005%2C%20-82.45954%5D%2C%20%5B36.852160999999995%2C%20-120.055908%5D%2C%20%5B42.36319%2C%20-71.1353%5D%2C%20%5B33.766163%2C%20-117.937693%5D%2C%20%5B34.135360999999996%2C%20-79.74593399999999%5D%2C%20%5B25.94225%2C%20-80.345474%5D%2C%20%5B40.809177000000005%2C%20-73.160011%5D%2C%20%5B41.497839%2C%20-95.123866%5D%2C%20%5B35.17812%2C%20-80.800911%5D%2C%20%5B33.830051%2C%20-84.36020699999999%5D%2C%20%5B35.320229%2C%20-80.828972%5D%2C%20%5B33.711597%2C%20-84.217415%5D%2C%20%5B25.597698%2C%20-80.37473299999999%5D%2C%20%5B34.580459999999995%2C%20-112.3562%5D%2C%20%5B36.344165999999994%2C%20-82.375793%5D%2C%20%5B36.170258000000004%2C%20-86.601357%5D%2C%20%5B33.592090999999996%2C%20-117.124969%5D%2C%20%5B36.139378%2C%20-86.819115%5D%2C%20%5B30.346816999999998%2C%20-91.029877%5D%2C%20%5B37.640991%2C%20-77.515968%5D%2C%20%5B36.75638%2C%20-121.66505%5D%2C%20%5B38.201908%2C%20-77.49979%5D%2C%20%5B29.937033000000003%2C%20-95.51616700000001%5D%2C%20%5B37.729462%2C%20-122.186741%5D%2C%20%5B40.857166%2C%20-73.968475%5D%2C%20%5B29.751236%2C%20-95.525749%5D%2C%20%5B40.004551%2C%20-75.28433199999999%5D%2C%20%5B40.814407%2C%20-73.020027%5D%2C%20%5B32.590675%2C%20-96.822388%5D%2C%20%5B32.89167%2C%20-79.96732%5D%2C%20%5B37.670435999999995%2C%20-121.453975%5D%2C%20%5B42.2198%2C%20-88.06679%5D%2C%20%5B31.782367999999998%2C%20-106.3022%5D%2C%20%5B38.057307%2C%20-78.495132%5D%2C%20%5B36.14963%2C%20-86.77278000000001%5D%2C%20%5B47.687893%2C%20-117.42663600000002%5D%2C%20%5B40.610237%2C%20-74.105316%5D%2C%20%5B37.333583000000004%2C%20-119.649125%5D%2C%20%5B41.817638%2C%20-87.684395%5D%2C%20%5B39.276451%2C%20-85.75721%5D%2C%20%5B37.729462%2C%20-122.186741%5D%2C%20%5B32.03007%2C%20-81.11523000000001%5D%2C%20%5B39.17606%2C%20-76.860039%5D%2C%20%5B28.610059999999997%2C%20-81.285515%5D%2C%20%5B40.376012%2C%20-111.90169499999999%5D%2C%20%5B36.284283%2C%20-82.45015%5D%2C%20%5B45.145604999999996%2C%20-122.770496%5D%2C%20%5B28.566865999999997%2C%20-81.20766400000001%5D%2C%20%5B41.945591%2C%20-74.03008299999999%5D%2C%20%5B41.82506%2C%20-71.43027%5D%2C%20%5B35.46011%2C%20-97.585533%5D%2C%20%5B33.947331%2C%20-118.279698%5D%2C%20%5B32.764839%2C%20-97.130028%5D%2C%20%5B37.390456%2C%20-121.86955900000001%5D%2C%20%5B38.670387%2C%20-77.25325%5D%2C%20%5B37.560711%2C%20-77.479279%5D%2C%20%5B35.42918%2C%20-120.75170800000001%5D%2C%20%5B42.487061%2C%20-83.47573100000001%5D%2C%20%5B34.988690000000005%2C%20-82.01998%5D%2C%20%5B34.794758%2C%20-82.231049%5D%2C%20%5B34.075031%2C%20-80.946083%5D%2C%20%5B44.23267%2C%20-94.02735%5D%2C%20%5B32.66277%2C%20-117.10927%5D%2C%20%5B35.23941%2C%20-80.826759%5D%2C%20%5B30.397169%2C%20-91.017609%5D%2C%20%5B38.307903%2C%20-104.613762%5D%2C%20%5B29.814771999999998%2C%20-95.34536700000001%5D%2C%20%5B40.181225%2C%20-75.211876%5D%2C%20%5B26.098873%2C%20-80.25029%5D%2C%20%5B32.470945%2C%20-93.773326%5D%2C%20%5B35.36564%2C%20-80.78444%5D%2C%20%5B38.447189%2C%20-122.72456399999999%5D%2C%20%5B27.408381%2C%20-80.400337%5D%2C%20%5B33.665981%2C%20-117.75393700000001%5D%2C%20%5B35.447036%2C%20-80.605798%5D%2C%20%5B30.24045%2C%20-97.760696%5D%2C%20%5B34.147976%2C%20-118.075432%5D%2C%20%5B42.592758%2C%20-82.857651%5D%2C%20%5B38.854696000000004%2C%20-121.106481%5D%2C%20%5B35.30993%2C%20-80.83882%5D%2C%20%5B26.461884%2C%20-80.08886%5D%2C%20%5B34.100294%2C%20-117.53929199999999%5D%2C%20%5B25.757407%2C%20-80.193729%5D%2C%20%5B29.321819%2C%20-98.477898%5D%2C%20%5B28.55965%2C%20-81.448309%5D%2C%20%5B33.956025%2C%20-118.109325%5D%2C%20%5B42.3666%2C%20-83.06244000000001%5D%2C%20%5B42.800377000000005%2C%20-71.09275799999999%5D%2C%20%5B30.281971000000002%2C%20-97.707718%5D%2C%20%5B34.044765000000005%2C%20-81.118057%5D%2C%20%5B32.92498%2C%20-96.838707%5D%2C%20%5B39.68993%2C%20-86.018188%5D%2C%20%5B44.862801%2C%20-93.129478%5D%2C%20%5B33.918831%2C%20-118.178955%5D%2C%20%5B34.913559%2C%20-82.08377800000001%5D%2C%20%5B29.632040000000003%2C%20-95.357529%5D%2C%20%5B30.352476%2C%20-81.555084%5D%2C%20%5B29.779163%2C%20-95.547783%5D%2C%20%5B39.9282%2C%20-104.987648%5D%2C%20%5B38.543845000000005%2C%20-121.473781%5D%2C%20%5B39.505947%2C%20-119.780502%5D%2C%20%5B42.848616%2C%20-71.359286%5D%2C%20%5B25.783070000000002%2C%20-80.269012%5D%2C%20%5B38.625202%2C%20-121.41418300000001%5D%2C%20%5B26.301140000000004%2C%20-80.178108%5D%2C%20%5B45.808128%2C%20-94.273552%5D%2C%20%5B36.063953000000005%2C%20-80.262772%5D%2C%20%5B38.662001000000004%2C%20-121.358772%5D%2C%20%5B33.986045000000004%2C%20-118.280239%5D%2C%20%5B33.502608%2C%20-117.65428700000001%5D%2C%20%5B29.99571%2C%20-90.11608000000001%5D%2C%20%5B35.646446000000005%2C%20-78.833473%5D%2C%20%5B41.871208%2C%20-88.06662800000001%5D%2C%20%5B46.211420000000004%2C%20-92.83816999999999%5D%2C%20%5B38.190163%2C%20-85.767288%5D%2C%20%5B42.950638%2C%20-78.70385%5D%2C%20%5B45.556067999999996%2C%20-122.69818899999999%5D%2C%20%5B33.908581%2C%20-79.067871%5D%2C%20%5B30.266941%2C%20-97.78479%5D%2C%20%5B35.23568%2C%20-80.8389%5D%2C%20%5B34.673747999999996%2C%20-86.7519%5D%2C%20%5B30.269165%2C%20-97.775841%5D%2C%20%5B37.496086%2C%20-120.871696%5D%2C%20%5B35.21776%2C%20-80.92325600000001%5D%2C%20%5B27.902884000000004%2C%20-82.69291700000001%5D%2C%20%5B42.776%2C%20-77.80391999999999%5D%2C%20%5B45.335538%2C%20-122.76956000000001%5D%2C%20%5B33.929256%2C%20-81.04255699999999%5D%2C%20%5B35.807655%2C%20-78.72285500000001%5D%2C%20%5B35.775501%2C%20-78.636719%5D%2C%20%5B42.525185%2C%20-71.08081800000001%5D%2C%20%5B43.66234%2C%20-124.18774599999999%5D%2C%20%5B29.883309999999998%2C%20-95.198112%5D%2C%20%5B37.945353999999995%2C%20-122.05801399999999%5D%2C%20%5B40.59191%2C%20-74.23568%5D%2C%20%5B35.080551%2C%20-81.979637%5D%2C%20%5B33.821548%2C%20-84.359383%5D%2C%20%5B43.120071%2C%20-77.480797%5D%2C%20%5B38.826493%2C%20-122.190444%5D%2C%20%5B35.184490000000004%2C%20-80.886108%5D%2C%20%5B36.570137%2C%20-121.78973400000001%5D%2C%20%5B32.666340000000005%2C%20-97.32500999999999%5D%2C%20%5B32.760082000000004%2C%20-96.75083199999999%5D%2C%20%5B34.562889%2C%20-82.60994000000001%5D%2C%20%5B32.22144%2C%20-110.9438%5D%2C%20%5B38.582785%2C%20-121.50265700000001%5D%2C%20%5B32.791866%2C%20-96.79291500000001%5D%2C%20%5B35.433623%2C%20-120.885819%5D%2C%20%5B40.766525%2C%20-73.404251%5D%2C%20%5B46.23506%2C%20-123.87196000000002%5D%2C%20%5B33.58215%2C%20-111.927872%5D%2C%20%5B33.76595%2C%20-117.9658%5D%2C%20%5B34.066794%2C%20-117.445167%5D%2C%20%5B40.824348%2C%20-73.820213%5D%2C%20%5B39.042288%2C%20-94.362441%5D%2C%20%5B36.297947%2C%20-86.811638%5D%2C%20%5B34.492172%2C%20-118.28369099999999%5D%2C%20%5B34.152473%2C%20-118.1213%5D%2C%20%5B36.87294%2C%20-76.379442%5D%2C%20%5B29.939190000000004%2C%20-90.066551%5D%2C%20%5B35.429565000000004%2C%20-97.653976%5D%2C%20%5B32.730663%2C%20-96.874245%5D%2C%20%5B40.34545%2C%20-74.19543%5D%2C%20%5B41.157421%2C%20-95.935226%5D%2C%20%5B30.28112%2C%20-97.725578%5D%2C%20%5B37.659844%2C%20-122.103742%5D%2C%20%5B32.4492%2C%20-93.778198%5D%2C%20%5B38.785087%2C%20-90.532898%5D%2C%20%5B35.073233%2C%20-85.190525%5D%2C%20%5B25.735214000000003%2C%20-80.319257%5D%2C%20%5B42.255119%2C%20-88.001442%5D%2C%20%5B32.759223999999996%2C%20-97.06349200000001%5D%2C%20%5B33.859938%2C%20-117.98678000000001%5D%2C%20%5B29.682470000000002%2C%20-95.423958%5D%2C%20%5B38.84428%2C%20-77.08148%5D%2C%20%5B41.593395%2C%20-93.620323%5D%2C%20%5B37.62127%2C%20-122.07718%5D%2C%20%5B41.298223%2C%20-73.935117%5D%2C%20%5B39.242737%2C%20-84.301125%5D%2C%20%5B33.83174%2C%20-118.25608999999999%5D%2C%20%5B34.021786%2C%20-84.32416500000001%5D%2C%20%5B43.150488%2C%20-75.97474100000001%5D%2C%20%5B35.469894000000004%2C%20-97.51944%5D%2C%20%5B37.633456%2C%20-77.90164%5D%2C%20%5B45.04055%2C%20-93.1894%5D%2C%20%5B33.780322999999996%2C%20-117.878708%5D%2C%20%5B32.670959%2C%20-96.94722%5D%2C%20%5B35.310128999999996%2C%20-80.755659%5D%2C%20%5B33.86132%2C%20-118.285179%5D%2C%20%5B40.086384%2C%20-75.235573%5D%2C%20%5B36.291975%2C%20-119.156566%5D%2C%20%5B33.924659999999996%2C%20-118.103699%5D%2C%20%5B30.352422999999998%2C%20-97.592545%5D%2C%20%5B34.113476%2C%20-118.176201%5D%2C%20%5B37.60629%2C%20-97.3248%5D%2C%20%5B30.44142%2C%20-97.740799%5D%2C%20%5B32.64236%2C%20-96.81563%5D%2C%20%5B37.214560999999996%2C%20-121.987862%5D%2C%20%5B47.571896%2C%20-122.32040400000001%5D%2C%20%5B44.966136999999996%2C%20-93.255608%5D%2C%20%5B40.782374%2C%20-76.170677%5D%2C%20%5B33.949795%2C%20-118.092033%5D%2C%20%5B35.503116999999996%2C%20-97.56568100000001%5D%2C%20%5B32.720501%2C%20-96.918121%5D%2C%20%5B35.617151%2C%20-78.53286800000001%5D%2C%20%5B39.953564%2C%20-82.958733%5D%2C%20%5B39.198631%2C%20-121.31610900000001%5D%2C%20%5B33.928932%2C%20-118.281097%5D%2C%20%5B33.931053000000006%2C%20-118.364746%5D%2C%20%5B37.411840999999995%2C%20-122.07809499999999%5D%2C%20%5B33.483658%2C%20-86.826378%5D%2C%20%5B40.833431%2C%20-74.021439%5D%2C%20%5B42.30265%2C%20-71.225342%5D%2C%20%5B40.343581%2C%20-120.913431%5D%2C%20%5B29.848141%2C%20-95.342888%5D%2C%20%5B44.54315%2C%20-93.84937%5D%2C%20%5B34.022625%2C%20-118.15661599999999%5D%2C%20%5B30.418609999999997%2C%20-91.086548%5D%2C%20%5B33.35723%2C%20-80.58935%5D%2C%20%5B33.943194%2C%20-117.871874%5D%2C%20%5B40.04805%2C%20-74.999611%5D%2C%20%5B26.505198999999998%2C%20-81.911156%5D%2C%20%5B32.816071%2C%20-96.86621099999999%5D%2C%20%5B39.628036%2C%20-84.16840400000001%5D%2C%20%5B35.207458%2C%20-80.711446%5D%2C%20%5B40.610015999999995%2C%20-74.033699%5D%2C%20%5B36.079547999999996%2C%20-86.72627299999999%5D%2C%20%5B35.589599%2C%20-114.394181%5D%2C%20%5B28.606688000000002%2C%20-81.386452%5D%2C%20%5B40.163994%2C%20-84.978577%5D%2C%20%5B34.186840000000004%2C%20-118.474014%5D%2C%20%5B41.050354%2C%20-73.810837%5D%2C%20%5B26.671618%2C%20-80.070065%5D%2C%20%5B39.636219%2C%20-84.21775799999999%5D%2C%20%5B40.380173%2C%20-76.661171%5D%2C%20%5B34.04076%2C%20-118.221352%5D%2C%20%5B33.580391%2C%20-117.671654%5D%2C%20%5B29.736165999999997%2C%20-95.60584300000001%5D%2C%20%5B30.388759999999998%2C%20-97.710426%5D%2C%20%5B33.711155%2C%20-84.214294%5D%2C%20%5B38.884335%2C%20-94.790863%5D%2C%20%5B38.802006%2C%20-77.163635%5D%2C%20%5B25.812777%2C%20-80.207161%5D%2C%20%5B32.871689%2C%20-80.01334399999999%5D%2C%20%5B43.73165%2C%20-70.7095%5D%2C%20%5B47.68595%2C%20-122.18297%5D%2C%20%5B37.582264%2C%20-122.252853%5D%2C%20%5B36.130293%2C%20-86.90024%5D%2C%20%5B34.301132%2C%20-118.477368%5D%2C%20%5B35.173199%2C%20-80.898712%5D%2C%20%5B35.673190999999996%2C%20-78.951103%5D%2C%20%5B45.02926%2C%20-93.08929%5D%2C%20%5B29.682598%2C%20-95.339752%5D%2C%20%5B33.960163%2C%20-118.25639299999999%5D%2C%20%5B42.476357%2C%20-83.11144300000001%5D%2C%20%5B42.240227000000004%2C%20-87.901466%5D%2C%20%5B29.130589%2C%20-82.029701%5D%2C%20%5B35.26915%2C%20-80.814552%5D%2C%20%5B41.782990000000005%2C%20-71.423927%5D%2C%20%5B32.778126%2C%20-96.807602%5D%2C%20%5B35.92324%2C%20-78.9269%5D%2C%20%5B41.34133%2C%20-83.27266999999999%5D%2C%20%5B32.228577%2C%20-80.78643000000001%5D%2C%20%5B41.833031%2C%20-88.102814%5D%2C%20%5B30.196989000000002%2C%20-97.787323%5D%2C%20%5B33.945152%2C%20-79.02889300000001%5D%2C%20%5B39.079788%2C%20-120.959267%5D%2C%20%5B44.80377%2C%20-117.77382%5D%2C%20%5B40.255894%2C%20-75.354607%5D%2C%20%5B25.927745%2C%20-80.213702%5D%2C%20%5B38.337076%2C%20-121.82320700000001%5D%2C%20%5B32.64674%2C%20-86.762947%5D%2C%20%5B42.01852%2C%20-122.61051%5D%2C%20%5B32.778446%2C%20-96.78154%5D%2C%20%5B29.519524%2C%20-98.427475%5D%2C%20%5B39.470959%2C%20-76.23428299999999%5D%2C%20%5B33.853424%2C%20-118.217735%5D%2C%20%5B39.137890000000006%2C%20-76.75695%5D%2C%20%5B33.465538%2C%20-81.99688%5D%2C%20%5B33.400349%2C%20-111.85698700000002%5D%2C%20%5B38.311562%2C%20-120.720398%5D%2C%20%5B33.984055%2C%20-84.541924%5D%2C%20%5B33.996544%2C%20-117.93276200000001%5D%2C%20%5B29.870921999999997%2C%20-95.417404%5D%2C%20%5B34.5597%2C%20-82.627769%5D%2C%20%5B28.224290000000003%2C%20-81.32025%5D%2C%20%5B39.266090999999996%2C%20-76.597183%5D%2C%20%5B34.982559%2C%20-120.57055700000001%5D%2C%20%5B28.36895%2C%20-81.366737%5D%2C%20%5B33.82065%2C%20-84.361%5D%2C%20%5B42.007065000000004%2C%20-88.336205%5D%2C%20%5B32.441990000000004%2C%20-93.771568%5D%2C%20%5B39.948879%2C%20-86.01383100000001%5D%2C%20%5B42.863895%2C%20-82.555832%5D%2C%20%5B35.848461%2C%20-78.575066%5D%2C%20%5B35.737244%2C%20-83.023911%5D%2C%20%5B28.793578000000004%2C%20-81.346692%5D%2C%20%5B37.425090999999995%2C%20-121.87087199999999%5D%2C%20%5B40.12035%2C%20-75.354988%5D%2C%20%5B29.859727000000003%2C%20-95.42376800000001%5D%2C%20%5B26.00356%2C%20-80.33903000000001%5D%2C%20%5B41.256331%2C%20-77.00703%5D%2C%20%5B40.966898%2C%20-76.879237%5D%2C%20%5B28.535140000000002%2C%20-81.38666500000001%5D%2C%20%5B37.290535%2C%20-79.909767%5D%2C%20%5B33.950893%2C%20-80.971848%5D%2C%20%5B37.834919%2C%20-122.48389399999999%5D%2C%20%5B45.972708000000004%2C%20-94.32394599999999%5D%2C%20%5B33.910571000000004%2C%20-84.28371800000001%5D%2C%20%5B35.421413%2C%20-80.776886%5D%2C%20%5B38.907387%2C%20-77.45768699999999%5D%2C%20%5B42.720116%2C%20-82.75410500000001%5D%2C%20%5B34.528844%2C%20-118.09158500000001%5D%2C%20%5B36.707543%2C%20-78.116194%5D%2C%20%5B34.049702%2C%20-118.21416%5D%2C%20%5B38.104416%2C%20-121.26031499999999%5D%2C%20%5B34.030285%2C%20-117.702518%5D%2C%20%5B31.772514%2C%20-106.47328200000001%5D%2C%20%5B35.962396999999996%2C%20-119.053596%5D%2C%20%5B25.819786999999998%2C%20-80.248765%5D%2C%20%5B39.205639%2C%20-84.73689300000001%5D%2C%20%5B34.390514%2C%20-79.445718%5D%2C%20%5B29.902555%2C%20-95.31147800000001%5D%2C%20%5B30.191710999999998%2C%20-81.705605%5D%2C%20%5B40.593247999999996%2C%20-111.902629%5D%2C%20%5B27.55612%2C%20-82.558838%5D%2C%20%5B40.85202%2C%20-96.62487%5D%2C%20%5B38.539425%2C%20-90.484001%5D%2C%20%5B35.894164%2C%20-87.641414%5D%2C%20%5B40.635979999999996%2C%20-111.90203999999999%5D%2C%20%5B42.037890999999995%2C%20-87.869194%5D%2C%20%5B37.015589%2C%20-76.453717%5D%2C%20%5B32.186009999999996%2C%20-81.19893%5D%2C%20%5B30.167881%2C%20-97.793994%5D%2C%20%5B41.474575%2C%20-81.692802%5D%2C%20%5B34.483662%2C%20-81.953537%5D%2C%20%5B38.705096999999995%2C%20-90.339996%5D%2C%20%5B28.209745%2C%20-82.739464%5D%2C%20%5B44.40701%2C%20-123.88141%5D%2C%20%5B45.499128999999996%2C%20-122.516196%5D%2C%20%5B34.858849%2C%20-82.26042199999999%5D%2C%20%5B32.923939000000004%2C%20-96.769295%5D%2C%20%5B43.95503%2C%20-92.15057%5D%2C%20%5B38.86375%2C%20-77.220451%5D%2C%20%5B46.617121999999995%2C%20-111.86344799999999%5D%2C%20%5B30.000653999999997%2C%20-90.199478%5D%2C%20%5B29.41674%2C%20-98.45229300000001%5D%2C%20%5B35.449718%2C%20-97.654053%5D%2C%20%5B35.182460999999996%2C%20-80.871437%5D%2C%20%5B39.22065%2C%20-76.65548000000001%5D%2C%20%5B44.08263%2C%20-117.016035%5D%2C%20%5B34.31589%2C%20-117.49555%5D%2C%20%5B44.861946%2C%20-93.308983%5D%2C%20%5B29.395046%2C%20-98.478073%5D%2C%20%5B33.103481%2C%20-117.310768%5D%2C%20%5B35.745369000000004%2C%20-120.700249%5D%2C%20%5B35.921890999999995%2C%20-118.93338500000002%5D%2C%20%5B42.97826%2C%20-85.657066%5D%2C%20%5B33.848869%2C%20-84.430977%5D%2C%20%5B34.003983000000005%2C%20-117.83016200000002%5D%2C%20%5B42.146473%2C%20-71.066551%5D%2C%20%5B33.53864%2C%20-112.09951000000001%5D%2C%20%5B33.68676%2C%20-112.41214%5D%2C%20%5B37.926601%2C%20-122.51476299999999%5D%2C%20%5B38.835415000000005%2C%20-77.448776%5D%2C%20%5B45.52901%2C%20-122.60196%5D%2C%20%5B29.732201%2C%20-95.387466%5D%2C%20%5B30.18327%2C%20-81.631798%5D%2C%20%5B33.442161999999996%2C%20-86.73037%5D%2C%20%5B33.738208%2C%20-117.928679%5D%2C%20%5B34.081905%2C%20-117.715675%5D%2C%20%5B41.380775%2C%20-81.65418199999999%5D%2C%20%5B32.82148%2C%20-117.16228500000001%5D%2C%20%5B39.855912%2C%20-122.20016899999999%5D%2C%20%5B30.403589%2C%20-91.172333%5D%2C%20%5B33.964283%2C%20-118.120224%5D%2C%20%5B33.802532%2C%20-117.232826%5D%2C%20%5B32.643284%2C%20-117.05754099999999%5D%2C%20%5B38.245449%2C%20-122.07951399999999%5D%2C%20%5B34.03338%2C%20-118.17028%5D%2C%20%5B33.511829%2C%20-82.106277%5D%2C%20%5B30.420919%2C%20-91.187523%5D%2C%20%5B39.836059999999996%2C%20-75.09174%5D%2C%20%5B38.001796999999996%2C%20-122.281807%5D%2C%20%5B30.242945000000002%2C%20-97.736122%5D%2C%20%5B30.670196999999998%2C%20-91.26011700000001%5D%2C%20%5B38.13203%2C%20-84.487061%5D%2C%20%5B37.839220000000005%2C%20-122.29693999999999%5D%2C%20%5B32.8475%2C%20-117.236038%5D%2C%20%5B25.693541%2C%20-80.333748%5D%2C%20%5B45.21073%2C%20-93.58394%5D%2C%20%5B34.473515%2C%20-117.12505300000001%5D%2C%20%5B43.01931%2C%20-83.71106%5D%2C%20%5B28.560968%2C%20-81.253006%5D%2C%20%5B35.235596%2C%20-80.951859%5D%2C%20%5B41.044968%2C%20-73.765038%5D%2C%20%5B38.247785%2C%20-122.629727%5D%2C%20%5B37.8764%2C%20-122.04636399999998%5D%2C%20%5B34.126196%2C%20-117.916106%5D%2C%20%5B34.066718%2C%20-117.226183%5D%2C%20%5B29.72625%2C%20-95.46888%5D%2C%20%5B34.103972999999996%2C%20-118.19099399999999%5D%2C%20%5B47.158931%2C%20-122.40646000000001%5D%2C%20%5B34.015709%2C%20-117.339882%5D%2C%20%5B34.034721000000005%2C%20-118.170158%5D%2C%20%5B29.760756%2C%20-95.361908%5D%2C%20%5B33.46188%2C%20-112.05241000000001%5D%2C%20%5B28.591285%2C%20-81.380399%5D%2C%20%5B40.634251%2C%20-76.193832%5D%2C%20%5B40.558933%2C%20-111.898117%5D%2C%20%5B33.685471%2C%20-78.96530899999999%5D%5D%2C%0A%20%20%20%20%20%20%20%20%20%20%20%20%20%20%20%20%7B%0A%20%20%20%20%20%20%20%20%20%20%20%20%20%20%20%20%20%20%20%20minOpacity%3A%200.5%2C%0A%20%20%20%20%20%20%20%20%20%20%20%20%20%20%20%20%20%20%20%20maxZoom%3A%2018%2C%0A%20%20%20%20%20%20%20%20%20%20%20%20%20%20%20%20%20%20%20%20max%3A%201.0%2C%0A%20%20%20%20%20%20%20%20%20%20%20%20%20%20%20%20%20%20%20%20radius%3A%2025%2C%0A%20%20%20%20%20%20%20%20%20%20%20%20%20%20%20%20%20%20%20%20blur%3A%2015%2C%0A%20%20%20%20%20%20%20%20%20%20%20%20%20%20%20%20%20%20%20%20gradient%3A%20null%0A%20%20%20%20%20%20%20%20%20%20%20%20%20%20%20%20%20%20%20%20%7D%29%0A%20%20%20%20%20%20%20%20%20%20%20%20%20%20%20%20.addTo%28map_a1f84245da024063b927f01f4476f135%29%3B%0A%20%20%20%20%20%20%20%20%0A%3C/script%3E onload=\"this.contentDocument.open();this.contentDocument.write(    decodeURIComponent(this.getAttribute('data-html')));this.contentDocument.close();\" allowfullscreen webkitallowfullscreen mozallowfullscreen></iframe></div></div>"
            ],
            "text/plain": [
              "<folium.folium.Map at 0x7f9e6aaa2fd0>"
            ]
          },
          "metadata": {
            "tags": []
          },
          "execution_count": 45
        }
      ]
    },
    {
      "cell_type": "code",
      "metadata": {
        "id": "nso5eQzTjNe2"
      },
      "source": [
        ""
      ],
      "execution_count": null,
      "outputs": []
    },
    {
      "cell_type": "markdown",
      "metadata": {
        "id": "G0suRuyqjOKD"
      },
      "source": [
        "# **Ask & answer questions**\n",
        "Are there more accidents in warmer or colder areas?\n",
        "\n",
        "1.   Are there more accidents in warmer or colder areas?\n",
        "\n",
        "2.  Which 5 states have the highest number of accidents? How about per capita?\n",
        "3.  Does New York show up in the data? If yes, why is the count lower if this the most populated city.\n",
        "4. Among the top 100 cities in number of accidents, which states do they belong to most frequently.\n",
        "5.  What time of the day are accidents most frequent in? - ANSWERED\n",
        "6.  Which days of the week have the most accidents?\n",
        "7.  Which months have the most accidents?\n",
        "8.  What is the trend of accidents year over year (decreasing/increasing?)\n",
        "9.  When is accidents per unit of traffic the highest."
      ]
    },
    {
      "cell_type": "code",
      "metadata": {
        "id": "238YXOUYjq8n"
      },
      "source": [
        ""
      ],
      "execution_count": null,
      "outputs": []
    },
    {
      "cell_type": "code",
      "metadata": {
        "id": "O7DMsliMjsLV"
      },
      "source": [
        ""
      ],
      "execution_count": null,
      "outputs": []
    },
    {
      "cell_type": "code",
      "metadata": {
        "id": "gpv-a3nwjryl"
      },
      "source": [
        ""
      ],
      "execution_count": null,
      "outputs": []
    },
    {
      "cell_type": "markdown",
      "metadata": {
        "id": "eAHk_tfXjsgi"
      },
      "source": [
        "# **Summary and Conclusion**\n",
        "**Insights:**\n",
        "\n",
        "\n",
        "*   No data from New York\n",
        "*   The number of accidents per city decreases exponentially\n",
        "*  Less than 5% of cities have more than 1000 yearly accidents.\n",
        "*   Over 1200 cities have reported just one accident (need to investigate)\n",
        "\n"
      ]
    },
    {
      "cell_type": "code",
      "metadata": {
        "id": "LgnuT2lkkqo4"
      },
      "source": [
        ""
      ],
      "execution_count": null,
      "outputs": []
    },
    {
      "cell_type": "code",
      "metadata": {
        "id": "TS7W0kqPkqzJ"
      },
      "source": [
        ""
      ],
      "execution_count": null,
      "outputs": []
    }
  ]
}